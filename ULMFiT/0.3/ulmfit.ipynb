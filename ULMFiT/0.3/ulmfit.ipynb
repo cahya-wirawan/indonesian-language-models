{
 "cells": [
  {
   "cell_type": "code",
   "execution_count": null,
   "metadata": {},
   "outputs": [],
   "source": [
    "import json\n",
    "import pathlib\n",
    "import numpy as np\n",
    "import pandas as pd\n",
    "import html\n",
    "import re\n",
    "import sklearn\n",
    "from tqdm import tqdm\n",
    "from fastai.text import *"
   ]
  },
  {
   "cell_type": "code",
   "execution_count": null,
   "metadata": {},
   "outputs": [],
   "source": [
    "LANG = 'id'\n",
    "PATH_ROOT = Path(f'lmdata/{LANG}')\n",
    "PATH_DATASET = Path(f'{PATH_ROOT}/dataset/BPPTIndToEngCorpus')\n",
    "PATH_MODELS = Path(f'{PATH_ROOT}/models/')\n",
    "PATH_TMP = Path(f'{PATH_ROOT}/tmp/')\n",
    "np.random.seed(42)"
   ]
  },
  {
   "cell_type": "markdown",
   "metadata": {},
   "source": [
    "# Language Model"
   ]
  },
  {
   "cell_type": "code",
   "execution_count": null,
   "metadata": {},
   "outputs": [],
   "source": []
  },
  {
   "cell_type": "markdown",
   "metadata": {},
   "source": [
    "# Text Classification"
   ]
  },
  {
   "cell_type": "code",
   "execution_count": null,
   "metadata": {},
   "outputs": [],
   "source": [
    "LANG_FILENAMES = [str(f) for f in PATH_DATASET.rglob(\"*-ID-*.txt\")]\n",
    "print(len(LANG_FILENAMES))\n",
    "LANG_FILENAMES"
   ]
  },
  {
   "cell_type": "code",
   "execution_count": null,
   "metadata": {},
   "outputs": [],
   "source": [
    "CLASSES = {v:i for i,v in enumerate(['ECO', 'INT', 'SCI', 'SPO'])}\n",
    "LANG_TEXT = []\n",
    "for fn in tqdm(LANG_FILENAMES):\n",
    "    CLASSNAME = re.sub('.+-([A-Z]+)-ID.+', r'\\1', fn)\n",
    "    for line in open(fn, encoding='utf8'):\n",
    "        LANG_TEXT.append((CLASSES[CLASSNAME], line.rstrip()))\n",
    "\n",
    "df = pd.DataFrame.from_records(LANG_TEXT, columns=['label', 'text'])\n",
    "df.head()"
   ]
  },
  {
   "cell_type": "code",
   "execution_count": null,
   "metadata": {},
   "outputs": [],
   "source": [
    "df.to_csv(f\"{PATH_DATASET}/bppt_panl.csv\", header=False, index=False)"
   ]
  },
  {
   "cell_type": "code",
   "execution_count": null,
   "metadata": {},
   "outputs": [],
   "source": [
    "df = pd.read_csv(f\"{PATH_DATASET}/bppt_panl.csv\")\n",
    "df.columns = ['label', 'text']"
   ]
  },
  {
   "cell_type": "code",
   "execution_count": null,
   "metadata": {},
   "outputs": [],
   "source": [
    "df.head()"
   ]
  },
  {
   "cell_type": "code",
   "execution_count": null,
   "metadata": {},
   "outputs": [],
   "source": [
    "trn_texts, val_texts = sklearn.model_selection.train_test_split(\n",
    "    df, test_size=0.1, random_state=1) # split the data into train and validation sets"
   ]
  },
  {
   "cell_type": "code",
   "execution_count": null,
   "metadata": {},
   "outputs": [],
   "source": [
    "trn_texts[:5]"
   ]
  },
  {
   "cell_type": "code",
   "execution_count": null,
   "metadata": {},
   "outputs": [],
   "source": [
    "trn_texts.to_csv(f\"{PATH_DATASET}/bppt_panl_train.csv\", header=False, index=False)\n",
    "val_texts.to_csv(f\"{PATH_DATASET}/bppt_panl_test.csv\", header=False, index=False)"
   ]
  }
 ],
 "metadata": {
  "kernelspec": {
   "display_name": "Python 3",
   "language": "python",
   "name": "python3"
  },
  "language_info": {
   "codemirror_mode": {
    "name": "ipython",
    "version": 3
   },
   "file_extension": ".py",
   "mimetype": "text/x-python",
   "name": "python",
   "nbconvert_exporter": "python",
   "pygments_lexer": "ipython3",
   "version": "3.7.2"
  }
 },
 "nbformat": 4,
 "nbformat_minor": 2
}
