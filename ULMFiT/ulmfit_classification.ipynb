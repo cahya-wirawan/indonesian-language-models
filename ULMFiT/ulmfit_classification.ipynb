{
 "cells": [
  {
   "cell_type": "code",
   "execution_count": 1,
   "metadata": {},
   "outputs": [],
   "source": [
    "%matplotlib inline\n",
    "%reload_ext autoreload\n",
    "%autoreload 2"
   ]
  },
  {
   "cell_type": "code",
   "execution_count": 2,
   "metadata": {},
   "outputs": [],
   "source": [
    "import json\n",
    "import pathlib\n",
    "import numpy as np\n",
    "import pandas as pd\n",
    "import html\n",
    "import re\n",
    "from fastai.text import *"
   ]
  },
  {
   "cell_type": "code",
   "execution_count": 3,
   "metadata": {},
   "outputs": [],
   "source": [
    "BOS = 'xbos'  # beginning-of-sentence tag\n",
    "FLD = 'xfld'  # data field tag\n",
    "\n",
    "LANG = 'id'\n",
    "PATH_ROOT = Path(f'lmdata/{LANG}')\n",
    "PATH_DATASET = Path(f'{PATH_ROOT}/dataset/BPPTIndToEngCorpus')\n",
    "PATH_MODELS = Path(f'{PATH_ROOT}/models/')\n",
    "PATH_TMP = Path(f'{PATH_ROOT}/tmp/')\n",
    "np.random.seed(42)"
   ]
  },
  {
   "cell_type": "code",
   "execution_count": 4,
   "metadata": {},
   "outputs": [
    {
     "name": "stdout",
     "output_type": "stream",
     "text": [
      "4\n"
     ]
    },
    {
     "data": {
      "text/plain": [
       "['lmdata/id/dataset/BPPTIndToEngCorpus/PANL-BPPT-ECO-ID-150Kw.txt',\n",
       " 'lmdata/id/dataset/BPPTIndToEngCorpus/PANL-BPPT-INT-ID-150Kw.txt',\n",
       " 'lmdata/id/dataset/BPPTIndToEngCorpus/PANL-BPPT-SCI-ID-100Kw.txt',\n",
       " 'lmdata/id/dataset/BPPTIndToEngCorpus/PANL-BPPT-SPO-ID-100Kw.txt']"
      ]
     },
     "execution_count": 4,
     "metadata": {},
     "output_type": "execute_result"
    }
   ],
   "source": [
    "LANG_FILENAMES = [str(f) for f in PATH_DATASET.rglob(\"*-ID-*.txt\")]\n",
    "print(len(LANG_FILENAMES))\n",
    "LANG_FILENAMES"
   ]
  },
  {
   "cell_type": "code",
   "execution_count": 5,
   "metadata": {},
   "outputs": [
    {
     "name": "stdout",
     "output_type": "stream",
     "text": [
      "100%|██████████| 4/4 [00:00<00:00, 170.78it/s]\n"
     ]
    },
    {
     "data": {
      "text/html": [
       "<div>\n",
       "<style scoped>\n",
       "    .dataframe tbody tr th:only-of-type {\n",
       "        vertical-align: middle;\n",
       "    }\n",
       "\n",
       "    .dataframe tbody tr th {\n",
       "        vertical-align: top;\n",
       "    }\n",
       "\n",
       "    .dataframe thead th {\n",
       "        text-align: right;\n",
       "    }\n",
       "</style>\n",
       "<table border=\"1\" class=\"dataframe\">\n",
       "  <thead>\n",
       "    <tr style=\"text-align: right;\">\n",
       "      <th></th>\n",
       "      <th>label</th>\n",
       "      <th>text</th>\n",
       "    </tr>\n",
       "  </thead>\n",
       "  <tbody>\n",
       "    <tr>\n",
       "      <th>0</th>\n",
       "      <td>0</td>\n",
       "      <td>Menteri Keuangan Sri Mulyani mengatakan koreks...</td>\n",
       "    </tr>\n",
       "    <tr>\n",
       "      <th>1</th>\n",
       "      <td>0</td>\n",
       "      <td>Dalam jumpa pers bersama Dirut Bursa Efek Jaka...</td>\n",
       "    </tr>\n",
       "    <tr>\n",
       "      <th>2</th>\n",
       "      <td>0</td>\n",
       "      <td>Kita melihat faktor inflasi dari makanan akan ...</td>\n",
       "    </tr>\n",
       "    <tr>\n",
       "      <th>3</th>\n",
       "      <td>0</td>\n",
       "      <td>Demikian pula dengan harga minyak.</td>\n",
       "    </tr>\n",
       "    <tr>\n",
       "      <th>4</th>\n",
       "      <td>0</td>\n",
       "      <td>Kondisi APBN 2007 pada dua pekan awal, secara ...</td>\n",
       "    </tr>\n",
       "  </tbody>\n",
       "</table>\n",
       "</div>"
      ],
      "text/plain": [
       "   label                                               text\n",
       "0      0  Menteri Keuangan Sri Mulyani mengatakan koreks...\n",
       "1      0  Dalam jumpa pers bersama Dirut Bursa Efek Jaka...\n",
       "2      0  Kita melihat faktor inflasi dari makanan akan ...\n",
       "3      0                 Demikian pula dengan harga minyak.\n",
       "4      0  Kondisi APBN 2007 pada dua pekan awal, secara ..."
      ]
     },
     "execution_count": 5,
     "metadata": {},
     "output_type": "execute_result"
    }
   ],
   "source": [
    "CLASSES = {v:i for i,v in enumerate(['ECO', 'INT', 'SCI', 'SPO'])}\n",
    "LANG_TEXT = []\n",
    "for fn in tqdm(LANG_FILENAMES):\n",
    "    CLASSNAME = re.sub('.+-([A-Z]+)-ID.+', r'\\1', fn)\n",
    "    for line in open(fn, encoding='utf8'):\n",
    "        LANG_TEXT.append((CLASSES[CLASSNAME], line.rstrip()))\n",
    "\n",
    "df = pd.DataFrame.from_records(LANG_TEXT, columns=['label', 'text'])\n",
    "df.head()"
   ]
  },
  {
   "cell_type": "code",
   "execution_count": 6,
   "metadata": {},
   "outputs": [],
   "source": [
    "df.to_csv(f\"{PATH_DATASET}/bppt_panl.csv\", header=False, index=False)"
   ]
  },
  {
   "cell_type": "code",
   "execution_count": 7,
   "metadata": {},
   "outputs": [],
   "source": [
    "df = pd.read_csv(f\"{PATH_DATASET}/bppt_panl.csv\")\n",
    "df.columns = ['label', 'text']"
   ]
  },
  {
   "cell_type": "code",
   "execution_count": 8,
   "metadata": {},
   "outputs": [
    {
     "data": {
      "text/html": [
       "<div>\n",
       "<style scoped>\n",
       "    .dataframe tbody tr th:only-of-type {\n",
       "        vertical-align: middle;\n",
       "    }\n",
       "\n",
       "    .dataframe tbody tr th {\n",
       "        vertical-align: top;\n",
       "    }\n",
       "\n",
       "    .dataframe thead th {\n",
       "        text-align: right;\n",
       "    }\n",
       "</style>\n",
       "<table border=\"1\" class=\"dataframe\">\n",
       "  <thead>\n",
       "    <tr style=\"text-align: right;\">\n",
       "      <th></th>\n",
       "      <th>label</th>\n",
       "      <th>text</th>\n",
       "    </tr>\n",
       "  </thead>\n",
       "  <tbody>\n",
       "    <tr>\n",
       "      <th>0</th>\n",
       "      <td>0</td>\n",
       "      <td>Dalam jumpa pers bersama Dirut Bursa Efek Jaka...</td>\n",
       "    </tr>\n",
       "    <tr>\n",
       "      <th>1</th>\n",
       "      <td>0</td>\n",
       "      <td>Kita melihat faktor inflasi dari makanan akan ...</td>\n",
       "    </tr>\n",
       "    <tr>\n",
       "      <th>2</th>\n",
       "      <td>0</td>\n",
       "      <td>Demikian pula dengan harga minyak.</td>\n",
       "    </tr>\n",
       "    <tr>\n",
       "      <th>3</th>\n",
       "      <td>0</td>\n",
       "      <td>Kondisi APBN 2007 pada dua pekan awal, secara ...</td>\n",
       "    </tr>\n",
       "    <tr>\n",
       "      <th>4</th>\n",
       "      <td>0</td>\n",
       "      <td>Menurut data Depkeu, net buy obligasi negara a...</td>\n",
       "    </tr>\n",
       "  </tbody>\n",
       "</table>\n",
       "</div>"
      ],
      "text/plain": [
       "   label                                               text\n",
       "0      0  Dalam jumpa pers bersama Dirut Bursa Efek Jaka...\n",
       "1      0  Kita melihat faktor inflasi dari makanan akan ...\n",
       "2      0                 Demikian pula dengan harga minyak.\n",
       "3      0  Kondisi APBN 2007 pada dua pekan awal, secara ...\n",
       "4      0  Menurut data Depkeu, net buy obligasi negara a..."
      ]
     },
     "execution_count": 8,
     "metadata": {},
     "output_type": "execute_result"
    }
   ],
   "source": [
    "df.head()"
   ]
  },
  {
   "cell_type": "code",
   "execution_count": 9,
   "metadata": {},
   "outputs": [],
   "source": [
    "trn_texts, val_texts = sklearn.model_selection.train_test_split(\n",
    "    df, test_size=0.1, random_state=1) # split the data into train and validation sets"
   ]
  },
  {
   "cell_type": "code",
   "execution_count": 10,
   "metadata": {},
   "outputs": [
    {
     "data": {
      "text/html": [
       "<div>\n",
       "<style scoped>\n",
       "    .dataframe tbody tr th:only-of-type {\n",
       "        vertical-align: middle;\n",
       "    }\n",
       "\n",
       "    .dataframe tbody tr th {\n",
       "        vertical-align: top;\n",
       "    }\n",
       "\n",
       "    .dataframe thead th {\n",
       "        text-align: right;\n",
       "    }\n",
       "</style>\n",
       "<table border=\"1\" class=\"dataframe\">\n",
       "  <thead>\n",
       "    <tr style=\"text-align: right;\">\n",
       "      <th></th>\n",
       "      <th>label</th>\n",
       "      <th>text</th>\n",
       "    </tr>\n",
       "  </thead>\n",
       "  <tbody>\n",
       "    <tr>\n",
       "      <th>12489</th>\n",
       "      <td>1</td>\n",
       "      <td>Saya berada di sini dua tahun lalu, tapi saat ...</td>\n",
       "    </tr>\n",
       "    <tr>\n",
       "      <th>1604</th>\n",
       "      <td>0</td>\n",
       "      <td>Pertumbuhan ekonomi 2007 yang diproyeksikan me...</td>\n",
       "    </tr>\n",
       "    <tr>\n",
       "      <th>19548</th>\n",
       "      <td>3</td>\n",
       "      <td>Pelatih Real Bernd Schuster harus mengeluarkan...</td>\n",
       "    </tr>\n",
       "    <tr>\n",
       "      <th>15680</th>\n",
       "      <td>2</td>\n",
       "      <td>Laporan itu adalah pengumuman kedua dari badan...</td>\n",
       "    </tr>\n",
       "    <tr>\n",
       "      <th>2780</th>\n",
       "      <td>0</td>\n",
       "      <td>Lonjakan laba bersih tersebut, selain didorong...</td>\n",
       "    </tr>\n",
       "  </tbody>\n",
       "</table>\n",
       "</div>"
      ],
      "text/plain": [
       "       label                                               text\n",
       "12489      1  Saya berada di sini dua tahun lalu, tapi saat ...\n",
       "1604       0  Pertumbuhan ekonomi 2007 yang diproyeksikan me...\n",
       "19548      3  Pelatih Real Bernd Schuster harus mengeluarkan...\n",
       "15680      2  Laporan itu adalah pengumuman kedua dari badan...\n",
       "2780       0  Lonjakan laba bersih tersebut, selain didorong..."
      ]
     },
     "execution_count": 10,
     "metadata": {},
     "output_type": "execute_result"
    }
   ],
   "source": [
    "trn_texts[:5]"
   ]
  },
  {
   "cell_type": "code",
   "execution_count": 11,
   "metadata": {},
   "outputs": [],
   "source": [
    "trn_texts.to_csv(f\"{PATH_DATASET}/bppt_panl_train.csv\", header=False, index=False)\n",
    "val_texts.to_csv(f\"{PATH_DATASET}/bppt_panl_test.csv\", header=False, index=False)"
   ]
  },
  {
   "cell_type": "code",
   "execution_count": 12,
   "metadata": {},
   "outputs": [],
   "source": [
    "re1 = re.compile(r'  +')\n",
    "\n",
    "def fixup(x):\n",
    "    x = x.replace('#39;', \"'\").replace('amp;', '&').replace('#146;', \"'\").replace(\n",
    "        'nbsp;', ' ').replace('#36;', '$').replace('\\\\n', \"\\n\").replace('quot;', \"'\").replace(\n",
    "        '<br />', \"\\n\").replace('\\\\\"', '\"').replace('<unk>','u_n').replace(' @.@ ','.').replace(\n",
    "        ' @-@ ','-').replace('\\\\', ' \\\\ ')\n",
    "    return re1.sub(' ', html.unescape(x))"
   ]
  },
  {
   "cell_type": "code",
   "execution_count": 13,
   "metadata": {},
   "outputs": [],
   "source": [
    "def get_texts(df, n_lbls=1):\n",
    "    labels = df.iloc[:,range(n_lbls)].values.astype(np.int64)\n",
    "    texts = f'\\n{BOS} {FLD} 1 ' + df[n_lbls].astype(str)\n",
    "    for i in range(n_lbls+1, len(df.columns)): texts += f' {FLD} {i-n_lbls} ' + df[i].astype(str)\n",
    "    #texts = list(texts.apply(fixup).values)\n",
    "\n",
    "    tok = Tokenizer().proc_all_mp(partition_by_cores(texts))\n",
    "    return tok, list(labels)\n",
    "\n",
    "def get_all(df, n_lbls):\n",
    "    tok, labels = [], []\n",
    "    for i, r in enumerate(df):\n",
    "        print(i)\n",
    "        #pdb.set_trace()\n",
    "        tok_, labels_ = get_texts(r, n_lbls)\n",
    "        tok += tok_;\n",
    "        labels += labels_\n",
    "    return tok, labels"
   ]
  },
  {
   "cell_type": "code",
   "execution_count": 14,
   "metadata": {},
   "outputs": [],
   "source": [
    "chunksize = 10000\n",
    "df_trn = pd.read_csv(f\"{PATH_DATASET}/bppt_panl_train.csv\", header=None, chunksize=chunksize)\n",
    "df_val = pd.read_csv(f\"{PATH_DATASET}/bppt_panl_test.csv\", header=None, chunksize=chunksize)"
   ]
  },
  {
   "cell_type": "code",
   "execution_count": 15,
   "metadata": {},
   "outputs": [
    {
     "name": "stdout",
     "output_type": "stream",
     "text": [
      "0\n",
      "1\n",
      "2\n",
      "0\n"
     ]
    }
   ],
   "source": [
    "tok_trn, trn_labels = get_all(df_trn, 1)\n",
    "tok_val, val_labels = get_all(df_val, 1)"
   ]
  },
  {
   "cell_type": "code",
   "execution_count": 16,
   "metadata": {},
   "outputs": [
    {
     "data": {
      "text/plain": [
       "[['\\n',\n",
       "  'xbos',\n",
       "  'xfld',\n",
       "  '1',\n",
       "  'saya',\n",
       "  'berada',\n",
       "  'di',\n",
       "  'sini',\n",
       "  'dua',\n",
       "  'tahun',\n",
       "  'lalu',\n",
       "  ',',\n",
       "  'tapi',\n",
       "  'saat',\n",
       "  'ini',\n",
       "  'terdapat',\n",
       "  'lebih',\n",
       "  'banyak',\n",
       "  'makanan',\n",
       "  'gratis',\n",
       "  'dan',\n",
       "  'tak',\n",
       "  'ada',\n",
       "  'keributan',\n",
       "  '.'],\n",
       " ['\\n',\n",
       "  'xbos',\n",
       "  'xfld',\n",
       "  '1',\n",
       "  'pertumbuhan',\n",
       "  'ekonomi',\n",
       "  '2007',\n",
       "  'yang',\n",
       "  'diproyeksikan',\n",
       "  'mencapai',\n",
       "  '6,3',\n",
       "  'persen',\n",
       "  ',',\n",
       "  'merupakan',\n",
       "  'tantangan',\n",
       "  'berat',\n",
       "  'meski',\n",
       "  'sampai',\n",
       "  'dengan',\n",
       "  'hari',\n",
       "  'ini',\n",
       "  'hampir',\n",
       "  'semua',\n",
       "  'kalangan',\n",
       "  'berpendapat',\n",
       "  'realitas',\n",
       "  'pertumbuhan',\n",
       "  'realitas',\n",
       "  'mencapai',\n",
       "  'sekitar',\n",
       "  '6,1',\n",
       "  'persen',\n",
       "  '.']]"
      ]
     },
     "execution_count": 16,
     "metadata": {},
     "output_type": "execute_result"
    }
   ],
   "source": [
    "tok_trn[:2]"
   ]
  },
  {
   "cell_type": "code",
   "execution_count": 17,
   "metadata": {},
   "outputs": [],
   "source": [
    "# create a tmp directory to store the upcoming numpy arrays\n",
    "(PATH_TMP).mkdir(exist_ok=True)\n",
    "\n",
    "# save the train and validation tokens in the tmp directories\n",
    "np.save(PATH_TMP/'tok_trn.npy', tok_trn)\n",
    "np.save(PATH_TMP/'tok_val.npy', tok_val)"
   ]
  },
  {
   "cell_type": "code",
   "execution_count": 18,
   "metadata": {},
   "outputs": [],
   "source": [
    "tok_trn = np.load(PATH_ROOT/'tmp'/'tok_trn.npy')\n",
    "tok_val = np.load(PATH_ROOT/'tmp'/'tok_val.npy')"
   ]
  },
  {
   "cell_type": "code",
   "execution_count": 19,
   "metadata": {},
   "outputs": [
    {
     "data": {
      "text/plain": [
       "[(',', 26503),\n",
       " ('1', 22182),\n",
       " ('.', 21637),\n",
       " ('\\n', 21620),\n",
       " ('xbos', 21620),\n",
       " ('xfld', 21620),\n",
       " ('yang', 12838),\n",
       " ('dan', 9496),\n",
       " ('di', 8706),\n",
       " ('-', 6737),\n",
       " ('pada', 5305),\n",
       " ('dari', 4999),\n",
       " ('dengan', 4884),\n",
       " ('itu', 4723),\n",
       " ('t_up', 4719),\n",
       " ('untuk', 4610),\n",
       " ('dalam', 4373),\n",
       " ('ini', 3800),\n",
       " ('akan', 3147),\n",
       " ('tersebut', 2374),\n",
       " ('tidak', 2352),\n",
       " ('mereka', 2182),\n",
       " ('kata', 2153),\n",
       " ('persen', 2151),\n",
       " ('tahun', 2077)]"
      ]
     },
     "execution_count": 19,
     "metadata": {},
     "output_type": "execute_result"
    }
   ],
   "source": [
    "# Identify the most common tokens and numericalizing the text\n",
    "freq = Counter(p for o in tok_trn for p in o) \n",
    "freq.most_common(25)"
   ]
  },
  {
   "cell_type": "code",
   "execution_count": 20,
   "metadata": {},
   "outputs": [],
   "source": [
    "max_vocab = 60000\n",
    "min_freq = 5\n",
    "\n",
    "itos = [o for o,c in freq.most_common(max_vocab) if c>min_freq] # getting rid of the rare words\n",
    "itos.insert(0, '_pad_') # \n",
    "itos.insert(0, '_unk_') #"
   ]
  },
  {
   "cell_type": "code",
   "execution_count": 21,
   "metadata": {},
   "outputs": [
    {
     "data": {
      "text/plain": [
       "6813"
      ]
     },
     "execution_count": 21,
     "metadata": {},
     "output_type": "execute_result"
    }
   ],
   "source": [
    "# creating a index-key dictionary for our vocabulary\n",
    "stoi = collections.defaultdict(lambda:0, {v:k for k,v in enumerate(itos)})\n",
    "len(itos)"
   ]
  },
  {
   "cell_type": "code",
   "execution_count": 22,
   "metadata": {},
   "outputs": [],
   "source": [
    "# creating a index representation for our train and validation dataset\n",
    "trn_lm = np.array([[stoi[o] for o in p] for p in tok_trn])\n",
    "val_lm = np.array([[stoi[o] for o in p] for p in tok_val])"
   ]
  },
  {
   "cell_type": "code",
   "execution_count": 23,
   "metadata": {},
   "outputs": [
    {
     "data": {
      "text/plain": [
       "array([list([5, 6, 7, 3, 45, 142, 10, 737, 52, 26, 60, 2, 248, 55, 19, 605, 33, 124, 673, 2907, 9, 116, 67, 0, 4]),\n",
       "       list([5, 6, 7, 3, 148, 98, 71, 8, 4113, 70, 1455, 25, 2, 78, 1952, 481, 389, 181, 14, 88, 19, 476, 196, 883, 2795, 0, 148, 0, 70, 105, 3029, 25, 4])],\n",
       "      dtype=object)"
      ]
     },
     "execution_count": 23,
     "metadata": {},
     "output_type": "execute_result"
    }
   ],
   "source": [
    "trn_lm[:2]"
   ]
  },
  {
   "cell_type": "code",
   "execution_count": 24,
   "metadata": {},
   "outputs": [],
   "source": [
    "# saving our indexed representation of our dataset to disk\n",
    "# we also save the index-word mapping to retrieve the complete text representation from these numpy arrays\n",
    "np.save(PATH_TMP/'trn_ids.npy', trn_lm)\n",
    "np.save(PATH_TMP/'val_ids.npy', val_lm)\n",
    "pickle.dump(itos, open(PATH_MODELS/'bppt_panl_itos.pkl', 'wb'))"
   ]
  },
  {
   "cell_type": "code",
   "execution_count": 25,
   "metadata": {},
   "outputs": [],
   "source": [
    "trn_lm = np.load(PATH_TMP/'trn_ids.npy')\n",
    "val_lm = np.load(PATH_TMP/'val_ids.npy')\n",
    "itos = pickle.load(open(PATH_MODELS/'bppt_panl_itos.pkl', 'rb'))"
   ]
  },
  {
   "cell_type": "code",
   "execution_count": 26,
   "metadata": {},
   "outputs": [
    {
     "data": {
      "text/plain": [
       "(6813, 21620)"
      ]
     },
     "execution_count": 26,
     "metadata": {},
     "output_type": "execute_result"
    }
   ],
   "source": [
    "vs=len(itos)\n",
    "vs,len(trn_lm)"
   ]
  },
  {
   "cell_type": "code",
   "execution_count": 27,
   "metadata": {},
   "outputs": [],
   "source": [
    "em_sz,nh,nl = 400,1150,3"
   ]
  },
  {
   "cell_type": "code",
   "execution_count": 28,
   "metadata": {},
   "outputs": [],
   "source": [
    "PRE_LM_PATH = PATH_MODELS/'wiki_id_lm.h5'"
   ]
  },
  {
   "cell_type": "code",
   "execution_count": 29,
   "metadata": {},
   "outputs": [],
   "source": [
    "wgts = torch.load(PRE_LM_PATH, map_location=lambda storage, loc: storage)"
   ]
  },
  {
   "cell_type": "code",
   "execution_count": 30,
   "metadata": {},
   "outputs": [],
   "source": [
    "enc_wgts = to_np(wgts['0.encoder.weight'])\n",
    "row_m = enc_wgts.mean(0)"
   ]
  },
  {
   "cell_type": "code",
   "execution_count": 31,
   "metadata": {},
   "outputs": [],
   "source": [
    "itos2 = pickle.load((PATH_ROOT/'wiki_id_itos.pkl').open('rb'))\n",
    "stoi2 = collections.defaultdict(lambda:-1, {v:k for k,v in enumerate(itos2)})"
   ]
  },
  {
   "cell_type": "code",
   "execution_count": 32,
   "metadata": {},
   "outputs": [],
   "source": [
    "new_w = np.zeros((vs, em_sz), dtype=np.float32)\n",
    "for i,w in enumerate(itos):\n",
    "    r = stoi2[w]\n",
    "    new_w[i] = enc_wgts[r] if r>=0 else row_m"
   ]
  },
  {
   "cell_type": "code",
   "execution_count": 33,
   "metadata": {},
   "outputs": [],
   "source": [
    "wgts['0.encoder.weight'] = T(new_w)\n",
    "wgts['0.encoder_with_dropout.embed.weight'] = T(np.copy(new_w))\n",
    "wgts['1.decoder.weight'] = T(np.copy(new_w))"
   ]
  },
  {
   "cell_type": "markdown",
   "metadata": {},
   "source": [
    "## Language model"
   ]
  },
  {
   "cell_type": "code",
   "execution_count": 34,
   "metadata": {},
   "outputs": [],
   "source": [
    "wd=1e-7\n",
    "bptt=70\n",
    "bs=100\n",
    "#opt_fn = partial(optim.Adam, betas=(0.8, 0.99))\n",
    "opt_fn = partial(optim.SGD, momentum=0.9)\n",
    "weight_factor = 0.1"
   ]
  },
  {
   "cell_type": "code",
   "execution_count": 35,
   "metadata": {},
   "outputs": [],
   "source": [
    "bs=100"
   ]
  },
  {
   "cell_type": "code",
   "execution_count": 36,
   "metadata": {},
   "outputs": [],
   "source": [
    "trn_dl = LanguageModelLoader(np.concatenate(trn_lm), bs, bptt)\n",
    "val_dl = LanguageModelLoader(np.concatenate(val_lm), bs, bptt)\n",
    "md = LanguageModelData(PATH_MODELS, 1, vs, trn_dl, val_dl, bs=bs, bptt=bptt)"
   ]
  },
  {
   "cell_type": "code",
   "execution_count": 37,
   "metadata": {},
   "outputs": [],
   "source": [
    "drops = np.array([0.25, 0.1, 0.2, 0.02, 0.15])*weight_factor"
   ]
  },
  {
   "cell_type": "code",
   "execution_count": 38,
   "metadata": {},
   "outputs": [],
   "source": [
    "learner= md.get_model(opt_fn, em_sz, nh, nl, \n",
    "    dropouti=drops[0], dropout=drops[1], wdrop=drops[2], dropoute=drops[3], dropouth=drops[4])\n",
    "\n",
    "learner.metrics = [accuracy]\n",
    "learner.freeze_to(-1)"
   ]
  },
  {
   "cell_type": "code",
   "execution_count": 39,
   "metadata": {},
   "outputs": [],
   "source": [
    "learner.model.load_state_dict(wgts)"
   ]
  },
  {
   "cell_type": "code",
   "execution_count": 40,
   "metadata": {},
   "outputs": [
    {
     "data": {
      "text/plain": [
       "<bound method Learner.summary of SequentialRNN(\n",
       "  (0): RNN_Encoder(\n",
       "    (encoder): Embedding(6813, 400, padding_idx=1)\n",
       "    (encoder_with_dropout): EmbeddingDropout(\n",
       "      (embed): Embedding(6813, 400, padding_idx=1)\n",
       "    )\n",
       "    (rnns): ModuleList(\n",
       "      (0): WeightDrop(\n",
       "        (module): LSTM(400, 1150)\n",
       "      )\n",
       "      (1): WeightDrop(\n",
       "        (module): LSTM(1150, 1150)\n",
       "      )\n",
       "      (2): WeightDrop(\n",
       "        (module): LSTM(1150, 400)\n",
       "      )\n",
       "    )\n",
       "    (dropouti): LockedDropout(\n",
       "    )\n",
       "    (dropouths): ModuleList(\n",
       "      (0): LockedDropout(\n",
       "      )\n",
       "      (1): LockedDropout(\n",
       "      )\n",
       "      (2): LockedDropout(\n",
       "      )\n",
       "    )\n",
       "  )\n",
       "  (1): LinearDecoder(\n",
       "    (decoder): Linear(in_features=400, out_features=6813, bias=False)\n",
       "    (dropout): LockedDropout(\n",
       "    )\n",
       "  )\n",
       ")>"
      ]
     },
     "execution_count": 40,
     "metadata": {},
     "output_type": "execute_result"
    }
   ],
   "source": [
    "# AWD-LSTM network\n",
    "learner.summary"
   ]
  },
  {
   "cell_type": "code",
   "execution_count": 41,
   "metadata": {},
   "outputs": [],
   "source": [
    "lr=1e-3\n",
    "lrs = lr"
   ]
  },
  {
   "cell_type": "code",
   "execution_count": 42,
   "metadata": {},
   "outputs": [
    {
     "name": "stdout",
     "output_type": "stream",
     "text": [
      "CPU times: user 2 µs, sys: 1 µs, total: 3 µs\n",
      "Wall time: 4.77 µs\n"
     ]
    },
    {
     "data": {
      "application/vnd.jupyter.widget-view+json": {
       "model_id": "3d66db06ee5b4dc5ac4878130b343222",
       "version_major": 2,
       "version_minor": 0
      },
      "text/plain": [
       "HBox(children=(IntProgress(value=0, description='Epoch', max=1), HTML(value='')))"
      ]
     },
     "metadata": {},
     "output_type": "display_data"
    },
    {
     "name": "stdout",
     "output_type": "stream",
     "text": [
      "epoch      trn_loss   val_loss   accuracy                 \n",
      "    0      4.982801   4.937512   0.233285  \n",
      "\n"
     ]
    },
    {
     "data": {
      "text/plain": [
       "[array([4.93751]), 0.23328453116118908]"
      ]
     },
     "execution_count": 42,
     "metadata": {},
     "output_type": "execute_result"
    }
   ],
   "source": [
    "%time \n",
    "\n",
    "learner.fit(lrs/2, 1, wds=wd, use_clr=(32,2), cycle_len=1)"
   ]
  },
  {
   "cell_type": "code",
   "execution_count": 43,
   "metadata": {},
   "outputs": [],
   "source": [
    "learner.save('lm_last_ft')"
   ]
  },
  {
   "cell_type": "code",
   "execution_count": 44,
   "metadata": {},
   "outputs": [],
   "source": [
    "learner.load('lm_last_ft')"
   ]
  },
  {
   "cell_type": "code",
   "execution_count": 45,
   "metadata": {},
   "outputs": [],
   "source": [
    "learner.unfreeze()"
   ]
  },
  {
   "cell_type": "code",
   "execution_count": 46,
   "metadata": {},
   "outputs": [
    {
     "name": "stdout",
     "output_type": "stream",
     "text": [
      "CPU times: user 2 µs, sys: 1e+03 ns, total: 3 µs\n",
      "Wall time: 6.68 µs\n"
     ]
    },
    {
     "data": {
      "application/vnd.jupyter.widget-view+json": {
       "model_id": "542c7a1939ad47fa83145af2af081248",
       "version_major": 2,
       "version_minor": 0
      },
      "text/plain": [
       "HBox(children=(IntProgress(value=0, description='Epoch', max=12), HTML(value='')))"
      ]
     },
     "metadata": {},
     "output_type": "display_data"
    },
    {
     "name": "stdout",
     "output_type": "stream",
     "text": [
      " 76%|███████▋  | 65/85 [00:17<00:05,  3.74it/s, loss=3.57]"
     ]
    }
   ],
   "source": [
    "%time\n",
    "\n",
    "learner.lr_find2(num_it=1000)"
   ]
  },
  {
   "cell_type": "code",
   "execution_count": 47,
   "metadata": {},
   "outputs": [
    {
     "data": {
      "image/png": "[encoded data removed]",
      "text/plain": [
       "<Figure size 432x864 with 3 Axes>"
      ]
     },
     "metadata": {},
     "output_type": "display_data"
    }
   ],
   "source": [
    "learner.sched.plot()"
   ]
  },
  {
   "cell_type": "code",
   "execution_count": 48,
   "metadata": {},
   "outputs": [],
   "source": [
    "# Set learning rate\n",
    "lr = 0.2"
   ]
  },
  {
   "cell_type": "code",
   "execution_count": 49,
   "metadata": {},
   "outputs": [
    {
     "name": "stdout",
     "output_type": "stream",
     "text": [
      "CPU times: user 2 µs, sys: 1e+03 ns, total: 3 µs\n",
      "Wall time: 5.48 µs\n"
     ]
    },
    {
     "data": {
      "application/vnd.jupyter.widget-view+json": {
       "model_id": "50fba15e8bce4fbeace98643a977d8eb",
       "version_major": 2,
       "version_minor": 0
      },
      "text/plain": [
       "HBox(children=(IntProgress(value=0, description='Epoch', max=50), HTML(value='')))"
      ]
     },
     "metadata": {},
     "output_type": "display_data"
    },
    {
     "name": "stdout",
     "output_type": "stream",
     "text": [
      "epoch      trn_loss   val_loss   accuracy                 \n",
      "    0      4.157194   3.935868   0.324718  \n",
      "    1      3.941628   3.837137   0.333785                 \n",
      "    2      3.854142   3.789139   0.337888                 \n",
      "    3      3.801619   3.756119   0.34124                  \n",
      "    4      3.767735   3.72448    0.344196                 \n",
      "    5      3.740551   3.711374   0.344649                 \n",
      "    6      3.71324    3.680391   0.348372                 \n",
      "    7      3.690399   3.67833    0.347471                 \n",
      "    8      3.670641   3.660356   0.349618                 \n",
      "    9      3.653356   3.650381   0.349958                 \n",
      "    10     3.633217   3.641808   0.350328                 \n",
      "    11     3.618268   3.631516   0.351111                 \n",
      "    12     3.604605   3.620367   0.352371                 \n",
      "    13     3.591901   3.614837   0.352316                 \n",
      "    14     3.576696   3.607112   0.35274                  \n",
      "    15     3.56662    3.594448   0.354158                 \n",
      "    16     3.554127   3.593214   0.35475                  \n",
      "    17     3.544095   3.583542   0.355462                 \n",
      "    18     3.53099    3.573011   0.356552                 \n",
      "    19     3.520176   3.574143   0.357143                 \n",
      "    20     3.514033   3.566769   0.357153                 \n",
      "    21     3.502023   3.564379   0.356798                 \n",
      "    22     3.497694   3.561508   0.357541                 \n",
      "    23     3.482372   3.552525   0.358794                 \n",
      "    24     3.472125   3.551049   0.358782                 \n",
      "    25     3.466552   3.545107   0.359395                 \n",
      "    26     3.459804   3.541684   0.359273                 \n",
      "    27     3.448554   3.538727   0.360331                 \n",
      "    28     3.440058   3.537235   0.360284                 \n",
      "    29     3.43317    3.532913   0.360248                 \n",
      "    30     3.425394   3.531418   0.360031                 \n",
      "    31     3.416139   3.523209   0.361448                 \n",
      "    32     3.412292   3.525015   0.360835                 \n",
      "    33     3.400111   3.524525   0.361081                 \n",
      "    34     3.401062   3.518912   0.362216                 \n",
      "    35     3.390169   3.519237   0.361609                 \n",
      "    36     3.389412   3.514815   0.362146                 \n",
      "    37     3.381615   3.510046   0.363078                 \n",
      "    38     3.374514   3.501656   0.364019                 \n",
      "    39     3.367231   3.508834   0.362963                 \n",
      "    40     3.360474   3.505677   0.363388                 \n",
      "    41     3.358335   3.502059   0.363649                 \n",
      "    42     3.354146   3.502207   0.363501                 \n",
      "    43     3.347516   3.499323   0.363733                 \n",
      "    44     3.345446   3.495791   0.364152                 \n",
      "    45     3.339014   3.496578   0.364504                 \n",
      "    46     3.333908   3.496236   0.363922                 \n",
      "    47     3.334183   3.493648   0.364758                 \n",
      "    48     3.326943   3.495208   0.363847                 \n",
      "    49     3.328502   3.490026   0.364857                 \n"
     ]
    },
    {
     "data": {
      "text/plain": [
       "[array([3.49003]), 0.3648568019270897]"
      ]
     },
     "execution_count": 49,
     "metadata": {},
     "output_type": "execute_result"
    }
   ],
   "source": [
    "%time\n",
    "\n",
    "learner.fit(lr, 1, wds=wd, cycle_len=50, use_clr=(10,33,0.95,0.85), best_save_name='best_lm_indonesia_1cycle_bppt_panl')"
   ]
  },
  {
   "cell_type": "code",
   "execution_count": 49,
   "metadata": {},
   "outputs": [
    {
     "name": "stdout",
     "output_type": "stream",
     "text": [
      "CPU times: user 1 µs, sys: 0 ns, total: 1 µs\n",
      "Wall time: 5.48 µs\n"
     ]
    },
    {
     "data": {
      "application/vnd.jupyter.widget-view+json": {
       "model_id": "a46c8429c2114b9b888e58d382df6b6d",
       "version_major": 2,
       "version_minor": 0
      },
      "text/plain": [
       "HBox(children=(IntProgress(value=0, description='Epoch', max=50), HTML(value='')))"
      ]
     },
     "metadata": {},
     "output_type": "display_data"
    },
    {
     "name": "stdout",
     "output_type": "stream",
     "text": [
      "epoch      trn_loss   val_loss   accuracy                 \n",
      "    0      4.133721   3.956492   0.324278  \n",
      "    1      3.93578    3.839863   0.333573                 \n",
      "    2      3.843437   3.785825   0.338499                 \n",
      "    3      3.784889   3.747476   0.341664                 \n",
      "    4      3.743502   3.712742   0.345656                 \n",
      "    5      3.711029   3.696667   0.345959                 \n",
      "    6      3.680475   3.66531    0.34953                  \n",
      "    7      3.655367   3.660157   0.349525                 \n",
      "    8      3.630483   3.639064   0.35176                  \n",
      "    9      3.608957   3.630309   0.352317                 \n",
      "    10     3.588673   3.620427   0.353047                 \n",
      "    11     3.570759   3.609911   0.354204                 \n",
      "    12     3.55254    3.598645   0.354862                 \n",
      "    13     3.537018   3.591663   0.35574                  \n",
      "    14     3.519699   3.583402   0.356536                 \n",
      "    15     3.508309   3.570674   0.358058                 \n",
      "    16     3.491112   3.56805    0.358816                 \n",
      "    17     3.478421   3.559186   0.358996                 \n",
      "    18     3.462272   3.548979   0.360243                 \n",
      "    19     3.450651   3.54717    0.360559                 \n",
      "    20     3.440254   3.54292    0.360563                 \n",
      "    21     3.424767   3.540261   0.359999                 \n",
      "    22     3.413406   3.536845   0.360389                 \n",
      "    23     3.399701   3.529006   0.361281                 \n",
      "    24     3.388487   3.526944   0.361111                 \n",
      "    25     3.381837   3.520507   0.362201                 \n",
      "    26     3.3697     3.518123   0.362368                 \n",
      "    27     3.358661   3.512263   0.362751                 \n",
      "    28     3.34693    3.513575   0.362301                 \n",
      "    29     3.336596   3.51008    0.362716                 \n",
      "    30     3.329275   3.50834    0.362414                 \n",
      "    31     3.315452   3.499171   0.364538                 \n",
      "    32     3.307596   3.503091   0.36296                  \n",
      "    33     3.297076   3.503389   0.363017                 \n",
      "    34     3.297381   3.497767   0.36378                  \n",
      "    35     3.280672   3.498527   0.36335                  \n",
      "    36     3.280905   3.494969   0.363565                 \n",
      "    37     3.267136   3.490395   0.36414                  \n",
      "    38     3.258897   3.483616   0.36529                  \n",
      "    39     3.250033   3.489605   0.364236                 \n",
      "    40     3.239994   3.487628   0.364324                 \n",
      "    41     3.235068   3.482125   0.36518                  \n",
      "    42     3.230369   3.48512    0.364681                 \n",
      "    43     3.221366   3.482133   0.364955                 \n",
      "    44     3.217177   3.479057   0.365721                 \n",
      "    45     3.210588   3.480616   0.365243                 \n",
      "    46     3.20143    3.480401   0.365341                 \n",
      "    47     3.203774   3.47731    0.366203                 \n",
      "    48     3.193065   3.480272   0.365348                 \n",
      "    49     3.195854   3.47393    0.366823                 \n"
     ]
    },
    {
     "data": {
      "text/plain": [
       "[array([3.47393]), 0.3668234758079052]"
      ]
     },
     "execution_count": 49,
     "metadata": {},
     "output_type": "execute_result"
    }
   ],
   "source": [
    "%time\n",
    "\n",
    "learner.fit(lr, 1, wds=wd, cycle_len=50, use_clr=(10,33,0.95,0.85), best_save_name='best_lm_indonesia_1cycle_bppt_panl')"
   ]
  },
  {
   "cell_type": "code",
   "execution_count": 50,
   "metadata": {},
   "outputs": [
    {
     "data": {
      "image/png": "[encoded data removed]",
      "text/plain": [
       "<Figure size 432x288 with 1 Axes>"
      ]
     },
     "metadata": {},
     "output_type": "display_data"
    }
   ],
   "source": [
    "learner.sched.plot_loss()"
   ]
  },
  {
   "cell_type": "code",
   "execution_count": 51,
   "metadata": {},
   "outputs": [],
   "source": [
    "#learner.lr_find(start_lr=lrs/10, end_lr=lrs*10, linear=True)"
   ]
  },
  {
   "cell_type": "code",
   "execution_count": 52,
   "metadata": {},
   "outputs": [],
   "source": [
    "#learner.sched.plot()"
   ]
  },
  {
   "cell_type": "code",
   "execution_count": 53,
   "metadata": {},
   "outputs": [],
   "source": [
    "#learner.fit(lrs, 1, wds=wd, use_clr=(20,10), cycle_len=15)"
   ]
  },
  {
   "cell_type": "code",
   "execution_count": 51,
   "metadata": {},
   "outputs": [],
   "source": [
    "learner.save('lm1')\n",
    "learner.save_encoder('lm1_enc')"
   ]
  },
  {
   "cell_type": "code",
   "execution_count": 52,
   "metadata": {},
   "outputs": [
    {
     "data": {
      "image/png": "[encoded data removed]",
      "text/plain": [
       "<Figure size 432x288 with 1 Axes>"
      ]
     },
     "metadata": {},
     "output_type": "display_data"
    }
   ],
   "source": [
    "learner.sched.plot_loss()"
   ]
  },
  {
   "cell_type": "markdown",
   "metadata": {},
   "source": [
    "## Classifier tokens\n"
   ]
  },
  {
   "cell_type": "code",
   "execution_count": 53,
   "metadata": {},
   "outputs": [],
   "source": [
    "chunksize = 10000\n",
    "df_trn = pd.read_csv(f\"{PATH_DATASET}/bppt_panl_train.csv\", header=None, chunksize=chunksize)\n",
    "df_val = pd.read_csv(f\"{PATH_DATASET}/bppt_panl_test.csv\", header=None, chunksize=chunksize)"
   ]
  },
  {
   "cell_type": "code",
   "execution_count": 54,
   "metadata": {},
   "outputs": [
    {
     "name": "stdout",
     "output_type": "stream",
     "text": [
      "0\n",
      "1\n",
      "2\n",
      "0\n"
     ]
    }
   ],
   "source": [
    "tok_trn, trn_labels = get_all(df_trn, 1)\n",
    "tok_val, val_labels = get_all(df_val, 1)"
   ]
  },
  {
   "cell_type": "code",
   "execution_count": 55,
   "metadata": {},
   "outputs": [],
   "source": [
    "(PATH_TMP).mkdir(exist_ok=True)\n",
    "\n",
    "np.save(PATH_TMP/'bppt_panl_tok_trn.npy', tok_trn)\n",
    "np.save(PATH_TMP/'bppt_panl_tok_val.npy', tok_val)\n",
    "\n",
    "np.save(PATH_TMP/'bppt_panl_trn_labels.npy', trn_labels)\n",
    "np.save(PATH_TMP/'bppt_panl_val_labels.npy', val_labels)"
   ]
  },
  {
   "cell_type": "code",
   "execution_count": 56,
   "metadata": {},
   "outputs": [],
   "source": [
    "tok_trn = np.load(PATH_TMP/'bppt_panl_tok_trn.npy')\n",
    "tok_val = np.load(PATH_TMP/'bppt_panl_tok_val.npy')"
   ]
  },
  {
   "cell_type": "code",
   "execution_count": 57,
   "metadata": {},
   "outputs": [
    {
     "data": {
      "text/plain": [
       "6813"
      ]
     },
     "execution_count": 57,
     "metadata": {},
     "output_type": "execute_result"
    }
   ],
   "source": [
    "itos = pickle.load((PATH_MODELS/'bppt_panl_itos.pkl').open('rb'))\n",
    "stoi = collections.defaultdict(lambda:0, {v:k for k,v in enumerate(itos)})\n",
    "len(itos)"
   ]
  },
  {
   "cell_type": "code",
   "execution_count": 58,
   "metadata": {},
   "outputs": [],
   "source": [
    "trn_clas = np.array([[stoi[o] for o in p] for p in tok_trn])\n",
    "val_clas = np.array([[stoi[o] for o in p] for p in tok_val])"
   ]
  },
  {
   "cell_type": "code",
   "execution_count": 59,
   "metadata": {},
   "outputs": [],
   "source": [
    "np.save(PATH_TMP/'bppt_panl_trn_ids.npy', trn_clas)\n",
    "np.save(PATH_TMP/'bppt_panl_val_ids.npy', val_clas)"
   ]
  },
  {
   "cell_type": "markdown",
   "metadata": {},
   "source": [
    "## Classifier"
   ]
  },
  {
   "cell_type": "code",
   "execution_count": 60,
   "metadata": {},
   "outputs": [],
   "source": [
    "trn_clas = np.load(PATH_TMP/'bppt_panl_trn_ids.npy')\n",
    "val_clas = np.load(PATH_TMP/'bppt_panl_val_ids.npy')"
   ]
  },
  {
   "cell_type": "code",
   "execution_count": 61,
   "metadata": {},
   "outputs": [],
   "source": [
    "trn_labels = np.squeeze(np.load(PATH_TMP/'bppt_panl_trn_labels.npy'))\n",
    "val_labels = np.squeeze(np.load(PATH_TMP/'bppt_panl_val_labels.npy'))"
   ]
  },
  {
   "cell_type": "code",
   "execution_count": 62,
   "metadata": {},
   "outputs": [],
   "source": [
    "bptt,em_sz,nh,nl = 70,400,1150,3\n",
    "vs = len(itos)\n",
    "opt_fn = partial(optim.Adam, betas=(0.8, 0.99))\n",
    "bs = 48\n",
    "weight_factor = 0.8"
   ]
  },
  {
   "cell_type": "code",
   "execution_count": 63,
   "metadata": {},
   "outputs": [],
   "source": [
    "min_lbl = trn_labels.min()\n",
    "trn_labels -= min_lbl\n",
    "val_labels -= min_lbl\n",
    "c=int(trn_labels.max())+1"
   ]
  },
  {
   "cell_type": "code",
   "execution_count": 64,
   "metadata": {},
   "outputs": [],
   "source": [
    "trn_ds = TextDataset(trn_clas, trn_labels)\n",
    "val_ds = TextDataset(val_clas, val_labels)\n",
    "trn_samp = SortishSampler(trn_clas, key=lambda x: len(trn_clas[x]), bs=bs//2)\n",
    "val_samp = SortSampler(val_clas, key=lambda x: len(val_clas[x]))\n",
    "trn_dl = DataLoader(trn_ds, bs//2, transpose=True, num_workers=1, pad_idx=1, sampler=trn_samp)\n",
    "val_dl = DataLoader(val_ds, bs, transpose=True, num_workers=1, pad_idx=1, sampler=val_samp)\n",
    "md = ModelData(PATH_MODELS, trn_dl, val_dl)"
   ]
  },
  {
   "cell_type": "code",
   "execution_count": 65,
   "metadata": {},
   "outputs": [],
   "source": [
    "# part 1\n",
    "dps = np.array([0.4, 0.5, 0.05, 0.3, 0.1])"
   ]
  },
  {
   "cell_type": "code",
   "execution_count": 66,
   "metadata": {},
   "outputs": [],
   "source": [
    "dps = np.array([0.4,0.5,0.05,0.3,0.4])*weight_factor"
   ]
  },
  {
   "cell_type": "code",
   "execution_count": 67,
   "metadata": {},
   "outputs": [],
   "source": [
    "m = get_rnn_classifier(bptt, 20*70, c, vs, emb_sz=em_sz, n_hid=nh, n_layers=nl, pad_token=1,\n",
    "          layers=[em_sz*3, 50, c], drops=[dps[4], 0.1],\n",
    "          dropouti=dps[0], wdrop=dps[1], dropoute=dps[2], dropouth=dps[3])"
   ]
  },
  {
   "cell_type": "code",
   "execution_count": 68,
   "metadata": {},
   "outputs": [],
   "source": [
    "opt_fn = partial(optim.Adam, betas=(0.7, 0.99))"
   ]
  },
  {
   "cell_type": "code",
   "execution_count": 69,
   "metadata": {},
   "outputs": [],
   "source": [
    "learn = RNN_Learner(md, TextModel(to_gpu(m)), opt_fn=opt_fn)\n",
    "learn.reg_fn = partial(seq2seq_reg, alpha=2, beta=1)\n",
    "learn.clip=.25\n",
    "learn.metrics = [accuracy]"
   ]
  },
  {
   "cell_type": "code",
   "execution_count": 70,
   "metadata": {},
   "outputs": [],
   "source": [
    "lr=3e-3\n",
    "lrm = 2.6\n",
    "lrs = np.array([lr/(lrm**4), lr/(lrm**3), lr/(lrm**2), lr/lrm, lr])"
   ]
  },
  {
   "cell_type": "code",
   "execution_count": 71,
   "metadata": {},
   "outputs": [],
   "source": [
    "lrs=np.array([1e-4,1e-4,1e-4,1e-3,1e-2])"
   ]
  },
  {
   "cell_type": "code",
   "execution_count": 72,
   "metadata": {},
   "outputs": [],
   "source": [
    "wd = 1e-7\n",
    "wd = 0\n",
    "learn.load_encoder('lm1_enc')"
   ]
  },
  {
   "cell_type": "code",
   "execution_count": 73,
   "metadata": {},
   "outputs": [],
   "source": [
    "learn.freeze_to(-1)"
   ]
  },
  {
   "cell_type": "code",
   "execution_count": 74,
   "metadata": {},
   "outputs": [
    {
     "data": {
      "application/vnd.jupyter.widget-view+json": {
       "model_id": "d2c19e9cd6e647bda26c85edcecc74a2",
       "version_major": 2,
       "version_minor": 0
      },
      "text/plain": [
       "HBox(children=(IntProgress(value=0, description='Epoch', max=1), HTML(value='')))"
      ]
     },
     "metadata": {},
     "output_type": "display_data"
    },
    {
     "name": "stdout",
     "output_type": "stream",
     "text": [
      " 78%|███████▊  | 704/901 [00:13<00:03, 53.68it/s, loss=1.9]  "
     ]
    },
    {
     "data": {
      "image/png": "[encoded data removed]",
      "text/plain": [
       "<Figure size 432x288 with 1 Axes>"
      ]
     },
     "metadata": {},
     "output_type": "display_data"
    }
   ],
   "source": [
    "learn.lr_find(lrs/1000)\n",
    "learn.sched.plot()"
   ]
  },
  {
   "cell_type": "code",
   "execution_count": 75,
   "metadata": {},
   "outputs": [
    {
     "data": {
      "application/vnd.jupyter.widget-view+json": {
       "model_id": "9d8d64f2f4cc4288b0116c42f47ee16a",
       "version_major": 2,
       "version_minor": 0
      },
      "text/plain": [
       "HBox(children=(IntProgress(value=0, description='Epoch', max=1), HTML(value='')))"
      ]
     },
     "metadata": {},
     "output_type": "display_data"
    },
    {
     "name": "stdout",
     "output_type": "stream",
     "text": [
      "epoch      trn_loss   val_loss   accuracy                    \n",
      "    0      0.509603   0.237185   0.916355  \n"
     ]
    },
    {
     "data": {
      "text/plain": [
       "[array([0.23719]), 0.9163545564319311]"
      ]
     },
     "execution_count": 75,
     "metadata": {},
     "output_type": "execute_result"
    }
   ],
   "source": [
    "learn.fit(lrs, 1, wds=wd, cycle_len=1, use_clr=(8,3))"
   ]
  },
  {
   "cell_type": "code",
   "execution_count": 76,
   "metadata": {},
   "outputs": [],
   "source": [
    "learn.save('clas_0')"
   ]
  },
  {
   "cell_type": "code",
   "execution_count": 77,
   "metadata": {},
   "outputs": [],
   "source": [
    "learn.load('clas_0')"
   ]
  },
  {
   "cell_type": "code",
   "execution_count": 78,
   "metadata": {},
   "outputs": [],
   "source": [
    "learn.freeze_to(-2)"
   ]
  },
  {
   "cell_type": "code",
   "execution_count": 79,
   "metadata": {},
   "outputs": [
    {
     "data": {
      "application/vnd.jupyter.widget-view+json": {
       "model_id": "d89ade84cdb14e04bc12e7894186e1d3",
       "version_major": 2,
       "version_minor": 0
      },
      "text/plain": [
       "HBox(children=(IntProgress(value=0, description='Epoch', max=1), HTML(value='')))"
      ]
     },
     "metadata": {},
     "output_type": "display_data"
    },
    {
     "name": "stdout",
     "output_type": "stream",
     "text": [
      "epoch      trn_loss   val_loss   accuracy                    \n",
      "    0      0.407381   0.205364   0.928423  \n"
     ]
    },
    {
     "data": {
      "text/plain": [
       "[array([0.20536]), 0.9284228084239174]"
      ]
     },
     "execution_count": 79,
     "metadata": {},
     "output_type": "execute_result"
    }
   ],
   "source": [
    "learn.fit(lrs, 1, wds=wd, cycle_len=1, use_clr=(8,3))"
   ]
  },
  {
   "cell_type": "code",
   "execution_count": 80,
   "metadata": {},
   "outputs": [],
   "source": [
    "learn.save('clas_1')"
   ]
  },
  {
   "cell_type": "code",
   "execution_count": 81,
   "metadata": {},
   "outputs": [],
   "source": [
    "learn.load('clas_1')"
   ]
  },
  {
   "cell_type": "code",
   "execution_count": 82,
   "metadata": {},
   "outputs": [],
   "source": [
    "learn.unfreeze()"
   ]
  },
  {
   "cell_type": "code",
   "execution_count": 83,
   "metadata": {},
   "outputs": [
    {
     "name": "stdout",
     "output_type": "stream",
     "text": [
      "CPU times: user 1e+03 ns, sys: 1e+03 ns, total: 2 µs\n",
      "Wall time: 4.77 µs\n"
     ]
    },
    {
     "data": {
      "application/vnd.jupyter.widget-view+json": {
       "model_id": "be5efb92b3424eddb23833293629fc50",
       "version_major": 2,
       "version_minor": 0
      },
      "text/plain": [
       "HBox(children=(IntProgress(value=0, description='Epoch', max=20), HTML(value='')))"
      ]
     },
     "metadata": {},
     "output_type": "display_data"
    },
    {
     "name": "stdout",
     "output_type": "stream",
     "text": [
      "epoch      trn_loss   val_loss   accuracy                    \n",
      "    0      0.399376   0.223006   0.92551   \n",
      "    1      0.351069   0.212735   0.929671                    \n",
      "    2      0.308267   0.201409   0.93841                     \n",
      "    3      0.26033    0.177268   0.943404                    \n",
      "    4      0.255846   0.181364   0.940491                    \n",
      "    5      0.209574   0.170326   0.947566                    \n",
      "    6      0.242916   0.16978    0.944236                    \n",
      "    7      0.197913   0.173062   0.945901                    \n",
      "    8      0.156588   0.164498   0.951727                    \n",
      "    9      0.186398   0.160765   0.952559                    \n",
      "    10     0.176702   0.163246   0.950479                    \n",
      "    11     0.162039   0.173846   0.953392                    \n",
      "    12     0.179223   0.162937   0.953392                    \n",
      "    13     0.151864   0.167528   0.955472                    \n",
      "    14     0.178218   0.165271   0.954224                    \n",
      "    15     0.170336   0.168851   0.953808                     \n",
      "    16     0.099724   0.173304   0.955472                    \n",
      "    17     0.125349   0.166906   0.956721                     \n",
      "    18     0.116449   0.163688   0.955888                    \n",
      "    19     0.119893   0.16112    0.956305                     \n"
     ]
    },
    {
     "data": {
      "text/plain": [
       "[array([0.16112]), 0.9563046239883861]"
      ]
     },
     "execution_count": 83,
     "metadata": {},
     "output_type": "execute_result"
    }
   ],
   "source": [
    "%time\n",
    "\n",
    "learn.fit(lrs, 1, wds=wd, cycle_len=20, use_clr=(32,10))"
   ]
  },
  {
   "cell_type": "code",
   "execution_count": 84,
   "metadata": {},
   "outputs": [
    {
     "data": {
      "image/png": "[encoded data removed]",
      "text/plain": [
       "<Figure size 432x288 with 1 Axes>"
      ]
     },
     "metadata": {},
     "output_type": "display_data"
    }
   ],
   "source": [
    "learn.sched.plot_loss()"
   ]
  },
  {
   "cell_type": "code",
   "execution_count": 85,
   "metadata": {},
   "outputs": [],
   "source": [
    "learn.save('clas_2')"
   ]
  },
  {
   "cell_type": "code",
   "execution_count": null,
   "metadata": {},
   "outputs": [],
   "source": []
  }
 ],
 "metadata": {
  "kernelspec": {
   "display_name": "Python 3",
   "language": "python",
   "name": "python3"
  },
  "language_info": {
   "codemirror_mode": {
    "name": "ipython",
    "version": 3
   },
   "file_extension": ".py",
   "mimetype": "text/x-python",
   "name": "python",
   "nbconvert_exporter": "python",
   "pygments_lexer": "ipython3",
   "version": "3.6.5"
  }
 },
 "nbformat": 4,
 "nbformat_minor": 2
}
