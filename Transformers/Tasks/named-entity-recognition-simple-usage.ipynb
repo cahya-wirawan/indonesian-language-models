{
 "cells": [
  {
   "cell_type": "markdown",
   "metadata": {},
   "source": [
    "# Named Entity Recognition: Simple Usage "
   ]
  },
  {
   "cell_type": "code",
   "execution_count": 1,
   "metadata": {},
   "outputs": [],
   "source": [
    "from simpletransformers.ner import NERModel, NERArgs"
   ]
  },
  {
   "cell_type": "code",
   "execution_count": 2,
   "metadata": {},
   "outputs": [],
   "source": [
    "labels = ['B-CRD', 'B-DAT', 'B-EVT', 'B-FAC', 'B-GPE', 'B-LAN', 'B-LAW', 'B-LOC', 'B-MON', 'B-NOR', 'B-ORD', 'B-ORG', 'B-PER', 'B-PRC', 'B-PRD', 'B-QTY', 'B-REG', 'B-TIM', 'B-WOA', 'I-CRD', 'I-DAT', 'I-EVT', 'I-FAC', 'I-GPE', 'I-LAN', 'I-LAW', 'I-LOC', 'I-MON', 'I-NOR', 'I-ORD', 'I-ORG', 'I-PER', 'I-PRC', 'I-PRD', 'I-QTY', 'I-REG', 'I-TIM', 'I-WOA', 'O']"
   ]
  },
  {
   "cell_type": "code",
   "execution_count": 3,
   "metadata": {},
   "outputs": [],
   "source": [
    "# Configure the model\n",
    "model_args = NERArgs()\n",
    "model_args.labels_list = labels"
   ]
  },
  {
   "cell_type": "code",
   "execution_count": 4,
   "metadata": {},
   "outputs": [],
   "source": [
    "model = NERModel(\n",
    "    \"bert\", \"cahya/bert-base-indonesian-NER\",  args=model_args\n",
    ")"
   ]
  },
  {
   "cell_type": "code",
   "execution_count": 5,
   "metadata": {},
   "outputs": [
    {
     "data": {
      "application/vnd.jupyter.widget-view+json": {
       "model_id": "4d253bdfaf574747a5cd70763908b3e2",
       "version_major": 2,
       "version_minor": 0
      },
      "text/plain": [
       "HBox(children=(FloatProgress(value=0.0, max=2.0), HTML(value='')))"
      ]
     },
     "metadata": {},
     "output_type": "display_data"
    },
    {
     "name": "stdout",
     "output_type": "stream",
     "text": [
      "\n"
     ]
    },
    {
     "data": {
      "application/vnd.jupyter.widget-view+json": {
       "model_id": "9c03687e0bbc4cef910e67aa719cac41",
       "version_major": 2,
       "version_minor": 0
      },
      "text/plain": [
       "HBox(children=(FloatProgress(value=0.0, description='Running Prediction', max=1.0, style=ProgressStyle(descrip…"
      ]
     },
     "metadata": {},
     "output_type": "display_data"
    },
    {
     "name": "stdout",
     "output_type": "stream",
     "text": [
      "\n"
     ]
    }
   ],
   "source": [
    "# Make predictions with the model\n",
    "texts = [\n",
    "    \"Gubernur Bank Indonesia Agus Martowardojo bersama jajaran deputi Gubernur Bank Indonesia menggelar konferensi pers usai Rapat Dewan Gubernur di Bank Indonesia, Jakarta, Kamis (17/5/2015)\",\n",
    "    \"Selama 24 jam puncak mahameru di Malang kebanjiran pendaki dari Wina\",\n",
    "]\n",
    "predictions, raw_outputs = model.predict(texts)"
   ]
  },
  {
   "cell_type": "code",
   "execution_count": 6,
   "metadata": {},
   "outputs": [
    {
     "data": {
      "text/plain": [
       "[[{'Gubernur': 'B-NOR'},\n",
       "  {'Bank': 'I-NOR'},\n",
       "  {'Indonesia': 'B-PER'},\n",
       "  {'Agus': 'B-PER'},\n",
       "  {'Martowardojo': 'I-PER'},\n",
       "  {'bersama': 'O'},\n",
       "  {'jajaran': 'O'},\n",
       "  {'deputi': 'B-NOR'},\n",
       "  {'Gubernur': 'I-NOR'},\n",
       "  {'Bank': 'I-NOR'},\n",
       "  {'Indonesia': 'I-NOR'},\n",
       "  {'menggelar': 'O'},\n",
       "  {'konferensi': 'B-EVT'},\n",
       "  {'pers': 'I-EVT'},\n",
       "  {'usai': 'O'},\n",
       "  {'Rapat': 'B-EVT'},\n",
       "  {'Dewan': 'I-EVT'},\n",
       "  {'Gubernur': 'I-EVT'},\n",
       "  {'di': 'O'},\n",
       "  {'Bank': 'B-LOC'},\n",
       "  {'Indonesia,': 'I-LOC'},\n",
       "  {'Jakarta,': 'B-GPE'},\n",
       "  {'Kamis': 'B-DAT'},\n",
       "  {'(17/5/2015)': 'I-DAT'}],\n",
       " [{'Selama': 'O'},\n",
       "  {'24': 'B-QTY'},\n",
       "  {'jam': 'I-QTY'},\n",
       "  {'puncak': 'O'},\n",
       "  {'mahameru': 'O'},\n",
       "  {'di': 'O'},\n",
       "  {'Malang': 'B-GPE'},\n",
       "  {'kebanjiran': 'O'},\n",
       "  {'pendaki': 'O'},\n",
       "  {'dari': 'O'},\n",
       "  {'Wina': 'B-GPE'}]]"
      ]
     },
     "execution_count": 6,
     "metadata": {},
     "output_type": "execute_result"
    }
   ],
   "source": [
    "predictions"
   ]
  },
  {
   "cell_type": "code",
   "execution_count": null,
   "metadata": {},
   "outputs": [],
   "source": []
  }
 ],
 "metadata": {
  "kernelspec": {
   "display_name": "Python 3",
   "language": "python",
   "name": "python3"
  },
  "language_info": {
   "codemirror_mode": {
    "name": "ipython",
    "version": 3
   },
   "file_extension": ".py",
   "mimetype": "text/x-python",
   "name": "python",
   "nbconvert_exporter": "python",
   "pygments_lexer": "ipython3",
   "version": "3.7.0"
  }
 },
 "nbformat": 4,
 "nbformat_minor": 4
}
