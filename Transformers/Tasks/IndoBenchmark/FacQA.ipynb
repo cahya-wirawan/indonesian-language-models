{
 "cells": [
  {
   "cell_type": "markdown",
   "metadata": {},
   "source": [
    "# Question and Answering"
   ]
  },
  {
   "cell_type": "code",
   "execution_count": 1,
   "metadata": {},
   "outputs": [],
   "source": [
    "import logging\n",
    "import json\n",
    "import pandas as pd\n",
    "from simpletransformers.question_answering import QuestionAnsweringModel, QuestionAnsweringArgs"
   ]
  },
  {
   "cell_type": "code",
   "execution_count": 2,
   "metadata": {},
   "outputs": [],
   "source": [
    "logging.basicConfig(level=logging.INFO)\n",
    "transformers_logger = logging.getLogger(\"transformers\")\n",
    "transformers_logger.setLevel(logging.WARNING)"
   ]
  },
  {
   "cell_type": "code",
   "execution_count": 3,
   "metadata": {},
   "outputs": [],
   "source": [
    "data_dir = \"/dataset/indonlu/facqa_qa-factoid-itb\"\n",
    "file_train = f'{data_dir}/train_preprocess.csv'\n",
    "file_valid = f'{data_dir}/valid_preprocess.csv'\n",
    "file_test = f'{data_dir}/test_preprocess_masked_label.csv'\n",
    "#file_labels_map = f'{data_dir}/labels-map.csv'"
   ]
  },
  {
   "cell_type": "code",
   "execution_count": 23,
   "metadata": {},
   "outputs": [],
   "source": [
    "def save_result(filename, data, texts):\n",
    "    prediction = {'index':[], 'label':[]}\n",
    "    for i, qa in enumerate(data):\n",
    "        id = qa['qas'][0]['id']\n",
    "        question = qa['qas'][0]['question']    \n",
    "        context = qa['context']\n",
    "        label = ['O']*len(context.split())\n",
    "        try:\n",
    "            answer = texts['similar_text'][id]['predicted']\n",
    "            answer_list = answer.split()\n",
    "            answer_start = context.index(answer)\n",
    "            context_list = context[:answer_start].split()\n",
    "            answer_index = len(context_list)\n",
    "            for j, ans in enumerate(answer_list):\n",
    "                if j == 0:\n",
    "                    label[answer_index+j] = 'B'\n",
    "                else:\n",
    "                    label[answer_index+j] = 'I'\n",
    "        except KeyError:\n",
    "            pass\n",
    "        prediction['index'].append(i)\n",
    "        prediction['label'].append(str(label))\n",
    "    prediction_df = pd.DataFrame.from_dict(prediction).set_index('index')\n",
    "    prediction_df.to_csv(filename)"
   ]
  },
  {
   "cell_type": "code",
   "execution_count": 4,
   "metadata": {},
   "outputs": [],
   "source": [
    "data_train = pd.read_csv(file_train, names=['question','passage','seq_label'], header=0)"
   ]
  },
  {
   "cell_type": "code",
   "execution_count": 5,
   "metadata": {},
   "outputs": [
    {
     "data": {
      "text/html": [
       "<div>\n",
       "<style scoped>\n",
       "    .dataframe tbody tr th:only-of-type {\n",
       "        vertical-align: middle;\n",
       "    }\n",
       "\n",
       "    .dataframe tbody tr th {\n",
       "        vertical-align: top;\n",
       "    }\n",
       "\n",
       "    .dataframe thead th {\n",
       "        text-align: right;\n",
       "    }\n",
       "</style>\n",
       "<table border=\"1\" class=\"dataframe\">\n",
       "  <thead>\n",
       "    <tr style=\"text-align: right;\">\n",
       "      <th></th>\n",
       "      <th>question</th>\n",
       "      <th>passage</th>\n",
       "      <th>seq_label</th>\n",
       "    </tr>\n",
       "  </thead>\n",
       "  <tbody>\n",
       "    <tr>\n",
       "      <th>0</th>\n",
       "      <td>['Kelompok', 'apakah', 'yang', 'menyatakan', '...</td>\n",
       "      <td>['Lewat', 'telepon', 'ke', 'kantor', 'berita',...</td>\n",
       "      <td>['O', 'O', 'O', 'O', 'O', 'O', 'O', 'O', 'O', ...</td>\n",
       "    </tr>\n",
       "    <tr>\n",
       "      <th>1</th>\n",
       "      <td>['Di', 'pulau', 'manakah', ',', 'PT', 'Mutiara...</td>\n",
       "      <td>['Sejak', 'tahun', '1980', '-', 'an', 'di', 'K...</td>\n",
       "      <td>['O', 'O', 'O', 'O', 'O', 'O', 'O', 'O', 'O', ...</td>\n",
       "    </tr>\n",
       "    <tr>\n",
       "      <th>2</th>\n",
       "      <td>['Apakah', 'warna', 'pasir', 'pada', 'pesisir'...</td>\n",
       "      <td>['Titik', 'kedua', 'adalah', 'Pantai', 'Baturu...</td>\n",
       "      <td>['O', 'O', 'O', 'O', 'O', 'O', 'O', 'O', 'O', ...</td>\n",
       "    </tr>\n",
       "    <tr>\n",
       "      <th>3</th>\n",
       "      <td>['Apa', 'nama', 'perusahaan', 'China', 'yang',...</td>\n",
       "      <td>['Sichuan', ',', 'Kompas', '-', 'Pemerintah', ...</td>\n",
       "      <td>['O', 'O', 'O', 'O', 'O', 'O', 'O', 'O', 'O', ...</td>\n",
       "    </tr>\n",
       "    <tr>\n",
       "      <th>4</th>\n",
       "      <td>['Siapa', 'yang', 'akan', 'memindahkan', 'Patu...</td>\n",
       "      <td>['Jakarta', ',', 'Kompas', '-', 'Patung', 'Kar...</td>\n",
       "      <td>['O', 'O', 'O', 'O', 'O', 'O', 'O', 'O', 'O', ...</td>\n",
       "    </tr>\n",
       "    <tr>\n",
       "      <th>5</th>\n",
       "      <td>['Berapa', 'kapasitas', 'PLTS', 'yang', 'sudah...</td>\n",
       "      <td>['Untuk', 'PLTS', ',', 'satu', 'unit', 'PLTS',...</td>\n",
       "      <td>['O', 'O', 'O', 'O', 'O', 'O', 'O', 'O', 'O', ...</td>\n",
       "    </tr>\n",
       "    <tr>\n",
       "      <th>6</th>\n",
       "      <td>['Tanggal', 'berapa', 'Presiden', 'Susilo', 'B...</td>\n",
       "      <td>['Jakarta', ',', 'Kompas', '-', 'Presiden', 'S...</td>\n",
       "      <td>['O', 'O', 'O', 'O', 'O', 'O', 'O', 'O', 'O', ...</td>\n",
       "    </tr>\n",
       "    <tr>\n",
       "      <th>7</th>\n",
       "      <td>['Siapa', 'nama', 'presiden', 'Indonesia', 'se...</td>\n",
       "      <td>['Menteri', 'Sekretaris', 'Negara', 'Yusril', ...</td>\n",
       "      <td>['O', 'O', 'O', 'O', 'O', 'O', 'O', 'O', 'O', ...</td>\n",
       "    </tr>\n",
       "    <tr>\n",
       "      <th>8</th>\n",
       "      <td>['Apakah', 'nama', 'kapsul', 'karya', 'Rusia',...</td>\n",
       "      <td>['Shenzhou', 'yang', 'dikembangkan', 'dari', '...</td>\n",
       "      <td>['O', 'O', 'O', 'O', 'O', 'B', 'O', 'O', 'O', ...</td>\n",
       "    </tr>\n",
       "    <tr>\n",
       "      <th>9</th>\n",
       "      <td>['Apakah', 'istilah', 'untuk', 'hasil', 'penca...</td>\n",
       "      <td>['Biodiesel', 'berpotensi', 'menggantikan', 's...</td>\n",
       "      <td>['O', 'O', 'O', 'O', 'O', 'B', 'O', 'O', 'O', ...</td>\n",
       "    </tr>\n",
       "  </tbody>\n",
       "</table>\n",
       "</div>"
      ],
      "text/plain": [
       "                                            question  \\\n",
       "0  ['Kelompok', 'apakah', 'yang', 'menyatakan', '...   \n",
       "1  ['Di', 'pulau', 'manakah', ',', 'PT', 'Mutiara...   \n",
       "2  ['Apakah', 'warna', 'pasir', 'pada', 'pesisir'...   \n",
       "3  ['Apa', 'nama', 'perusahaan', 'China', 'yang',...   \n",
       "4  ['Siapa', 'yang', 'akan', 'memindahkan', 'Patu...   \n",
       "5  ['Berapa', 'kapasitas', 'PLTS', 'yang', 'sudah...   \n",
       "6  ['Tanggal', 'berapa', 'Presiden', 'Susilo', 'B...   \n",
       "7  ['Siapa', 'nama', 'presiden', 'Indonesia', 'se...   \n",
       "8  ['Apakah', 'nama', 'kapsul', 'karya', 'Rusia',...   \n",
       "9  ['Apakah', 'istilah', 'untuk', 'hasil', 'penca...   \n",
       "\n",
       "                                             passage  \\\n",
       "0  ['Lewat', 'telepon', 'ke', 'kantor', 'berita',...   \n",
       "1  ['Sejak', 'tahun', '1980', '-', 'an', 'di', 'K...   \n",
       "2  ['Titik', 'kedua', 'adalah', 'Pantai', 'Baturu...   \n",
       "3  ['Sichuan', ',', 'Kompas', '-', 'Pemerintah', ...   \n",
       "4  ['Jakarta', ',', 'Kompas', '-', 'Patung', 'Kar...   \n",
       "5  ['Untuk', 'PLTS', ',', 'satu', 'unit', 'PLTS',...   \n",
       "6  ['Jakarta', ',', 'Kompas', '-', 'Presiden', 'S...   \n",
       "7  ['Menteri', 'Sekretaris', 'Negara', 'Yusril', ...   \n",
       "8  ['Shenzhou', 'yang', 'dikembangkan', 'dari', '...   \n",
       "9  ['Biodiesel', 'berpotensi', 'menggantikan', 's...   \n",
       "\n",
       "                                           seq_label  \n",
       "0  ['O', 'O', 'O', 'O', 'O', 'O', 'O', 'O', 'O', ...  \n",
       "1  ['O', 'O', 'O', 'O', 'O', 'O', 'O', 'O', 'O', ...  \n",
       "2  ['O', 'O', 'O', 'O', 'O', 'O', 'O', 'O', 'O', ...  \n",
       "3  ['O', 'O', 'O', 'O', 'O', 'O', 'O', 'O', 'O', ...  \n",
       "4  ['O', 'O', 'O', 'O', 'O', 'O', 'O', 'O', 'O', ...  \n",
       "5  ['O', 'O', 'O', 'O', 'O', 'O', 'O', 'O', 'O', ...  \n",
       "6  ['O', 'O', 'O', 'O', 'O', 'O', 'O', 'O', 'O', ...  \n",
       "7  ['O', 'O', 'O', 'O', 'O', 'O', 'O', 'O', 'O', ...  \n",
       "8  ['O', 'O', 'O', 'O', 'O', 'B', 'O', 'O', 'O', ...  \n",
       "9  ['O', 'O', 'O', 'O', 'O', 'B', 'O', 'O', 'O', ...  "
      ]
     },
     "execution_count": 5,
     "metadata": {},
     "output_type": "execute_result"
    }
   ],
   "source": [
    "data_train.head(10)"
   ]
  },
  {
   "cell_type": "code",
   "execution_count": 46,
   "metadata": {},
   "outputs": [],
   "source": [
    "def get_qa(filename, prefix='id-'):\n",
    "    data_df = pd.read_csv(filename, names=['question','passage','seq_label'], header=0)\n",
    "    data_qa = []\n",
    "    for i, row in data_df.iterrows():\n",
    "        #if i>5:\n",
    "        #    break\n",
    "        question_list = [q.strip(\"\\'\") for q in row['question'].strip('[]').split(', ')]\n",
    "        question = ' '.join(question_list)\n",
    "        passage_list = [p.strip(\"\\'\") for p in row['passage'].strip('[]').split(', ')]\n",
    "        context = ' '.join(passage_list)\n",
    "        seq_label_list = [s.strip(\"\\'\") for s in row['seq_label'].strip('[]').split(', ')]\n",
    "        answer = []\n",
    "        for j, label in enumerate(seq_label_list):\n",
    "            if label != 'O':\n",
    "                answer.append(passage_list[j])\n",
    "            elif len(answer) != 0:\n",
    "                break\n",
    "        answer = ' '.join(answer)\n",
    "        index = context.index(answer)\n",
    "        #print(f'Q: {question}')\n",
    "        #print(f'C: {context}')\n",
    "        #print(f'A: {answer}, I:{index}\\n')\n",
    "        data = {'qas': [{'question': question, 'answers': [{'text': answer, 'answer_start': index}], 'id':f'{prefix}{i}' }],\n",
    "               'context': context}\n",
    "        data_qa.append(data)\n",
    "    return data_qa"
   ]
  },
  {
   "cell_type": "code",
   "execution_count": 47,
   "metadata": {},
   "outputs": [],
   "source": [
    "data_train_qa = get_qa(file_train, 'train-')\n",
    "data_valid_qa = get_qa(file_valid, 'valid-')\n",
    "data_test_qa = get_qa(file_test, 'test-')"
   ]
  },
  {
   "cell_type": "code",
   "execution_count": 48,
   "metadata": {},
   "outputs": [
    {
     "data": {
      "text/plain": [
       "[{'qas': [{'question': 'Kelompok apakah yang menyatakan bertanggung jawab atas ledakan di Srinagar ?',\n",
       "    'answers': [{'text': 'Hezb-ul Mujahedeen', 'answer_start': 60}],\n",
       "    'id': 'train-0'}],\n",
       "  'context': 'Lewat telepon ke kantor berita lokal Current News Service , Hezb-ul Mujahedeen , kelompok militan Kashmir yang terbesar , menyatakan bertanggung jawab atas ledakan di Srinagar .'},\n",
       " {'qas': [{'question': 'Di pulau manakah , PT Mutiara Indopearl berlokasi sebelum dekade 2000 - an',\n",
       "    'answers': [{'text': 'Pulau Makassar', 'answer_start': 108}],\n",
       "    'id': 'train-1'}],\n",
       "  'context': 'Sejak tahun 1980 - an di Kota Bau-Bau terdapat dua perusahaan budidaya mutiara , yaitu PT Mutiara Indopearl Pulau Makassar dan PT Selat Buton . PT Mutiara Indopearl berlokasi di Pulau Makassar dan PT Selat Buton di Palabusa .'}]"
      ]
     },
     "execution_count": 48,
     "metadata": {},
     "output_type": "execute_result"
    }
   ],
   "source": [
    "data_train_qa[:2]"
   ]
  },
  {
   "cell_type": "code",
   "execution_count": 49,
   "metadata": {},
   "outputs": [
    {
     "data": {
      "text/plain": [
       "[{'qas': [{'question': 'Apa nama latin dari harimau Sumatera ?',\n",
       "    'answers': [{'text': 'Panthera tigris sumatrensis', 'answer_start': 85}],\n",
       "    'id': 'valid-0'}],\n",
       "  'context': 'Selain orangutan , satwa yang berada TNGL itu di antaranya adalah harimau sumatera ( Panthera tigris sumatrensis ) . Tim Kompas bulan lalu pernah memergoki harimau ini di tepi jalan raya Tapaktuan-Singkil , tepatnya di Desa Sultan Daulat , yang masuk koridor ekosistem Leuser .'},\n",
       " {'qas': [{'question': 'Berapa penumpang yang turut dalam penerbangan GA - 181 jurusan Medan-Jakarta yang mendarat darurat di Bandar Udara Sultan Syarif Kasim II Pekanbaru , Riau pada tanggal 6 September 2005 ?',\n",
       "    'answers': [{'text': '84 penumpang', 'answer_start': 55}],\n",
       "    'id': 'valid-1'}],\n",
       "  'context': 'Pesawat dengan nomor penerbangan GA - 181 yang membawa 84 penumpang , termasuk Menteri Sosial Bachtiar Chamsyah dan sejumlah anggota Komisi V DPR , ini terpaksa mendarat darurat karena terjadi kerusakan pada mesin di sayap kanan , 40 menit setelah lepas landas dari Bandar Udara Polonia , Medan , Sumatera Utara .'}]"
      ]
     },
     "execution_count": 49,
     "metadata": {},
     "output_type": "execute_result"
    }
   ],
   "source": [
    "data_valid_qa[:2]"
   ]
  },
  {
   "cell_type": "code",
   "execution_count": 50,
   "metadata": {},
   "outputs": [
    {
     "data": {
      "text/plain": [
       "[{'qas': [{'question': 'Siapakah pelatih ganda putra bulu tangkis yang tidak meragukan tekad Candra / Sigit untuk bekerja lebih keras pada perebutan piala Thomas',\n",
       "    'answers': [{'text': '', 'answer_start': 0}],\n",
       "    'id': 'test-0'}],\n",
       "  'context': 'Pelatih ganda putra , Christian Hadinata , tak meragukan tekad Candra / Sigit . Bila dia sudah ngomong begitu , saya tidak ragu lagi , ujarnya .'},\n",
       " {'qas': [{'question': 'Siapa nama Perdana Menteri Inggris ?',\n",
       "    'answers': [{'text': '', 'answer_start': 0}],\n",
       "    'id': 'test-1'}],\n",
       "  'context': 'Curtis mengatakan hal itu setelah membandingkan janji-janji besar G - 8 dengan kenyataan di lapangan . Pada Juli lalu , Perdana Menteri Inggris Tony Blair mengatakan , G - 8 setuju menaikkan bantuan sebesar 48 miliar dollar AS per tahun pada 2010 .'}]"
      ]
     },
     "execution_count": 50,
     "metadata": {},
     "output_type": "execute_result"
    }
   ],
   "source": [
    "data_test_qa[:2]"
   ]
  },
  {
   "cell_type": "code",
   "execution_count": 51,
   "metadata": {},
   "outputs": [
    {
     "data": {
      "text/plain": [
       "(2495, 311, 311)"
      ]
     },
     "execution_count": 51,
     "metadata": {},
     "output_type": "execute_result"
    }
   ],
   "source": [
    "len(data_train_qa), len(data_valid_qa), len(data_test_qa)"
   ]
  },
  {
   "cell_type": "code",
   "execution_count": 12,
   "metadata": {},
   "outputs": [],
   "source": [
    "# Configure the model\n",
    "model_args = QuestionAnsweringArgs()\n",
    "model_args.num_train_epochs = 5\n",
    "model_args.train_batch_size = 64\n",
    "model_args.evaluate_during_training = True\n",
    "model_args.output_dir = '/output/indonlu/facqa/bert-base-indonesian-522M'\n",
    "model_args.best_model_dir = f'{model_args.output_dir}/best_model'\n",
    "model_args.overwrite_output_dir = True\n",
    "model_args.fp16 = False\n",
    "model_args.do_lower_case = True"
   ]
  },
  {
   "cell_type": "code",
   "execution_count": 13,
   "metadata": {},
   "outputs": [
    {
     "name": "stderr",
     "output_type": "stream",
     "text": [
      "Some weights of the model checkpoint at cahya/bert-base-indonesian-522M were not used when initializing BertForQuestionAnswering: ['cls.predictions.bias', 'cls.predictions.transform.dense.weight', 'cls.predictions.transform.dense.bias', 'cls.predictions.transform.LayerNorm.weight', 'cls.predictions.transform.LayerNorm.bias', 'cls.predictions.decoder.weight', 'cls.predictions.decoder.bias']\n",
      "- This IS expected if you are initializing BertForQuestionAnswering from the checkpoint of a model trained on another task or with another architecture (e.g. initializing a BertForSequenceClassification model from a BertForPretraining model).\n",
      "- This IS NOT expected if you are initializing BertForQuestionAnswering from the checkpoint of a model that you expect to be exactly identical (initializing a BertForSequenceClassification model from a BertForSequenceClassification model).\n",
      "Some weights of BertForQuestionAnswering were not initialized from the model checkpoint at cahya/bert-base-indonesian-522M and are newly initialized: ['qa_outputs.weight', 'qa_outputs.bias']\n",
      "You should probably TRAIN this model on a down-stream task to be able to use it for predictions and inference.\n"
     ]
    }
   ],
   "source": [
    "model = QuestionAnsweringModel(\n",
    "    \"bert\", \"cahya/bert-base-indonesian-522M\", args=model_args\n",
    "    #\"roberta\", \"cahya/roberta-base-indonesian-522M\", args=model_args,\n",
    "    #\"xlmroberta\", \"xlm-roberta-base\", args=model_args,\n",
    "    #\"bert\", \"/output/bert-id-100/bert-base-indonesian-522M-100e\", args=model_args\n",
    ")"
   ]
  },
  {
   "cell_type": "code",
   "execution_count": 14,
   "metadata": {
    "scrolled": false
   },
   "outputs": [
    {
     "name": "stderr",
     "output_type": "stream",
     "text": [
      "INFO:simpletransformers.question_answering.question_answering_model: Converting to features started.\n",
      "convert squad examples to features:   0%|          | 0/2495 [00:00<?, ?it/s]/root/Work/transformers/src/transformers/tokenization_utils_base.py:1321: FutureWarning: The `max_len` attribute has been deprecated and will be removed in a future version, use `model_max_length` instead.\n",
      "  FutureWarning,\n",
      "/root/Work/transformers/src/transformers/tokenization_utils_base.py:1321: FutureWarning: The `max_len` attribute has been deprecated and will be removed in a future version, use `model_max_length` instead.\n",
      "  FutureWarning,\n",
      "/root/Work/transformers/src/transformers/tokenization_utils_base.py:1321: FutureWarning: The `max_len` attribute has been deprecated and will be removed in a future version, use `model_max_length` instead.\n",
      "  FutureWarning,\n",
      "/root/Work/transformers/src/transformers/tokenization_utils_base.py:1321: FutureWarning: The `max_len` attribute has been deprecated and will be removed in a future version, use `model_max_length` instead.\n",
      "  FutureWarning,\n",
      "/root/Work/transformers/src/transformers/tokenization_utils_base.py:1321: FutureWarning: The `max_len` attribute has been deprecated and will be removed in a future version, use `model_max_length` instead.\n",
      "  FutureWarning,\n",
      "convert squad examples to features: 100%|██████████| 2495/2495 [00:03<00:00, 705.89it/s]\n",
      "add example index and unique id: 100%|██████████| 2495/2495 [00:00<00:00, 511600.51it/s]\n"
     ]
    },
    {
     "data": {
      "application/vnd.jupyter.widget-view+json": {
       "model_id": "a3dd2f11c29c4be5b1bcd82492f31ebb",
       "version_major": 2,
       "version_minor": 0
      },
      "text/plain": [
       "HBox(children=(FloatProgress(value=0.0, description='Epoch', max=5.0, style=ProgressStyle(description_width='i…"
      ]
     },
     "metadata": {},
     "output_type": "display_data"
    },
    {
     "data": {
      "application/vnd.jupyter.widget-view+json": {
       "model_id": "26f96b7a2b35492285b84cfee16e5e17",
       "version_major": 2,
       "version_minor": 0
      },
      "text/plain": [
       "HBox(children=(FloatProgress(value=0.0, description='Running Epoch 0 of 5', max=39.0, style=ProgressStyle(desc…"
      ]
     },
     "metadata": {},
     "output_type": "display_data"
    },
    {
     "name": "stdout",
     "output_type": "stream",
     "text": [
      "\n"
     ]
    },
    {
     "name": "stderr",
     "output_type": "stream",
     "text": [
      "/sysadmin/wirawan/miniconda3/envs/transformers-cuda9/lib/python3.7/site-packages/torch/optim/lr_scheduler.py:200: UserWarning: Please also save or load the state of the optimzer when saving or loading the scheduler.\n",
      "  warnings.warn(SAVE_STATE_WARNING, UserWarning)\n",
      "INFO:simpletransformers.question_answering.question_answering_model: Converting to features started.\n",
      "\n",
      "convert squad examples to features:   0%|          | 0/311 [00:00<?, ?it/s]\u001b[A/root/Work/transformers/src/transformers/tokenization_utils_base.py:1321: FutureWarning: The `max_len` attribute has been deprecated and will be removed in a future version, use `model_max_length` instead.\n",
      "  FutureWarning,\n",
      "\n",
      "convert squad examples to features: 100%|██████████| 311/311 [00:01<00:00, 234.54it/s]\n",
      "\n",
      "add example index and unique id: 100%|██████████| 311/311 [00:00<00:00, 302230.90it/s]\n"
     ]
    },
    {
     "data": {
      "application/vnd.jupyter.widget-view+json": {
       "model_id": "b045ba8e9c574d55bf2a6942f1e8ca32",
       "version_major": 2,
       "version_minor": 0
      },
      "text/plain": [
       "HBox(children=(FloatProgress(value=0.0, description='Running Evaluation', max=39.0, style=ProgressStyle(descri…"
      ]
     },
     "metadata": {},
     "output_type": "display_data"
    },
    {
     "name": "stdout",
     "output_type": "stream",
     "text": [
      "\n"
     ]
    },
    {
     "data": {
      "application/vnd.jupyter.widget-view+json": {
       "model_id": "6bd04d685507482390b8a41cbeda2ddf",
       "version_major": 2,
       "version_minor": 0
      },
      "text/plain": [
       "HBox(children=(FloatProgress(value=0.0, description='Running Epoch 1 of 5', max=39.0, style=ProgressStyle(desc…"
      ]
     },
     "metadata": {},
     "output_type": "display_data"
    },
    {
     "name": "stderr",
     "output_type": "stream",
     "text": [
      "/sysadmin/wirawan/miniconda3/envs/transformers-cuda9/lib/python3.7/site-packages/torch/optim/lr_scheduler.py:231: UserWarning: To get the last learning rate computed by the scheduler, please use `get_last_lr()`.\n",
      "  warnings.warn(\"To get the last learning rate computed by the scheduler, \"\n"
     ]
    },
    {
     "name": "stdout",
     "output_type": "stream",
     "text": [
      "\n"
     ]
    },
    {
     "name": "stderr",
     "output_type": "stream",
     "text": [
      "INFO:simpletransformers.question_answering.question_answering_model: Converting to features started.\n",
      "\n",
      "convert squad examples to features:   0%|          | 0/311 [00:00<?, ?it/s]\u001b[A/root/Work/transformers/src/transformers/tokenization_utils_base.py:1321: FutureWarning: The `max_len` attribute has been deprecated and will be removed in a future version, use `model_max_length` instead.\n",
      "  FutureWarning,\n",
      "\n",
      "convert squad examples to features: 100%|██████████| 311/311 [00:01<00:00, 232.33it/s]\n",
      "\n",
      "add example index and unique id: 100%|██████████| 311/311 [00:00<00:00, 368899.48it/s]\n"
     ]
    },
    {
     "data": {
      "application/vnd.jupyter.widget-view+json": {
       "model_id": "bb3d5a7bba3740c48fe7c94a96cb39d7",
       "version_major": 2,
       "version_minor": 0
      },
      "text/plain": [
       "HBox(children=(FloatProgress(value=0.0, description='Running Evaluation', max=39.0, style=ProgressStyle(descri…"
      ]
     },
     "metadata": {},
     "output_type": "display_data"
    },
    {
     "name": "stdout",
     "output_type": "stream",
     "text": [
      "\n"
     ]
    },
    {
     "data": {
      "application/vnd.jupyter.widget-view+json": {
       "model_id": "684aa436c4054e9db8f393f9b6f0acb8",
       "version_major": 2,
       "version_minor": 0
      },
      "text/plain": [
       "HBox(children=(FloatProgress(value=0.0, description='Running Epoch 2 of 5', max=39.0, style=ProgressStyle(desc…"
      ]
     },
     "metadata": {},
     "output_type": "display_data"
    },
    {
     "name": "stdout",
     "output_type": "stream",
     "text": [
      "\n"
     ]
    },
    {
     "name": "stderr",
     "output_type": "stream",
     "text": [
      "INFO:simpletransformers.question_answering.question_answering_model: Converting to features started.\n",
      "\n",
      "convert squad examples to features:   0%|          | 0/311 [00:00<?, ?it/s]\u001b[A/root/Work/transformers/src/transformers/tokenization_utils_base.py:1321: FutureWarning: The `max_len` attribute has been deprecated and will be removed in a future version, use `model_max_length` instead.\n",
      "  FutureWarning,\n",
      "\n",
      "convert squad examples to features: 100%|██████████| 311/311 [00:01<00:00, 221.22it/s]\n",
      "\n",
      "add example index and unique id: 100%|██████████| 311/311 [00:00<00:00, 408655.56it/s]\n"
     ]
    },
    {
     "data": {
      "application/vnd.jupyter.widget-view+json": {
       "model_id": "3039e1e1d72d464cb197becb7f9fc030",
       "version_major": 2,
       "version_minor": 0
      },
      "text/plain": [
       "HBox(children=(FloatProgress(value=0.0, description='Running Evaluation', max=39.0, style=ProgressStyle(descri…"
      ]
     },
     "metadata": {},
     "output_type": "display_data"
    },
    {
     "name": "stdout",
     "output_type": "stream",
     "text": [
      "\n"
     ]
    },
    {
     "data": {
      "application/vnd.jupyter.widget-view+json": {
       "model_id": "e669fcc5b6684ff8b946ce058873c402",
       "version_major": 2,
       "version_minor": 0
      },
      "text/plain": [
       "HBox(children=(FloatProgress(value=0.0, description='Running Epoch 3 of 5', max=39.0, style=ProgressStyle(desc…"
      ]
     },
     "metadata": {},
     "output_type": "display_data"
    },
    {
     "name": "stdout",
     "output_type": "stream",
     "text": [
      "\n"
     ]
    },
    {
     "name": "stderr",
     "output_type": "stream",
     "text": [
      "INFO:simpletransformers.question_answering.question_answering_model: Converting to features started.\n",
      "\n",
      "convert squad examples to features:   0%|          | 0/311 [00:00<?, ?it/s]\u001b[A/root/Work/transformers/src/transformers/tokenization_utils_base.py:1321: FutureWarning: The `max_len` attribute has been deprecated and will be removed in a future version, use `model_max_length` instead.\n",
      "  FutureWarning,\n",
      "\n",
      "convert squad examples to features: 100%|██████████| 311/311 [00:01<00:00, 225.43it/s]\n",
      "\n",
      "add example index and unique id: 100%|██████████| 311/311 [00:00<00:00, 508747.48it/s]\n"
     ]
    },
    {
     "data": {
      "application/vnd.jupyter.widget-view+json": {
       "model_id": "1d7a31b9b8d646ad81aef31093ca1ad3",
       "version_major": 2,
       "version_minor": 0
      },
      "text/plain": [
       "HBox(children=(FloatProgress(value=0.0, description='Running Evaluation', max=39.0, style=ProgressStyle(descri…"
      ]
     },
     "metadata": {},
     "output_type": "display_data"
    },
    {
     "name": "stdout",
     "output_type": "stream",
     "text": [
      "\n"
     ]
    },
    {
     "data": {
      "application/vnd.jupyter.widget-view+json": {
       "model_id": "fb4310fb8e0541dea678e1b8f039a4c8",
       "version_major": 2,
       "version_minor": 0
      },
      "text/plain": [
       "HBox(children=(FloatProgress(value=0.0, description='Running Epoch 4 of 5', max=39.0, style=ProgressStyle(desc…"
      ]
     },
     "metadata": {},
     "output_type": "display_data"
    },
    {
     "name": "stdout",
     "output_type": "stream",
     "text": [
      "\n"
     ]
    },
    {
     "name": "stderr",
     "output_type": "stream",
     "text": [
      "INFO:simpletransformers.question_answering.question_answering_model: Converting to features started.\n",
      "\n",
      "convert squad examples to features:   0%|          | 0/311 [00:00<?, ?it/s]\u001b[A/root/Work/transformers/src/transformers/tokenization_utils_base.py:1321: FutureWarning: The `max_len` attribute has been deprecated and will be removed in a future version, use `model_max_length` instead.\n",
      "  FutureWarning,\n",
      "\n",
      "convert squad examples to features: 100%|██████████| 311/311 [00:01<00:00, 229.61it/s]\n",
      "\n",
      "add example index and unique id: 100%|██████████| 311/311 [00:00<00:00, 388801.35it/s]\n"
     ]
    },
    {
     "data": {
      "application/vnd.jupyter.widget-view+json": {
       "model_id": "85c9a05d000a49df8d9dd3adc5450e69",
       "version_major": 2,
       "version_minor": 0
      },
      "text/plain": [
       "HBox(children=(FloatProgress(value=0.0, description='Running Evaluation', max=39.0, style=ProgressStyle(descri…"
      ]
     },
     "metadata": {},
     "output_type": "display_data"
    },
    {
     "name": "stdout",
     "output_type": "stream",
     "text": [
      "\n",
      "\n"
     ]
    },
    {
     "name": "stderr",
     "output_type": "stream",
     "text": [
      "INFO:simpletransformers.question_answering.question_answering_model: Training of bert model complete. Saved to /output/indonlu/facqa/bert-base-indonesian-522M.\n"
     ]
    }
   ],
   "source": [
    "# Train the model\n",
    "model.train_model(data_train_qa, eval_data=data_valid_qa)\n"
   ]
  },
  {
   "cell_type": "code",
   "execution_count": 15,
   "metadata": {
    "scrolled": true
   },
   "outputs": [
    {
     "name": "stderr",
     "output_type": "stream",
     "text": [
      "INFO:simpletransformers.question_answering.question_answering_model: Converting to features started.\n",
      "convert squad examples to features:   0%|          | 0/311 [00:00<?, ?it/s]/root/Work/transformers/src/transformers/tokenization_utils_base.py:1321: FutureWarning: The `max_len` attribute has been deprecated and will be removed in a future version, use `model_max_length` instead.\n",
      "  FutureWarning,\n",
      "convert squad examples to features: 100%|██████████| 311/311 [00:02<00:00, 121.20it/s]\n",
      "add example index and unique id: 100%|██████████| 311/311 [00:00<00:00, 383655.45it/s]\n"
     ]
    },
    {
     "data": {
      "application/vnd.jupyter.widget-view+json": {
       "model_id": "9e4eec80c42d4d1c978b9aa46aea4094",
       "version_major": 2,
       "version_minor": 0
      },
      "text/plain": [
       "HBox(children=(FloatProgress(value=0.0, description='Running Evaluation', max=39.0, style=ProgressStyle(descri…"
      ]
     },
     "metadata": {},
     "output_type": "display_data"
    },
    {
     "name": "stdout",
     "output_type": "stream",
     "text": [
      "\n"
     ]
    }
   ],
   "source": [
    "# Evaluate the model\n",
    "result, texts = model.eval_model(data_valid_qa)"
   ]
  },
  {
   "cell_type": "code",
   "execution_count": 24,
   "metadata": {},
   "outputs": [
    {
     "data": {
      "text/plain": [
       "{'correct': 0, 'similar': 311, 'incorrect': 0, 'eval_loss': -7.691952424171643}"
      ]
     },
     "execution_count": 24,
     "metadata": {},
     "output_type": "execute_result"
    }
   ],
   "source": [
    "result"
   ]
  },
  {
   "cell_type": "code",
   "execution_count": 17,
   "metadata": {},
   "outputs": [
    {
     "name": "stderr",
     "output_type": "stream",
     "text": [
      "INFO:simpletransformers.question_answering.question_answering_model: Converting to features started.\n",
      "convert squad examples to features:   0%|          | 0/311 [00:00<?, ?it/s]/root/Work/transformers/src/transformers/tokenization_utils_base.py:1321: FutureWarning: The `max_len` attribute has been deprecated and will be removed in a future version, use `model_max_length` instead.\n",
      "  FutureWarning,\n",
      "convert squad examples to features: 100%|██████████| 311/311 [00:01<00:00, 230.98it/s]\n",
      "add example index and unique id: 100%|██████████| 311/311 [00:00<00:00, 332338.48it/s]\n"
     ]
    },
    {
     "data": {
      "application/vnd.jupyter.widget-view+json": {
       "model_id": "080f754234dc497faee5fa10d38da0d1",
       "version_major": 2,
       "version_minor": 0
      },
      "text/plain": [
       "HBox(children=(FloatProgress(value=0.0, description='Running Evaluation', max=39.0, style=ProgressStyle(descri…"
      ]
     },
     "metadata": {},
     "output_type": "display_data"
    },
    {
     "name": "stdout",
     "output_type": "stream",
     "text": [
      "\n"
     ]
    }
   ],
   "source": [
    "# Evaluate the model\n",
    "result, texts = model.eval_model(data_test_qa)"
   ]
  },
  {
   "cell_type": "code",
   "execution_count": 18,
   "metadata": {},
   "outputs": [
    {
     "data": {
      "text/plain": [
       "{'correct': 0, 'similar': 311, 'incorrect': 0, 'eval_loss': -7.691952424171643}"
      ]
     },
     "execution_count": 18,
     "metadata": {},
     "output_type": "execute_result"
    }
   ],
   "source": [
    "result"
   ]
  },
  {
   "cell_type": "code",
   "execution_count": 25,
   "metadata": {},
   "outputs": [
    {
     "data": {
      "text/plain": [
       "{'correct_text': {},\n",
       " 'similar_text': {'id-0': {'truth': '',\n",
       "   'predicted': 'Christian Hadinata',\n",
       "   'question': 'Siapakah pelatih ganda putra bulu tangkis yang tidak meragukan tekad Candra / Sigit untuk bekerja lebih keras pada perebutan piala Thomas'},\n",
       "  'id-1': {'truth': '',\n",
       "   'predicted': 'Tony Blair',\n",
       "   'question': 'Siapa nama Perdana Menteri Inggris ?'},\n",
       "  'id-2': {'truth': '',\n",
       "   'predicted': '49,07 detik',\n",
       "   'question': 'Berapakah catatan waktu terbaik Tonique Williams-Darling dalam lari 400 meter putri ?'},\n",
       "  'id-3': {'truth': '',\n",
       "   'predicted': 'Muntiacus muntjak',\n",
       "   'question': 'Apakah nama latin dari kijang'},\n",
       "  'id-4': {'truth': '',\n",
       "   'predicted': 'Jusuf Kalla',\n",
       "   'question': 'Siapa nama presiden Indonesia sekarang ?'},\n",
       "  'id-5': {'truth': '',\n",
       "   'predicted': 'Balai Kartini , Jakarta',\n",
       "   'question': 'Dimanakah konser untuk mendiang Teguh Karya akan dilaksanakan ?'},\n",
       "  'id-6': {'truth': '',\n",
       "   'predicted': 'fumigasi',\n",
       "   'question': 'Apa nama proses yang dilaksanakan Badan Karantina Pertanian di Indonesia sebagai tindak lanjut dari pengawasan hama bekicot pada peti kemas di pelabuhan Indonesia ?'},\n",
       "  'id-7': {'truth': '',\n",
       "   'predicted': 'Hamas',\n",
       "   'question': 'Kelompok apakah di Palestina yang dianggap sebagai kelompok garis keras dan tak henti melakukan serangan terhadap Israel'},\n",
       "  'id-8': {'truth': '',\n",
       "   'predicted': 'kota Berlin Mitte',\n",
       "   'question': 'Kota apa yang berjarak sekitar 15 kilometer dari Kopenick ?'},\n",
       "  'id-9': {'truth': '',\n",
       "   'predicted': 'Tony Djubiantono',\n",
       "   'question': 'Siapakah Asisten Deputi Arkeologi Nasional Departemen Kebudayaan dan Pariwisata ?'},\n",
       "  'id-10': {'truth': '',\n",
       "   'predicted': 'China',\n",
       "   'question': 'Berasal dari negara manakah , pasangan bulu tangkis Li Yongbo dan Tian Bingyi'},\n",
       "  'id-11': {'truth': '',\n",
       "   'predicted': 'Penghargaan Achmad Bakrie 2005',\n",
       "   'question': 'Apakah nama penghargaan yang diterima Sejarawan Sartono Kartodirdjo dan sastrawan Budi Darma ?'},\n",
       "  'id-12': {'truth': '',\n",
       "   'predicted': 'demam berdarah dengue ( DBD ) yang terjadi di Sumatera Selatan selama periode Agustus-Oktober , 117 kasus , memaksa Dinas Kesehatan memberlakukan status siaga satu . Jumlah kasus DBD akan diperkirakan membengkak dan mencapai puncaknya pada Januari-Februari 2006',\n",
       "   'question': 'Kapan diperkirakannya jumlah kasus DBD akan membengkak dan mencapai puncaknya di Sumatera Selatan menurut Dinas Kesehatan Sumatera Selatan ?'},\n",
       "  'id-13': {'truth': '',\n",
       "   'predicted': 'Partai Nasional Demokrasi ( NDP )',\n",
       "   'question': 'Menjadi wakil ketua di partai apakah Hosni Mubarak pada tahun 1978 ?'},\n",
       "  'id-14': {'truth': '',\n",
       "   'predicted': 'Pasar Sentral , Medan , Sumatera Utara',\n",
       "   'question': 'Dimanakah Menteri Perdagangan Mari Elka Pangestu mengadakan inspeksi mendadak , Kamis 8 September 2005 ?'},\n",
       "  'id-15': {'truth': '',\n",
       "   'predicted': 'Widjanarko Puspoyo',\n",
       "   'question': 'Siapakah direktur bulog Indonesia ?'},\n",
       "  'id-16': {'truth': '',\n",
       "   'predicted': 'Jerman',\n",
       "   'question': 'Kanselir Gerhard Schroeder berasal dari negara mana ?'},\n",
       "  'id-17': {'truth': '',\n",
       "   'predicted': 'Dinas Kehutanan Sulsel sudah melakukan upaya revitalisasi hutan agar luasan lahan kritis',\n",
       "   'question': 'Apakah nama program yang dilakukan Dinas Kehutanan Sulsel dalam upaya revitalisasi hutan di Sulawesi Selatan'},\n",
       "  'id-18': {'truth': '',\n",
       "   'predicted': 'KR',\n",
       "   'question': 'Lebih sering dipanggil apakah fotografer Kartono Ryadi ?'},\n",
       "  'id-19': {'truth': '',\n",
       "   'predicted': 'PT Angkasa Pura II',\n",
       "   'question': 'Apa nama perusahaan yang memperoleh izin untuk membangun Bandara Kuala Namu ?'},\n",
       "  'id-20': {'truth': '',\n",
       "   'predicted': 'Awibengkok Gunung Salak',\n",
       "   'question': 'Dimanakah lokasi sumber panas bumi di Jabar yang berkapasitas 330 MW ?'},\n",
       "  'id-21': {'truth': '',\n",
       "   'predicted': 'karang jahe',\n",
       "   'question': 'Jenis terumbu karang yang cepat tumbuh , Aecrofora dikenal pula dengan nama apa ?'},\n",
       "  'id-22': {'truth': '',\n",
       "   'predicted': '10 Oktober',\n",
       "   'question': 'kapan penghargaan International Star For Quality Award 2005 dilaksanakan'},\n",
       "  'id-23': {'truth': '',\n",
       "   'predicted': 'Thailand',\n",
       "   'question': 'Apa nama negara peserta patroli udara Selat Malaka ?'},\n",
       "  'id-24': {'truth': '',\n",
       "   'predicted': 'bulan Februari 2005 , yang mencapai 105,8 juta jiwa',\n",
       "   'question': 'Berapa angka pengangguran di Indonesia pada tahun 2005 ?'},\n",
       "  'id-25': {'truth': '',\n",
       "   'predicted': 'Adam Malik',\n",
       "   'question': 'Apakah nama RSUP di Medan ?'},\n",
       "  'id-26': {'truth': '',\n",
       "   'predicted': 'Susilo Bambang Yudhoyono',\n",
       "   'question': 'Kemanakah , Presiden SBY memboyong tim bulu tangkis Indonesia yang baru kembali dari Kejuaraan Dunia Anaheim pada hari Rabu ( 24/8 )'},\n",
       "  'id-27': {'truth': '',\n",
       "   'predicted': 'Appendix I CITES',\n",
       "   'question': 'Apakah hasil konvensi yang didalamnya terdapat daftar jenis-jenis penyu yang terancam punah , termasuk empat jenis penyu di Papua'},\n",
       "  'id-28': {'truth': '',\n",
       "   'predicted': 'Koichiro Matsuura',\n",
       "   'question': 'Siapakah Direktur Jenderal UNESCO'},\n",
       "  'id-29': {'truth': '',\n",
       "   'predicted': 'Finlandia',\n",
       "   'question': 'Dimanakah kejuaraan Dunia Atletik ke - 10 diadakan ?'},\n",
       "  'id-30': {'truth': '',\n",
       "   'predicted': '2005',\n",
       "   'question': 'Tahun berapakah Sony berhasil merebut gelar Juara Asia setelah menundukkan Kuan Beng Hong di India ?'},\n",
       "  'id-31': {'truth': '',\n",
       "   'predicted': 'Benja Viktor Mambai',\n",
       "   'question': 'Siapakah Direktur World Wildlife Fund for Nature ( WWF ) Bioregion Sahul Papua ?'},\n",
       "  'id-32': {'truth': '',\n",
       "   'predicted': '12.000 orang',\n",
       "   'question': 'Berapa orang korban jiwa yang diakibatkan oleh pemberontakan Maois sejak 1996 ?'},\n",
       "  'id-33': {'truth': '',\n",
       "   'predicted': 'medali perunggu',\n",
       "   'question': 'Apa yang diperoleh Sander Parawira di Olimpiade Matematika Asia Tenggara ?'},\n",
       "  'id-34': {'truth': '',\n",
       "   'predicted': '1995',\n",
       "   'question': 'Data Departemen Kehutanan tahun berapakah yang menyebutkan bahwa populasi harimau sumatera adalah sekitar 400-500 ekor'},\n",
       "  'id-35': {'truth': '',\n",
       "   'predicted': '13/8',\n",
       "   'question': 'Kapankah pelari putri asal Etiopia , Tirunesh Dibaba , meraih emas kedua pada Kejuaraan Dunia Atletik X 2005 di Helsinki , Finlandia ?'},\n",
       "  'id-36': {'truth': '',\n",
       "   'predicted': '19',\n",
       "   'question': 'Berapakah umur Tirunesh Dibaba ?'},\n",
       "  'id-37': {'truth': '',\n",
       "   'predicted': 'Mandala Airlines',\n",
       "   'question': 'Kecelakaan pesawat apa yang terjadi di kawasan Padang Bulan , Medan , Senin ( 5/9 ) lalu ?'},\n",
       "  'id-38': {'truth': '',\n",
       "   'predicted': 'marga Spaghnum',\n",
       "   'question': 'Lumut marga apakah yang sudah lama dikenal sebagai pengganti kapas , obat penyakit kulit dan obat penyakit mata'},\n",
       "  'id-39': {'truth': '',\n",
       "   'predicted': 'sekitar 160 juta dollar AS',\n",
       "   'question': 'Berapakah dana yang harus dikeluarkan Uzbekistan untuk memelihara infrastruktur Karshi-Khanabad sejak kedatangan pasukan AS ?'},\n",
       "  'id-40': {'truth': '',\n",
       "   'predicted': 'Korea Selatan',\n",
       "   'question': 'Dimanakah Olimpiade 2004 diselenggarakan ?'},\n",
       "  'id-41': {'truth': '',\n",
       "   'predicted': '45,9 persen',\n",
       "   'question': 'Berapa persenkah tingkat efisiensi Bank Muamalat ?'},\n",
       "  'id-42': {'truth': '',\n",
       "   'predicted': 'Refaat Al Agroudy',\n",
       "   'question': 'Partai apakah yang mencalonkan Wahid Al Uksory pada pemilu pertama multikandidat di Mesir tahun 2005'},\n",
       "  'id-43': {'truth': '',\n",
       "   'predicted': 'Robert H Grubbs',\n",
       "   'question': 'Siapakah warga Amerika Serikat yang memperoleh penghargaan Nobel Kimia 2005 pada tanggal 5 Oktober di usia 60 ?'},\n",
       "  'id-44': {'truth': '',\n",
       "   'predicted': '125 hektar',\n",
       "   'question': 'Berapakah luas lahan Taman Lumut KRC'},\n",
       "  'id-45': {'truth': '',\n",
       "   'predicted': 'Jorge Belevan',\n",
       "   'question': 'Siapakah nama juru bicara TANS Peru Airline ?'},\n",
       "  'id-46': {'truth': '',\n",
       "   'predicted': 'Ali Larijani',\n",
       "   'question': 'Siapa nama juru runding nuklir Iran yang baru dan beraliran garis keras ?'},\n",
       "  'id-47': {'truth': '',\n",
       "   'predicted': '12',\n",
       "   'question': 'Keturunan Ratu Balaw ke berapakah Haji Choldin Ismail Balaw ( Sutan Gusti Putra Balaw ) ?'},\n",
       "  'id-48': {'truth': '',\n",
       "   'predicted': 'Prachanda',\n",
       "   'question': 'Siapa nama pemimpin Maois sekarang ?'},\n",
       "  'id-49': {'truth': '',\n",
       "   'predicted': 'film Brokeback Mountain',\n",
       "   'question': 'Apa judul film Ang Lee yang mendapat piala emas Singa pada Festival Film Venesia Ke - 62 ?'},\n",
       "  'id-50': {'truth': '',\n",
       "   'predicted': 'komputer',\n",
       "   'question': 'Untuk studi di bidang apakah Tony Gunawan hijrah ke AS awal 2002 ?'},\n",
       "  'id-51': {'truth': '',\n",
       "   'predicted': '1.500 meter',\n",
       "   'question': 'Pada nomor apakah , Oliva Sadi memperoleh perak pada Kejuaraan Atletik Malaysia Terbuka 2005'},\n",
       "  'id-52': {'truth': '',\n",
       "   'predicted': 'jurnal Astronomy & Astrophysics 437',\n",
       "   'question': 'Apakah nama jurnal terbitan tahun 2005 yang mempublikasikan penemuan Dr J Setiawan tentang planet ekstrasolar ?'},\n",
       "  'id-53': {'truth': '',\n",
       "   'predicted': 'Hamid Awaluddin dan Ketua Tim Perunding GAM Malik Mahmud',\n",
       "   'question': 'Siapa nama ketua tim perunding Indonesia dengan GAM dalam penandatanganan MOU nota kesepahaman damai ?'},\n",
       "  'id-54': {'truth': '',\n",
       "   'predicted': 'Padang',\n",
       "   'question': 'Dimanakah terjadinya kecelakaan pesawat Mandala Airlines , Senin , 5 September 2005 lalu ?'},\n",
       "  'id-55': {'truth': '',\n",
       "   'predicted': 'bulan Desember',\n",
       "   'question': 'kapankah penyemprotan massal yang bertujuan untuk memotong ledakan populasi nyamuk pada masa puncak , akan dilaksanakan'},\n",
       "  'id-56': {'truth': '',\n",
       "   'predicted': '5/9',\n",
       "   'question': 'Kapan terjadinya kecelakaan pesawat Mandala Airlines di kawasan Padang Bulan , Medan ?'},\n",
       "  'id-57': {'truth': '',\n",
       "   'predicted': 'Javad Vaeidi',\n",
       "   'question': 'Siapakah nama delegasi Iran di IAEA'},\n",
       "  'id-58': {'truth': '',\n",
       "   'predicted': 'Jepang',\n",
       "   'question': 'Berasal dari negara manakah , teater Kabuki'},\n",
       "  'id-59': {'truth': '',\n",
       "   'predicted': 'sekitar 200 spesies',\n",
       "   'question': 'Sampai periode 1980 - an , berapa kira-kira jumlah spesies tumbuhan yang tercatat di gugus Kepulauan Krakatau ?'},\n",
       "  'id-60': {'truth': '',\n",
       "   'predicted': 'Etiopia',\n",
       "   'question': 'Dimanakah kota Addis Ababa berada ? ?'},\n",
       "  'id-61': {'truth': '',\n",
       "   'predicted': 'lembaga swadaya masyarakat',\n",
       "   'question': 'Apakah kepanjangan dari LSM'},\n",
       "  'id-62': {'truth': '',\n",
       "   'predicted': 'Fakultas Hukum Universitas Diponegoro Semarang',\n",
       "   'question': 'Menjadi guru besar dimanakah , Prof Satjipto Rahardjo'},\n",
       "  'id-63': {'truth': '',\n",
       "   'predicted': 'satu persen',\n",
       "   'question': 'Berapa persen dari sukuk yang diterbitkan di dunia yang dikuasai Malaysia saat ini ?'},\n",
       "  'id-64': {'truth': '',\n",
       "   'predicted': '23 September 2005 di pelabuhan-pelabuhan yang telah memungut PPN atas jasa pelayanan kepelabuhanan sebesar 10 persen . Dalam pengumuman FEFC disebutkan , biaya THC yang akan dinaikkan sama dengan besaran PPN yang diberlakukan , yaitu 10 persen . Dengan demikian , biaya THC untuk peti kemas ukuran 20 kaki naik menjadi 165 dollar AS',\n",
       "   'question': 'Kapankah kenaikan biaya THC ( biaya bongkar muat ) akan diberlakukan oleh Konferensi Perusahaan Pelayaran Asing'},\n",
       "  'id-65': {'truth': '',\n",
       "   'predicted': 'Indonesia',\n",
       "   'question': 'Akan berada dimanakah , Douglas Dean Osheroff pada tanggal 18-19 November untuk berceramah dan berdialog dengan para ilmuwan fisika'},\n",
       "  'id-66': {'truth': '',\n",
       "   'predicted': 'Pakta Nonproliferasi Nuklir',\n",
       "   'question': 'Disebut apakah pakta mengenai senjata nuklir di dunia ?'},\n",
       "  'id-67': {'truth': '',\n",
       "   'predicted': 'Pengurus Besar Persatuan Atletik Seluruh Indonesia ( PB PASI )',\n",
       "   'question': 'Apa nama organisasi yang tempat Tigor M Tanjung menjabat sebagai sekretaris umum ?'},\n",
       "  'id-68': {'truth': '',\n",
       "   'predicted': 'Dewan Keamanan Perserikatan Bangsa-Bangsa',\n",
       "   'question': 'Apakah kepanjangan dari PBB ?'},\n",
       "  'id-69': {'truth': '',\n",
       "   'predicted': '19',\n",
       "   'question': 'Apa yang diraih Yudistira Virgus di Olimpiade Fisika Asia di Thailand tahun 2003 ?'},\n",
       "  'id-70': {'truth': '',\n",
       "   'predicted': 'trawl',\n",
       "   'question': 'Apa nama alat yang digunakan 4 kapal ikan berbendera China untuk mencuri ikan di perairan Indonesia pertengahan September lalu ?'},\n",
       "  'id-71': {'truth': '',\n",
       "   'predicted': '1.214 m',\n",
       "   'question': 'Berapa elevasi Danau Buyan pada tahun 1992 ?'},\n",
       "  'id-72': {'truth': '',\n",
       "   'predicted': 'Athena 2004',\n",
       "   'question': 'Dimanakah Olimpiade 2004 diselenggarakan ?'},\n",
       "  'id-73': {'truth': '',\n",
       "   'predicted': 'Panthera tigris sumatrae',\n",
       "   'question': 'Apakah nama lain harimau di provinsi Riau ?'},\n",
       "  'id-74': {'truth': '',\n",
       "   'predicted': '2,5 juta jiwa',\n",
       "   'question': 'Berapakah jumlah penduduk kota Bandung'},\n",
       "  'id-75': {'truth': '',\n",
       "   'predicted': 'Stadion Ataturk',\n",
       "   'question': 'Berapa jumlah atlet yang ikut serta dalam Universiade Izmir 2005 ?'},\n",
       "  'id-76': {'truth': '',\n",
       "   'predicted': 'Susilo Bambang Yudhoyono',\n",
       "   'question': 'Siapa nama presiden Indonesia sekarang ?'},\n",
       "  'id-77': {'truth': '',\n",
       "   'predicted': 'Puspiptek Serpong',\n",
       "   'question': 'Dimanakah lokasi pabrik biodiesel percontohan skala kecil yang dibangun BPPT dengan kapasitas 3 ton per hari'},\n",
       "  'id-78': {'truth': '',\n",
       "   'predicted': 'Sulawesi',\n",
       "   'question': 'Di pulau apakah , Prof Dr Djoko Tjahjono Iskandar menemukan katak berukuran 40 mm berwarna coklat suram sebagai satu-satunya katak di dunia yang melahirkan kecebong'},\n",
       "  'id-79': {'truth': '',\n",
       "   'predicted': 'Jerman',\n",
       "   'question': 'Di negara manakah , Balawan melakukan Tour International Guitar Night di 12 kota pada tahun 2001'},\n",
       "  'id-80': {'truth': '',\n",
       "   'predicted': '60 persen',\n",
       "   'question': 'berapa persentase penduduk yang tinggal di Asia terhadap total populasi penduduk dunia'},\n",
       "  'id-81': {'truth': '',\n",
       "   'predicted': 'Oktober 2005',\n",
       "   'question': 'Pada tahun berapakah , terdapat 125 kasus kayu ilegal di Kaltim dengan 170 tersangka'},\n",
       "  'id-82': {'truth': '',\n",
       "   'predicted': 'Kabupaten Banjarnegara dan Wonosobo , Jawa Tengah',\n",
       "   'question': 'Kawasan manakah di Jateng yang ditetapkan sebagai daerah tujuan wisata nomor dua setelah candi Borobudur ?'},\n",
       "  'id-83': {'truth': '',\n",
       "   'predicted': 'Ismail Hasyim',\n",
       "   'question': 'Siapakah Kepala Dinas Pertambangan dan Energi Provinsi Jabar ?'},\n",
       "  'id-84': {'truth': '',\n",
       "   'predicted': '2 persen',\n",
       "   'question': 'Berapa persen pemanfaatan bioetanol dan biodiesel yang ditetapkan 2025 ?'},\n",
       "  'id-85': {'truth': '',\n",
       "   'predicted': 'Rusia',\n",
       "   'question': 'Negara manakah yang membuat kapsul Soyuz yang selanjutnya dikembangkan China menjadi kapsul Shenzhou ?'},\n",
       "  'id-86': {'truth': '',\n",
       "   'predicted': 'The Bangkok Post',\n",
       "   'question': 'Surat kabar apakah di Thailand yang mendukung penunjukan Sonthi Boonyaratglin sebagai panglima angkatan darat Thailand'},\n",
       "  'id-87': {'truth': '',\n",
       "   'predicted': 'Juni',\n",
       "   'question': 'Menurut data Dinas Kesehatan Kota ( DKK ) Solo , kapan kasus DBD terbanyak di kota Solo selama tahun 2005 ?'},\n",
       "  'id-88': {'truth': '',\n",
       "   'predicted': 'Penyanyi',\n",
       "   'question': 'Berapakah usia Celine Dion ?'},\n",
       "  'id-89': {'truth': '',\n",
       "   'predicted': 'Peraturan Menteri Perdagangan',\n",
       "   'question': 'Peraturan apa yang memuat tentang ketentuan baru Surat Keterangan Asal ( SKA ) ?'},\n",
       "  'id-90': {'truth': '',\n",
       "   'predicted': 'UNHCR',\n",
       "   'question': 'Badan apakah yang didesak pemerintah Thailand agar tak menangani kasus 131 warga Muslim yang melarikan diri ke Malaysia ?'},\n",
       "  'id-91': {'truth': '',\n",
       "   'predicted': 'Dr Darni M Daud',\n",
       "   'question': 'Siapakah Pembantu Rektor Bidang Akademik Unsyiah ?'},\n",
       "  'id-92': {'truth': '',\n",
       "   'predicted': 'kucing hutan',\n",
       "   'question': 'binatang apakah yang nama latinnya adalah Felis sp'},\n",
       "  'id-93': {'truth': '',\n",
       "   'predicted': 'teknik kriogenik',\n",
       "   'question': 'Teknik apakah yang berhasil dikembangkan oleh Douglas Dean Osheroff , Guru Besar dari Universitas Stanford , sehingga meraih Nobel bidang fisika tahun 1996 ?'},\n",
       "  'id-94': {'truth': '',\n",
       "   'predicted': 'Balai Pelestarian Peninggalan Purbakala',\n",
       "   'question': 'Dengan balai apakah Dinas Perhubungan dan Pariwisata berkoordinasi untuk upaya penyelamatan candi Arjuna di Jateng ?'},\n",
       "  'id-95': {'truth': '',\n",
       "   'predicted': 'Bangalore , India',\n",
       "   'question': 'Dimanakah Tata Consultancy Services ( TCS ) , salah satu perusahaan perangkat lunak ( software ) terkemuka dunia berada ?'},\n",
       "  'id-96': {'truth': '',\n",
       "   'predicted': '2002',\n",
       "   'question': 'Pada data tahun berapakah , tercatat ada 40.663 . 627 petani di Indonesia'},\n",
       "  'id-97': {'truth': '',\n",
       "   'predicted': 'Nepal',\n",
       "   'question': 'Di negara manakah Kelompok Pemberontak Maois beraksi ?'},\n",
       "  'id-98': {'truth': '',\n",
       "   'predicted': 'Osheroff dalam peringatan tahun fisika internasional dan ilmu pengetahuan Indonesia mengandung pesan agar ilmuwan Indonesia tergugah memulai pengembangan riset teknologi kriogenik ( cryogenic ) , yaitu cara pendinginan di bawah suhu 0o Celsius',\n",
       "   'question': 'Apa nama teknik pendinginan di bawah suhu 0 Celsius ?'},\n",
       "  'id-99': {'truth': '',\n",
       "   'predicted': '7/9',\n",
       "   'question': 'Kapan Dwiki Dharmawan berencana berangkat ke Jepang untuk menghadiri Tokyo Performing Arts Market ?'},\n",
       "  'id-100': {'truth': '',\n",
       "   'predicted': 'Marcel Cuvalier',\n",
       "   'question': 'Siapakah pendiri Jeunesses Musicales International ( JMI ) dari Perancis ?'},\n",
       "  'id-101': {'truth': '',\n",
       "   'predicted': 'LIPI',\n",
       "   'question': 'Siapakah yang memimpin tim seleksi untuk penghargaan Sarwono Prawirohardjo tahun 2005 ?'},\n",
       "  'id-102': {'truth': '',\n",
       "   'predicted': 'Scott McClellan',\n",
       "   'question': 'siapakah juru bicara Gedung Putih'},\n",
       "  'id-103': {'truth': '',\n",
       "   'predicted': 'Taman Suropati , Jakarta Pusat',\n",
       "   'question': 'Dimanakah letak Patung Kartini ?'},\n",
       "  'id-104': {'truth': '',\n",
       "   'predicted': 'Badan Perencanaan Pembangunan Nasional ( Bappenas )',\n",
       "   'question': 'Patung Kartini berada di depan gedung apa ?'},\n",
       "  'id-105': {'truth': '',\n",
       "   'predicted': '18 tahun',\n",
       "   'question': 'Berapa usia Sharapova saat menyandang gelar petenis nomor satu ?'},\n",
       "  'id-106': {'truth': '',\n",
       "   'predicted': 'Rano Karno',\n",
       "   'question': 'siapakah yang naik daun sebagai bintang cilik pada film Si Doel Anak Betawi tahun 1973'},\n",
       "  'id-107': {'truth': '',\n",
       "   'predicted': 'Presbytis thomasi',\n",
       "   'question': 'Apa nama latin dari monyet thomas atau kedih ?'},\n",
       "  'id-108': {'truth': '',\n",
       "   'predicted': '26 Desember 2004',\n",
       "   'question': 'Berapakah korban jiwa yang meninggal akibat tsunami di Banda Aceh ?'},\n",
       "  'id-109': {'truth': '',\n",
       "   'predicted': '556 kilometer',\n",
       "   'question': 'berapa kilometer jarak dari Desa Kahingai ke Kota Palangkaraya'},\n",
       "  'id-110': {'truth': '',\n",
       "   'predicted': 'kunyit',\n",
       "   'question': 'Tumbuhan apakah yang memiliki nama latin Curcuma domestica Val ?'},\n",
       "  'id-111': {'truth': '',\n",
       "   'predicted': 'Koichiro Matsuura',\n",
       "   'question': 'Berasal dari negara manakah , budaya samurai'},\n",
       "  'id-112': {'truth': '',\n",
       "   'predicted': 'Curcuma domestica Val',\n",
       "   'question': 'Apakah nama latin dari kunyit ?'},\n",
       "  'id-113': {'truth': '',\n",
       "   'predicted': 'Persija',\n",
       "   'question': 'Berapakah jumlah pendukung Tim Mutiara Hitam pada pertandingan final kompetisi Liga Djarum Indonesia'},\n",
       "  'id-114': {'truth': '',\n",
       "   'predicted': 'frekuensi inframerah',\n",
       "   'question': 'Melalui apakah total limpahan air berhasil dideteksi secara langsung oleh Deep Impact ?'},\n",
       "  'id-115': {'truth': '',\n",
       "   'predicted': 'American Petroleum Institute ( API )',\n",
       "   'question': 'Data dari institusi apa yang menyatakan bahwa topan Katrina telah menghancurkan dan menghilangkan sekitar 58 persen anjungan dan fasilitas penggalian minyak yang ada di Teluk Meksiko ?'},\n",
       "  'id-116': {'truth': '',\n",
       "   'predicted': 'Bangkok , Thailand',\n",
       "   'question': 'Di manakah Kejuaraan Renang Kelompok Umur Asia 2005 diadakan ?'},\n",
       "  'id-117': {'truth': '',\n",
       "   'predicted': 'bioetanol memiliki senyawa kimia alkohol sama dengan yang ditemukan pada bir dan anggur . Pembuatannya juga melalui fermentasi biomasa yang berkandungan karbohidrat tinggi seperti tepung singkong , tebu , atau selulosa',\n",
       "   'question': 'Apakah bahan bakar yang bila dicampur dengan bensin maka disebut gasohol ?'},\n",
       "  'id-118': {'truth': '',\n",
       "   'predicted': 'film Ranjang Pengantin',\n",
       "   'question': 'Film apakah arahan Teguh Karya yang dibuat di tahun 1975'},\n",
       "  'id-119': {'truth': '',\n",
       "   'predicted': 'festival Raum & Schatten ( Ruang dan Bayangan )',\n",
       "   'question': 'Apa nama festival besar di Berlin yang berlangsung pada tanggal 30 September sampai dengan 20 November 2005 ?'},\n",
       "  'id-120': {'truth': '',\n",
       "   'predicted': 'Universitas Illinois Urbana Champaign',\n",
       "   'question': 'Kapankah Sander bertolak ke Amerika Serikat untuk melanjutkan studinya ?'},\n",
       "  'id-121': {'truth': '',\n",
       "   'predicted': 'PBB',\n",
       "   'question': 'Apa nama dewan yang diketuai Aceh Syahrul ?'},\n",
       "  'id-122': {'truth': '',\n",
       "   'predicted': 'Loetoeng Kasaroeng',\n",
       "   'question': 'apa judul film cerita Indonesia yang dikemas dalam format yang masih bisu tahun 1926'},\n",
       "  'id-123': {'truth': '',\n",
       "   'predicted': 'Gamawan Fauzi',\n",
       "   'question': 'Siapakah Gubernur Sumatera Barat'},\n",
       "  'id-124': {'truth': '',\n",
       "   'predicted': '1997',\n",
       "   'question': 'Sudah direncanakan sejak tahun kapan bandara Kuala Namu ?'},\n",
       "  'id-125': {'truth': '',\n",
       "   'predicted': 'abad XII',\n",
       "   'question': 'Sejak abad berapakah , teknologi budidaya mutiara dimulai di China'},\n",
       "  'id-126': {'truth': '',\n",
       "   'predicted': 'Uni Eropa',\n",
       "   'question': 'Selain Amerika Serikat ( AS ) , organisasi apakah yang melansir peringatan keras bagi Teheran berkaitan dengan ancamannya untuk memulai kembali kegiatan produksi bahan bakar nuklir yang sensitif ?'},\n",
       "  'id-127': {'truth': '',\n",
       "   'predicted': 'Buddhis',\n",
       "   'question': 'Siapa panglima angkatan darat Thailand yang Muslim ?'},\n",
       "  'id-128': {'truth': '',\n",
       "   'predicted': 'rumah sakit umum',\n",
       "   'question': 'Siapakah yang sedang berselisih dengan Pemkab Tasikmalaya dalam memperebutkan aset kota Tasikmalaya ?'},\n",
       "  'id-129': {'truth': '',\n",
       "   'predicted': 'Seoul National University',\n",
       "   'question': 'Siapakah anjing yang berhasil dikloning oleh Tim dokter Korea yang diikuti oleh seorang pengajar asal Indonesia'},\n",
       "  'id-130': {'truth': '',\n",
       "   'predicted': '1972',\n",
       "   'question': 'Sejak tahun berapakah , Prof Dr Djoko Tjahjono meneliti dan mengoleksi katak'},\n",
       "  'id-131': {'truth': '',\n",
       "   'predicted': 'marga Usnea',\n",
       "   'question': 'Lumut marga apakah yang dikenal sebagai media anggrek yang mahal harganya'},\n",
       "  'id-132': {'truth': '',\n",
       "   'predicted': 'Rp 10.080',\n",
       "   'question': 'Berapa posisi awal kurs rupiah pada saat dilaksanakannya rapat kabinet terbatas melalui videoconference'},\n",
       "  'id-133': {'truth': '',\n",
       "   'predicted': 'Desember 2003 dan Juni 2004',\n",
       "   'question': 'Kapan penelitian Keratuan Balaw berlangsung ?'},\n",
       "  'id-134': {'truth': '',\n",
       "   'predicted': '50 persen',\n",
       "   'question': 'Berapa persenkah bagian PI yang diperoleh Pertamina dalam proyek Blok Cepu'},\n",
       "  'id-135': {'truth': '',\n",
       "   'predicted': 'Siprus Utara , menurut sensus tahun 2002 , tercatat sebanyak 213.491 jiwa saja . Perbandingan antara jumlah penduduk dan pendapatan per kapita itu membuat wilayah Siprus Utara cukup nyaman dan stabil secara ekonomi dibandingkan dengan negara-negara di sekitarnya . Turki dan Mesir , misalnya , memikul beban jumlah penduduk cukup besar , yakni sekitar 70 juta jiwa , dan pendapatan per kapita masih di bawah 2.000 dollar AS',\n",
       "   'question': 'Berapa pendapatan per kapita ( GNP ) negara TRNC menurut catatan tahun 2003 ?'},\n",
       "  'id-136': {'truth': '',\n",
       "   'predicted': '1935',\n",
       "   'question': 'Tahun berapakah dimulainya industri minyak di Sorong'},\n",
       "  'id-137': {'truth': '',\n",
       "   'predicted': '14 gua',\n",
       "   'question': 'Berapa gua alami yang berhasil diidentifikasi di Pegunungan Muller ?'},\n",
       "  'id-138': {'truth': '',\n",
       "   'predicted': 'Jerman',\n",
       "   'question': 'Bekerja di negara manakah , Eappen G Abraham , Anil Ghosh , Marcelo Jacobs-Lorena , para peneliti SPRN 6 ?'},\n",
       "  'id-139': {'truth': '',\n",
       "   'predicted': 'Tribute to Teguh Karya , Jejak Langkah Kreatif Teguh Karya dalam Simfoni',\n",
       "   'question': 'Apakah judul konser perfilman yang ditujukan untuk mendiang Teguh Karya ?'},\n",
       "  'id-140': {'truth': '',\n",
       "   'predicted': 'Pertamina Energy Trading Limited ( Petral',\n",
       "   'question': 'Apa nama anak perusahaan Pertamina di Hongkong ?'},\n",
       "  'id-141': {'truth': '',\n",
       "   'predicted': 'Blue Planet Prize',\n",
       "   'question': 'Penghargaan apakah yang diberikan Science and Technology Foundation of Japan kepada Prof Sjamsul Arifin Achmad'},\n",
       "  'id-142': {'truth': '',\n",
       "   'predicted': 'Badan Pangan Dunia PBB',\n",
       "   'question': 'Apa nama program dari United Nations World Food Programme ( WFP ) di Indonesia tentang pengadaan program makanan tambahan di sekolah ?'},\n",
       "  'id-143': {'truth': '',\n",
       "   'predicted': 'Kota Padang',\n",
       "   'question': 'Di kota manakah , lokasi Pelabuhan Teluk Bayur'},\n",
       "  'id-144': {'truth': '',\n",
       "   'predicted': 'pertengahan September',\n",
       "   'question': 'Kapan TNI Armada Kawasan Timur menembak sebuah kapal ikan China di perairan Arafuru ?'},\n",
       "  'id-145': {'truth': '',\n",
       "   'predicted': 'Warsawa , Polandia',\n",
       "   'question': 'Dimanakah diadakannya The First Step to Nobel Prize in Physics ke - 13 ?'},\n",
       "  'id-146': {'truth': '',\n",
       "   'predicted': 'PB PBSI',\n",
       "   'question': 'Organisasi apa yang merestui Tony bermain untuk AS dalam rangka membangun badminton di AS ?'},\n",
       "  'id-147': {'truth': '',\n",
       "   'predicted': 'bensin super',\n",
       "   'question': 'Apakah bahan bakar produksi Pertamina yang harganya turun dari Rp 5.900 menjadi Rp 5.700 pada pertengahan November 2005'},\n",
       "  'id-148': {'truth': '',\n",
       "   'predicted': 'Inggris',\n",
       "   'question': 'Dari negara manakah harian The Guardian ?'},\n",
       "  'id-149': {'truth': '',\n",
       "   'predicted': 'kijang',\n",
       "   'question': 'binatang apakah yang nama latinnya adalah Muntiacus muntjak'},\n",
       "  'id-150': {'truth': '',\n",
       "   'predicted': 'sumur dan pengolahan gas alam Medco LPG Kaji , Kabupaten Musi Banyuasin , Sumatera Selatan',\n",
       "   'question': 'Berkunjung ke manakah Dirut PGN pada tanggal 20 Agustus 2005 ?'},\n",
       "  'id-151': {'truth': '',\n",
       "   'predicted': 'PLTA Sipansihoras',\n",
       "   'question': 'Apakah nama PLTA di Tapanuli Tengah yang berkapasitas 50 MW ?'},\n",
       "  'id-152': {'truth': '',\n",
       "   'predicted': 'Penghargaan Achmad Bakrie 2005 , masing-masing untuk bidang pemikiran sosial dan kesusastraan . Sementara Penghargaan Khusus Achmad Bakrie 2005',\n",
       "   'question': 'Disebut apakah penghargaan yang diberikan oleh Freedom Institute kepada Sejarawan Sartono Kartodirdjo dan Budi Darma ?'},\n",
       "  'id-153': {'truth': '',\n",
       "   'predicted': 'Danau Melintang',\n",
       "   'question': 'Apakah nama danau di Kalimantan Timur yang mengalami pendangkalan seluas 13.000 hektar'},\n",
       "  'id-154': {'truth': '',\n",
       "   'predicted': 'Federation Internationale de \"l\\'Automobile\" ( FIA )',\n",
       "   'question': 'Organisasi apakah yang menaungi lomba F1 ?'},\n",
       "  'id-155': {'truth': '',\n",
       "   'predicted': 'Pecatu , Bali',\n",
       "   'question': 'Berlangsung dimanakah Kejuaraan Sepeda Gunung Asia XI ?'},\n",
       "  'id-156': {'truth': '',\n",
       "   'predicted': 'Ir Mustaid Siregar',\n",
       "   'question': 'Siapakah Kepala UPT Balai Konservasi Tumbuhan Kebun Raya Eka Raya Lembaga Ilmu Pengetahuan Indonesia ( LIPI ) Bali ?'},\n",
       "  'id-157': {'truth': '',\n",
       "   'predicted': 'Pesta Budaya Papua ( PBP ) menghadirkan 11 suku',\n",
       "   'question': 'Acara apakah yang berlangsung antara 22-27 Agustus 2005 di Taman Budaya Papua , Waena , Distrik Abepura ?'},\n",
       "  'id-158': {'truth': '',\n",
       "   'predicted': 'Distrik Muara Tami , Jayapura',\n",
       "   'question': 'Dimana lokasi pos perbatasan Skouw yang semakin sering dilewati oleh warga Papua Niugini ?'},\n",
       "  'id-159': {'truth': '',\n",
       "   'predicted': '15 Agustus',\n",
       "   'question': 'Sejak kapan Rakyat Ekuador melakukan aksi turun ke jalanan untuk merebut bagian dari rezeki minyak ?'},\n",
       "  'id-160': {'truth': '',\n",
       "   'predicted': 'Sudarsana',\n",
       "   'question': 'Siapa Kepala Seksi Sumber Daya Non-Hayati Dinas Perikanan dan Kelautan Provinsi Bali ?'},\n",
       "  'id-161': {'truth': '',\n",
       "   'predicted': 'Kecamatan Beringin dan Pantai Labu , Kabupaten Deli Serdang',\n",
       "   'question': 'Apa yang masih menjadi kendala pembangunan Bandara Kuala Namu'},\n",
       "  'id-162': {'truth': '',\n",
       "   'predicted': 'Jerman',\n",
       "   'question': 'Di negara manakah , Dr Johny Setiawan kini bekerja'},\n",
       "  'id-163': {'truth': '',\n",
       "   'predicted': '19-23 Oktober 2005',\n",
       "   'question': 'Kapan acara pameran produk UMKM yang diselenggarakan Dewan Kerajinan Nasional , diadakan ?'},\n",
       "  'id-164': {'truth': '',\n",
       "   'predicted': '15/8 ) di Jakarta',\n",
       "   'question': 'Di kota manakah penghargaan dari Freedom Institute itu diserahkan oleh Wakil Presiden Jusuf Kalla , S'},\n",
       "  'id-165': {'truth': '',\n",
       "   'predicted': 'Nusa Tenggara Barat',\n",
       "   'question': 'Manakah provinsi yang berhasil mencapai cakupan sebesar 109,4 persen pada PIN polio putaran pertama'},\n",
       "  'id-166': {'truth': '',\n",
       "   'predicted': '58 persen',\n",
       "   'question': 'Berapa persen Fasilitas Minyak AS di Teluk Meksiko yang hancur akibat Topan Katrina ?'},\n",
       "  'id-167': {'truth': '',\n",
       "   'predicted': 'Muslim',\n",
       "   'question': 'Siapakah nama panglima angkatan darat Thailand yang digantikan oleh Jenderal Sonthi Boonyaratglin pada tahun 2005'},\n",
       "  'id-168': {'truth': '',\n",
       "   'predicted': 'Organisasi Perdagangan Dunia',\n",
       "   'question': 'Organisasi apakah yang menetapkan Agreement on Textiles and Clothing dulu ?'},\n",
       "  'id-169': {'truth': '',\n",
       "   'predicted': 'IGK Manila',\n",
       "   'question': 'Siapakah Manajer Tim Persija ?'},\n",
       "  'id-170': {'truth': '',\n",
       "   'predicted': '12 awak kabin',\n",
       "   'question': 'Berapakah jumlah penumpang pesawat Air France yang selamat pada kecelakaan tanggal 3 Agustus 2005 di bandara internasional Pearson , Toronto , Kanada'},\n",
       "  'id-171': {'truth': '',\n",
       "   'predicted': 'Hosni Mubarak',\n",
       "   'question': 'Siapakah Presiden Mesir sekarang ?'},\n",
       "  'id-172': {'truth': '',\n",
       "   'predicted': '17,5 kilometer',\n",
       "   'question': 'Berapakah panjang habitat peneluran penyu di Suaka Margasatwa Jamursbamedi'},\n",
       "  'id-173': {'truth': '',\n",
       "   'predicted': 'Airbus 340',\n",
       "   'question': 'Apa jenis pesawat Air France yang tergelincir di bandara Toronto , Kanada ?'},\n",
       "  'id-174': {'truth': '',\n",
       "   'predicted': 'Prof Umar A Jenie',\n",
       "   'question': 'Siapa Kepala LIPI ?'},\n",
       "  'id-175': {'truth': '',\n",
       "   'predicted': '22/12',\n",
       "   'question': 'Kapankah Kepala Dinas Kehutanan Lampung Arinal Djunaidi mengatakan di Bandar Lampung bahwa satwa-satwa yang dilindungi dan sekarang berada di Taman Wisata Bumi Kedaton Bandar Lampung sebaiknya dititipkan di Pusat Penyelamatan Satwa Bogor'},\n",
       "  'id-176': {'truth': '',\n",
       "   'predicted': 'April - September 2005',\n",
       "   'question': 'Sejak kapan penelitian kadar debu dan CO di Jakarta yang dilakukan Pusat Penelitian Kesehatan Universitas Indonesia berlangsung ?'},\n",
       "  'id-177': {'truth': '',\n",
       "   'predicted': '400 tanaman',\n",
       "   'question': 'Berapa jenis tanaman di Kepulauan Krakatau ?'},\n",
       "  'id-178': {'truth': '',\n",
       "   'predicted': '5',\n",
       "   'question': 'Termasuk kategori apakah badai dengan kecepatan angin mencapai 280 km per jam ?'},\n",
       "  'id-179': {'truth': '',\n",
       "   'predicted': 'llama',\n",
       "   'question': 'apa nama induk zebra yang baru saja melahirkan di TSI Prigen'},\n",
       "  'id-180': {'truth': '',\n",
       "   'predicted': '1 Januari 2006',\n",
       "   'question': 'Mulai tanggal berapakah , PT Pertamina menurunkan harga pertamax dari Rp 5.400 menjadi Rp 5.000'},\n",
       "  'id-181': {'truth': '',\n",
       "   'predicted': 'Peace Brigadir Internasional',\n",
       "   'question': 'Pemantau asing dari organisasi manakah yang menghadiri sidang Kasus Pelanggaran HAM Abepura ?'},\n",
       "  'id-182': {'truth': '',\n",
       "   'predicted': '2008',\n",
       "   'question': 'Tahun berapakah berakhirnya pemberlakuan Product Specific Safeguard untuk produk TPT ?'},\n",
       "  'id-183': {'truth': '',\n",
       "   'predicted': '1999',\n",
       "   'question': 'Kapankah awal beroperasinya Pembangkit Listrik Tenaga Air ( PLTA ) Penglima Besar ( Pangsar ) Soedirman ?'},\n",
       "  'id-184': {'truth': '',\n",
       "   'predicted': 'Yayuk Rahardjo',\n",
       "   'question': 'Siapakah ketua lembaga Musik Remaja Indonesia ( MRI )'},\n",
       "  'id-185': {'truth': '',\n",
       "   'predicted': '1997',\n",
       "   'question': 'Sejak kapankah pos perbatasan Indonesia-PNG dibuka ?'},\n",
       "  'id-186': {'truth': '',\n",
       "   'predicted': 'drh CA Nidom MS',\n",
       "   'question': 'Siapakah ketua Tropical Disease Diagnostic Center Universitas Airlangga ?'},\n",
       "  'id-187': {'truth': '',\n",
       "   'predicted': 'Suzane Mubarak',\n",
       "   'question': 'Siapakah nama istri Presiden Hosni Mubarak ?'},\n",
       "  'id-188': {'truth': '',\n",
       "   'predicted': '24',\n",
       "   'question': 'Berapakah jumlah transponder total pada Satelit Telkom - 2'},\n",
       "  'id-189': {'truth': '',\n",
       "   'predicted': 'WMP Simanjuntak',\n",
       "   'question': 'Siapakah Direktur Utama PT Perusahaan Gas Negara ( PGN ) ?'},\n",
       "  'id-190': {'truth': '',\n",
       "   'predicted': 'Lampung',\n",
       "   'question': 'di lembaga apakah , Dwi Nugroho Adhiasto menjabat sebagai koordinator'},\n",
       "  'id-191': {'truth': '',\n",
       "   'predicted': 'Desa Kota Iman , Kecamatan Danau Kerinci',\n",
       "   'question': 'Dimanakah Masjid Kota Iman yang dijadikan monumen gempa , berada ?'},\n",
       "  'id-192': {'truth': '',\n",
       "   'predicted': 'Uni Demokratik Kristen ( CDU )',\n",
       "   'question': 'Apakah nama partai oposisi yang dipimpin oleh Angela Merkel ?'},\n",
       "  'id-193': {'truth': '',\n",
       "   'predicted': 'Holcim Ltd',\n",
       "   'question': 'Siapa pemegang saham terbesar PT Semen Cibinong ?'},\n",
       "  'id-194': {'truth': '',\n",
       "   'predicted': 'pasangan Mas Udi / Rilando',\n",
       "   'question': 'siapa nama pasangan dari Lampung yang mendapat medali emas pada kejuaraan dunia kempo yang berlangsung di Fukui , Jepang , 10-11 Oktober pada nomor embu putra kyu kenshi'},\n",
       "  'id-195': {'truth': '',\n",
       "   'predicted': 'Kabupaten Deli Serdang',\n",
       "   'question': 'Di kabupaten manakah lokasi Bandara Kuala Namu berada ?'},\n",
       "  'id-196': {'truth': '',\n",
       "   'predicted': 'Bali',\n",
       "   'question': 'Di provinsi manakah lokasi Nusa Penida ?'},\n",
       "  'id-197': {'truth': '',\n",
       "   'predicted': '26 persen',\n",
       "   'question': 'berapa persen modal PT Bahtera Lestari yang dimiliki oleh Yayasan Bahtera Nusantara'},\n",
       "  'id-198': {'truth': '',\n",
       "   'predicted': 'The First Step to Nobel Prize in Physics',\n",
       "   'question': 'Apa nama ajang dimana Anike dan Dhina meraih medali emas ?'},\n",
       "  'id-199': {'truth': '',\n",
       "   'predicted': '30 Agustus 2005',\n",
       "   'question': 'Kapan Pekan Imunisasi Nasional ( PIN ) polio putaran pertama berlangsung ?'},\n",
       "  'id-200': {'truth': '',\n",
       "   'predicted': 'Ahn Cu - rie',\n",
       "   'question': 'Siapakah pemimpin tim medis yang mengoperasi Yuda Heru Febrianto selama 13 jam pada September 2004'},\n",
       "  'id-201': {'truth': '',\n",
       "   'predicted': 'Amirul Tamim',\n",
       "   'question': 'Siapakah Wali Kota Bau-Bau'},\n",
       "  'id-202': {'truth': '',\n",
       "   'predicted': 'Medan , Sumatera Utara',\n",
       "   'question': 'Di provinsi manakah letak Bandara Polonia ?'},\n",
       "  'id-203': {'truth': '',\n",
       "   'predicted': '116 juta dollar AS',\n",
       "   'question': 'Berapa besar ganti rugi yang harus dibayar pihak Otoritas Palestina kepada keluarga pasangan Yahudi yang ditembak mati kelompok Hamas tahun 1996 di Tepi Barat ?'},\n",
       "  'id-204': {'truth': '',\n",
       "   'predicted': 'Choi Jae Kyun',\n",
       "   'question': 'Siapakah pelatih tim panahan Korea Selatan yang berhasil membawa para atlet meraih medali emas recurve di beregu putra dan putri pada Grand Prix Asia 2005'},\n",
       "  'id-205': {'truth': '',\n",
       "   'predicted': 'Direktorat Geologi Lingkungan Perkotaan dan Regional Departemen Energi dan Sumber Daya Mineral',\n",
       "   'question': 'Siapakah yang mengeluarkan peta konservasi tanah'},\n",
       "  'id-206': {'truth': '',\n",
       "   'predicted': 'Ramlan Surbakti',\n",
       "   'question': 'Siapakah Wakil Ketua KPU yang menjelaskan bahwa KPU sudah berkali-kali menagih mobil inventaris KPU pada sejumlah mantan anggota dan pejabat KPU'},\n",
       "  'id-207': {'truth': '',\n",
       "   'predicted': 'Pelabuhan Teluk Bayur',\n",
       "   'question': 'Di manakah lokasi terbaik untuk melihat matahari terbenam di kota Padang ?'},\n",
       "  'id-208': {'truth': '',\n",
       "   'predicted': 'rindik',\n",
       "   'question': 'Teknik memukul apakah yang menginspirasi Balawan atas penemuannya tentang teknik bermain gitar dengan cara disentuh dan dikait'},\n",
       "  'id-209': {'truth': '',\n",
       "   'predicted': 'Bubun Bunyamin',\n",
       "   'question': 'Siapakah nama Wali Kota Tasikmalaya saat ini ?'},\n",
       "  'id-210': {'truth': '',\n",
       "   'predicted': 'Kawah Darajat',\n",
       "   'question': 'Dimanakah lokasi sumber panas bumi di Jabar yang berkapasitas 145 MW ?'},\n",
       "  'id-211': {'truth': '',\n",
       "   'predicted': '26/8',\n",
       "   'question': 'Tanggal berapakah Ali Larijani melakukan pertemuan dengan Kepala Badan Atom Internasional Agustus lalu ?'},\n",
       "  'id-212': {'truth': '',\n",
       "   'predicted': 'Nusa Tenggara Timur',\n",
       "   'question': 'Di provinsi manakah , penyakit diare telah menewaskan 13 orang'},\n",
       "  'id-213': {'truth': '',\n",
       "   'predicted': 'kunyit ( Curcuma domestica Val ) dan temulawak ( Curcuma xanthorrhiza Roxb',\n",
       "   'question': 'Apakah nama latin dari temulawak ?'},\n",
       "  'id-214': {'truth': '',\n",
       "   'predicted': 'Sudiartono',\n",
       "   'question': 'Siapa nama pimpinan Gamatech Scientific Instruments yang berpartisipasi dalam pengadaan sistem PLTS di Yogyakarta ?'},\n",
       "  'id-215': {'truth': '',\n",
       "   'predicted': '3 September . Bila yang pertama diadakan untuk merayakan ulang tahun ke - 40 Kompas',\n",
       "   'question': 'Untuk merayakan apakah Megalitikum Kuantum yang kedua ?'},\n",
       "  'id-216': {'truth': '',\n",
       "   'predicted': 'tahun 2004',\n",
       "   'question': 'Data Dinas Kehutanan Provinsi Riau tahun berapakah yang menyatakan bahwa luas hutan alam Riau adalah sekitar 1,5 juta hektar'},\n",
       "  'id-217': {'truth': '',\n",
       "   'predicted': 'Asian Games',\n",
       "   'question': 'Berapa banyakkah Omita Olga Ompi pernah tampil di SEA Games ?'},\n",
       "  'id-218': {'truth': '',\n",
       "   'predicted': 'wayang',\n",
       "   'question': 'Apakah benda khas Indonesia selain keris yang diakui UNESCO sebagai salah satu warisan budaya dunia , dua tahun yang lalu'},\n",
       "  'id-219': {'truth': '',\n",
       "   'predicted': 'SRPN 6',\n",
       "   'question': 'Diterbitkan pada apakah , tulisan An Immune-responsive Serpin , SPRN 6 , Mediates Mosquito Defense Against Malaria Parasites'},\n",
       "  'id-220': {'truth': '',\n",
       "   'predicted': '40 persen dan AS sekitar 30 persen',\n",
       "   'question': 'Berapa persen dari total impor dunia tekstil dan produk tekstil ( TPT ) diserap oleh AS ?'},\n",
       "  'id-221': {'truth': '',\n",
       "   'predicted': 'Pada Juli 2004',\n",
       "   'question': 'Kapankah Pusat Penelitian Geoteknologi LIPI membuat selebaran versi Bahasa Indonesia dan Bahasa Inggris berisi peringatan akan terjadi gempa bumi dahsyat di pantai-pantai barat Pulau Sumatera ?'},\n",
       "  'id-222': {'truth': '',\n",
       "   'predicted': '26 juta',\n",
       "   'question': 'Berapakah orangkah jumlah penumpang penerbangan pada tahun 1999 ?'},\n",
       "  'id-223': {'truth': '',\n",
       "   'predicted': 'Siti Fadilah Supari',\n",
       "   'question': 'Siapa Menteri Kesehatan Indonesia'},\n",
       "  'id-224': {'truth': '',\n",
       "   'predicted': 'Batu , Malang Jawa Timur',\n",
       "   'question': 'Kapan Nematoda sista kuning ditemukan pertama kali di Indonesia ?'},\n",
       "  'id-225': {'truth': '',\n",
       "   'predicted': 'Kimi Raikkonen',\n",
       "   'question': 'Dari negara manakah Mika Hakkinen berasal ?'},\n",
       "  'id-226': {'truth': '',\n",
       "   'predicted': 'Batuan , Gianyar',\n",
       "   'question': 'Dimanakah Balawan lahir'},\n",
       "  'id-227': {'truth': '',\n",
       "   'predicted': 'Petronas',\n",
       "   'question': 'Apakah nama perusahaan migas Malaysia'},\n",
       "  'id-228': {'truth': '',\n",
       "   'predicted': 'Rp 6 triliun-Rp 10 triliun',\n",
       "   'question': 'Berapa dana yang dibutuhkan untuk pembangunan landasan bandara Kuala Namu ?'},\n",
       "  'id-229': {'truth': '',\n",
       "   'predicted': 'Pemerintah Belanda',\n",
       "   'question': 'Pada siapakah , utang dan aset VOC diserahkan setelah dinyatakan pailit sejak 31 Desember 1799'},\n",
       "  'id-230': {'truth': '',\n",
       "   'predicted': '30 Agustus 2005',\n",
       "   'question': 'Kapankah dimulainya pelaksanaan Pekan Imunisasi Nasional ( PIN ) polio putaran pertama ?'},\n",
       "  'id-231': {'truth': '',\n",
       "   'predicted': 'IMF',\n",
       "   'question': 'Direktur pelaksana organisasi apakah Michel Camdessus ?'},\n",
       "  'id-232': {'truth': '',\n",
       "   'predicted': 'Departemen Perindustrian',\n",
       "   'question': 'Departemen apakah yang dipimpin oleh Andung Nitimihardja ?'},\n",
       "  'id-233': {'truth': '',\n",
       "   'predicted': 'sepuluh',\n",
       "   'question': 'Berapakah film cerita lepas televisi yang terpilih masuk nominasi FFI 2005'},\n",
       "  'id-234': {'truth': '',\n",
       "   'predicted': 'tahun 2005 sekitar 260 , 571 juta ton , tahun 2006',\n",
       "   'question': 'Pada tahun berapakah , kebutuhan rumput laut dunia diperkirakan sekitar 273,600 juta ton'},\n",
       "  'id-235': {'truth': '',\n",
       "   'predicted': 'Bali',\n",
       "   'question': 'Kapan sidang tahunan ke - 60 Jeunesses Musicales International diselenggarakan ?'},\n",
       "  'id-236': {'truth': '',\n",
       "   'predicted': 'partai oposisi Uni Demokratik Kristen',\n",
       "   'question': 'Partai apakah yang mencalonkan Angela Merkel dalam pemilihan umum mendatang ?'},\n",
       "  'id-237': {'truth': '',\n",
       "   'predicted': 'Wakil Gubernur Rudolf Pardede',\n",
       "   'question': 'Siapakah yang ditolak Dewan Perwakilan Rakyat Daerah Sumatera Utara menggantikan Gubernur Tengku Rizal Nurdin ?'},\n",
       "  'id-238': {'truth': '',\n",
       "   'predicted': 'Badan Pemeriksa Keuangan',\n",
       "   'question': 'Bekerja di badan apakah , Khairiansyah Salman , saksi kunci pada kasus korupsi KPU'},\n",
       "  'id-239': {'truth': '',\n",
       "   'predicted': '1912',\n",
       "   'question': 'Tahun berapa Holcim Ltd berdiri ?'},\n",
       "  'id-240': {'truth': '',\n",
       "   'predicted': 'Partai Pekerja',\n",
       "   'question': 'Apa nama partai Presiden Brasil Lula ?'},\n",
       "  'id-241': {'truth': '',\n",
       "   'predicted': '40 persen',\n",
       "   'question': 'Berapa persenkah kenaikan indeks utama bursa Jepang sepanjang tahun 2005'},\n",
       "  'id-242': {'truth': '',\n",
       "   'predicted': 'Tiolina Pangaribuan',\n",
       "   'question': 'Siapa pejabat Kepala Badan Promosi dan Investasi Riau ?'},\n",
       "  'id-243': {'truth': '',\n",
       "   'predicted': 'Hatta Rajasa',\n",
       "   'question': 'Siapakah Menteri Perhubungan Indonesia sekarang ?'},\n",
       "  'id-244': {'truth': '',\n",
       "   'predicted': '45.000 unit',\n",
       "   'question': 'Berapa unit jumlah kompor hemat kayu yang akan diperkenalkan di Pulau Rote dan Pulau Sabu di Nusa Tenggara Timur ?'},\n",
       "  'id-245': {'truth': '',\n",
       "   'predicted': 'Bonn',\n",
       "   'question': 'Dengan badan apa lembaga Klimaschutz e . V bekerja sama untuk menerapkan kompor bertenaga surya dan kompor hemat kayu berefisiensi tinggi di daerah-daerah terpencil ?'},\n",
       "  'id-246': {'truth': '',\n",
       "   'predicted': 'Lembaga Ilmu Pengetahuan Indonesia',\n",
       "   'question': 'Apakah kepanjangan dari LIPI ?'},\n",
       "  'id-247': {'truth': '',\n",
       "   'predicted': 'Mamdouh Qenawi',\n",
       "   'question': 'Siapakah kandidat presiden Mesir dari Partai Arab Sosialis Mesir pada pemilu pertama multikandidat di Mesir tahun 2005'},\n",
       "  'id-248': {'truth': '',\n",
       "   'predicted': 'Pomacanthus imperator',\n",
       "   'question': 'Apa nama latin dari ikan angle batman ?'},\n",
       "  'id-249': {'truth': '',\n",
       "   'predicted': 'Geotermal',\n",
       "   'question': 'Apa nama pemberdayaan energi alternatif yang akan diterapkan di Bedugul , Bali ?'},\n",
       "  'id-250': {'truth': '',\n",
       "   'predicted': 'Dumai , Riau , hingga Pangkalan Brandan , Sumatera Utara',\n",
       "   'question': 'Berapa negarakah yang sepakat mengadakan patroli udara bersama di sepanjang Selat Malaka ?'},\n",
       "  'id-251': {'truth': '',\n",
       "   'predicted': 'Juni 2004',\n",
       "   'question': 'Kapankah buletin Geologi Tata Lingkungan mempublikasikan penelitian Syamsul Hadi mengenai kualitas air tanah di Bandung'},\n",
       "  'id-252': {'truth': '',\n",
       "   'predicted': '30 Agustus - 10 September',\n",
       "   'question': 'Kapan Festival Film Venesia 2005 berlangsung ?'},\n",
       "  'id-253': {'truth': '',\n",
       "   'predicted': '14 Desember 2003',\n",
       "   'question': 'kapan Saddam Hussein ditangkap di sebuah tanah pertanian oleh pasukan koalisi'},\n",
       "  'id-254': {'truth': '',\n",
       "   'predicted': 'Organisasi Perdagangan Dunia',\n",
       "   'question': 'Di organisasi manakah Agreement on Textiles and Clothing dibicarakan ?'},\n",
       "  'id-255': {'truth': '',\n",
       "   'predicted': 'Samodra',\n",
       "   'question': 'Apa nama pelabuhan perikanan di Cilacap ?'},\n",
       "  'id-256': {'truth': '',\n",
       "   'predicted': '528',\n",
       "   'question': 'Melibatkan berapa ton solar , kasus penyelundupan solar melalui kapal tanker Yo To ?'},\n",
       "  'id-257': {'truth': '',\n",
       "   'predicted': 'ruang pertunjukan terbuka Garuda Wisnu Kencana ( GWK ) di Kabupaten Badung , Bali',\n",
       "   'question': 'Dimanakah Megalitikum Kuantum kedua tanggal 3 September 2005 , diadakan ?'},\n",
       "  'id-258': {'truth': '',\n",
       "   'predicted': 'Zeingraf',\n",
       "   'question': 'siapakah nama tentara yang juga wartawan Belanda yang dalam bukunya , Acheh , menyebutkan Gayo sebagai Central District of Acheh'},\n",
       "  'id-259': {'truth': '',\n",
       "   'predicted': 'Holcim Foundation untuk sustainable construction , yang merupakan bagian dari isu global pembangunan berkelanjutan ( sustainable development ) . Holcim Foundation',\n",
       "   'question': 'Apa nama lembaga yang diketuai Rolf Soiron yang bergerak dalam bidang sustainable development ?'},\n",
       "  'id-260': {'truth': '',\n",
       "   'predicted': 'Piala Adipura',\n",
       "   'question': 'Piala apakah yang sering diraih kota Padang atas kebersihannya'},\n",
       "  'id-261': {'truth': '',\n",
       "   'predicted': '200',\n",
       "   'question': 'Berapa dosen Unsyiah yang ditargetkan akan mendapat beasiswa dari Amerika ?'},\n",
       "  'id-262': {'truth': '',\n",
       "   'predicted': 'Kawasan Lindung Bandung Utara . Berdasarkan data Dewan Pemerhati Kehutanan dan Lingkungan Tatar Sunda',\n",
       "   'question': 'Kawasan manakah yang berdasar data DPKLTS , telah menjadi pemukiman sebanyak 70 persen dari keseluruhan area'},\n",
       "  'id-263': {'truth': '',\n",
       "   'predicted': 'tahun 1992',\n",
       "   'question': 'Tercatat pada tahun berapakah , Danau Beratan memiliki elevasi 1.231 meter di atas permukaan laut'},\n",
       "  'id-264': {'truth': '',\n",
       "   'predicted': 'QB World Bookstore',\n",
       "   'question': 'Apa nama distributor rekaman CD acara festival Raum & Schatten di Berlin , untuk Indonesia ?'},\n",
       "  'id-265': {'truth': '',\n",
       "   'predicted': 'Kolonel Laut Gusmaidi',\n",
       "   'question': 'Siapakah komandan Pangkalan Laut Pontianak'},\n",
       "  'id-266': {'truth': '',\n",
       "   'predicted': 'Gonystilus bancanus',\n",
       "   'question': 'Apa nama latin dari kayu Ramin ?'},\n",
       "  'id-267': {'truth': '',\n",
       "   'predicted': '180 kilometer',\n",
       "   'question': 'Berapakah panjang jalan yang menghubungkan antara Bangko , Muara Madras , dan Rantau Suli ?'},\n",
       "  'id-268': {'truth': '',\n",
       "   'predicted': 'Partai Kiri-Partai Sosialisme Demokratik',\n",
       "   'question': 'Aktivis partai apa Oskar Lafontaine ?'},\n",
       "  'id-269': {'truth': '',\n",
       "   'predicted': 'Lembaga Ilmu Pengetahuan Indonesia',\n",
       "   'question': 'Apakah kepanjangan dari LIPI ?'},\n",
       "  'id-270': {'truth': '',\n",
       "   'predicted': 'Hongkong',\n",
       "   'question': 'Dimanakah lokasi pabrik kulit Gruppo Mastrotto ?'},\n",
       "  'id-271': {'truth': '',\n",
       "   'predicted': 'Persija',\n",
       "   'question': 'Apakah nama kesebelasan sepak bola yang mewakili Jakarta ?'},\n",
       "  'id-272': {'truth': '',\n",
       "   'predicted': 'Saddam Hussein',\n",
       "   'question': 'Siapakah nama pimpinan Irak yang digulingkan oleh Amerika Serikat ?'},\n",
       "  'id-273': {'truth': '',\n",
       "   'predicted': 'New Orleans',\n",
       "   'question': 'Dimana Topan Katrina melanda Amerika Serikat dan menimbulkan banyak korban tahun 2005 ini ?'},\n",
       "  'id-274': {'truth': '',\n",
       "   'predicted': 'Badan Pengatur Jalan Tol ( BPJT )',\n",
       "   'question': 'Siapakah yang seharusnya membuat kontrak standar kinerja dengan para operator jalan tol yang dikemukakan secara transparan kepada publik ?'},\n",
       "  'id-275': {'truth': '',\n",
       "   'predicted': '12 Mei',\n",
       "   'question': 'Kapan terjadinya kerusuhan besar yang didorong oleh krisis ekonomi Indonesia 1997 lalu ?'},\n",
       "  'id-276': {'truth': '',\n",
       "   'predicted': 'Sulawesi Tenggara',\n",
       "   'question': 'Di provinsi manakah , Kabupaten Kolaka terletak'},\n",
       "  'id-277': {'truth': '',\n",
       "   'predicted': 'ganda campuran',\n",
       "   'question': 'Nomor apakah yang dimenangkan Nova Widianto dan Lilyana Natsir pada Kejuaraan Dunia Anaheim 2005'},\n",
       "  'id-278': {'truth': '',\n",
       "   'predicted': 'Condoleezza Rice',\n",
       "   'question': 'Siapa Menteri Luar Negeri Amerika Serikat ?'},\n",
       "  'id-279': {'truth': '',\n",
       "   'predicted': 'Pertempuran Medan Area',\n",
       "   'question': 'Apa nama pertempuran hebat yang dilakukan pejuang asal Aceh dalam menggempur Belanda hingga ke Sumatera Utara ?'},\n",
       "  'id-280': {'truth': '',\n",
       "   'predicted': '83 persen',\n",
       "   'question': 'Berapakah target rasio biaya operasional terhadap pendapatan operasional ( BOPO ) pada periode Juni 2005 Bank Muamalat ?'},\n",
       "  'id-281': {'truth': '',\n",
       "   'predicted': 'Bandara Selaparang',\n",
       "   'question': 'Apa nama bandara mana di Mataram yang direncanakan untuk direlokasi ?'},\n",
       "  'id-282': {'truth': '',\n",
       "   'predicted': 'Roy Glauber',\n",
       "   'question': 'Siapakah penerima Nobel Fisika 2005 dari Jerman ?'},\n",
       "  'id-283': {'truth': '',\n",
       "   'predicted': '20-29 September',\n",
       "   'question': 'Pada tanggal berapakah WIG IV diselenggarakan ?'},\n",
       "  'id-284': {'truth': '',\n",
       "   'predicted': 'perairan Teluk Balikpapan , Kalimantan Timur',\n",
       "   'question': 'Dimanakah penyelundupan minyak mentah maupun bahan bakar minyak melalui pipa terjadi ?'},\n",
       "  'id-285': {'truth': '',\n",
       "   'predicted': 'Lima',\n",
       "   'question': 'Berapa perusahaan permodalan asing di Kawasan Industri Cibitung yang tidak mendapat pasokan sejak 25 Agustus karena penghentian aliran gas oleh Pertamina'},\n",
       "  'id-286': {'truth': '',\n",
       "   'predicted': '5/9',\n",
       "   'question': 'Kapan terjadinya kecelakaan pesawat Mandala Airlines di kawasan Padang Bulan , Medan ?'},\n",
       "  'id-287': {'truth': '',\n",
       "   'predicted': '27 Agustus 2005',\n",
       "   'question': 'Kapankah kasus penyelundupan minyak menggunakan Kapal MT Tioman terbongkar ?'},\n",
       "  'id-288': {'truth': '',\n",
       "   'predicted': '3,6 juta ton',\n",
       "   'question': 'Berapa total kapasitas produksi pabrik aromatik PT Trans-Pacific Petrochemical Indotama ?'},\n",
       "  'id-289': {'truth': '',\n",
       "   'predicted': '70 persen',\n",
       "   'question': 'Dari total biaya PLTS , berapa persentase biaya yang digunakan untuk mengimpor modul surya ?'},\n",
       "  'id-290': {'truth': '',\n",
       "   'predicted': 'Sumatera Barat',\n",
       "   'question': 'Di propinsi manakah , Lembah Arau berlokasi'},\n",
       "  'id-291': {'truth': '',\n",
       "   'predicted': 'Pulau Rangsang',\n",
       "   'question': 'Apakah nama kapal Indonesia yang menangkap dua kapal ikan Thailand di perairan Natuna pada bulan Desember 2005'},\n",
       "  'id-292': {'truth': '',\n",
       "   'predicted': 'Vietnam',\n",
       "   'question': 'Apa nama negara-negara di Asia Tenggara yang ikut WIG IV selain Indonesia ?'},\n",
       "  'id-293': {'truth': '',\n",
       "   'predicted': '3/8',\n",
       "   'question': 'Kapan Mahmoud Ahmadinejad disahkan sebagai presiden baru Iran ?'},\n",
       "  'id-294': {'truth': '',\n",
       "   'predicted': 'Megalitikum Kuantum',\n",
       "   'question': 'Apa nama acara untuk merayakan ulang tahun ke - 60 Republik Indonesia pada tanggal 3 September 2005 ?'},\n",
       "  'id-295': {'truth': '',\n",
       "   'predicted': 'Obradovic',\n",
       "   'question': 'Dimana buku puisi Radovan Karadzic dipamerkan ?'},\n",
       "  'id-296': {'truth': '',\n",
       "   'predicted': 'Amerika Serikat',\n",
       "   'question': 'Di negara manakah , International Partnership on Hydrogen Economic , berpusat'},\n",
       "  'id-297': {'truth': '',\n",
       "   'predicted': '16,4 persen',\n",
       "   'question': 'Berapa persenkah kenaikan indeks utama bursa Korea sepanjang tahun 2005'},\n",
       "  'id-298': {'truth': '',\n",
       "   'predicted': 'dua kargo',\n",
       "   'question': 'Berapa kargokah LNG yang diperlukan oleh PT PIM untuk beroperasi sampai akhir tahun 2005 ?'},\n",
       "  'id-299': {'truth': '',\n",
       "   'predicted': '24 April 2005',\n",
       "   'question': 'Kapankah anjing hasil kloning yang diberi nama Snuppy lahir ?'},\n",
       "  'id-300': {'truth': '',\n",
       "   'predicted': 'drh Constant Karma',\n",
       "   'question': 'siapakah Ketua Komisi Penanggulangan HIV / AIDS Daerah ( KPAD ) Papua ?'},\n",
       "  'id-301': {'truth': '',\n",
       "   'predicted': 'sekitar 60 km',\n",
       "   'question': 'Berapa jarak kota Pagar Alam dari Lahat ?'},\n",
       "  'id-302': {'truth': '',\n",
       "   'predicted': 'jazz',\n",
       "   'question': 'Jenis musik apakah yang dipelajari Balawan di Australian Institute of Music , Sydney'},\n",
       "  'id-303': {'truth': '',\n",
       "   'predicted': 'Anopheles stephensi',\n",
       "   'question': 'Pada jenis nyamuk malaria apakah , ketika intervensi RNA agar SPRN 6 tetap dalam posisi switch off diterapkan , parasit di tubuh nyamuk berkembang tiga kali lipat ?'},\n",
       "  'id-304': {'truth': '',\n",
       "   'predicted': 'Dari Soal Priyayi sampai Nyi Blorong : Refleksi Historis Nusantara \" , kondisi birokrasi Indonesia saat ini tak ada bedanya dengan kondisi Vereenigde Oost Indische Compagnie ( VOC )',\n",
       "   'question': 'Dalam bukunya yang berjudul apakah kondisi koruptifnya birokrasi Indonesia disajikan oleh Ong Hok Ham ?'},\n",
       "  'id-305': {'truth': '',\n",
       "   'predicted': 'Bogor , Jawa Barat',\n",
       "   'question': 'Dimanakah Taman Wisata Bumi Kedaton berada'},\n",
       "  'id-306': {'truth': '',\n",
       "   'predicted': 'Prof Dr Umar Anggoro Jenie kepada para wartawan , Jumat ( 19/8 ) di Jakarta , pemberian penghargaan itu merupakan bagian dari acara perayaan ulang tahun ke - 38 LIPI . Prof Dr Sarwono Prawirohardjo',\n",
       "   'question': 'Siapakah Kepala LIPI yang pertama ?'},\n",
       "  'id-307': {'truth': '',\n",
       "   'predicted': 'Lembaga Ilmu Pengetahuan Indonesia ( LIPI )',\n",
       "   'question': 'Lembaga apa yang menilai bahwa Pegunungan Muller di jantung Pulau Kalimantan memenuhi syarat untuk diusulkan sebagai Warisan Alam Dunia ?'},\n",
       "  'id-308': {'truth': '',\n",
       "   'predicted': 'Mutiara Laut Selatan',\n",
       "   'question': 'Apakah nama mutiara yang dihasilkan Pincktada maxima'},\n",
       "  'id-309': {'truth': '',\n",
       "   'predicted': 'Persipura',\n",
       "   'question': 'Tim manakah yang menjadi kampiun kompetisi Liga Djarum Indonesia 2005 ?'},\n",
       "  'id-310': {'truth': '',\n",
       "   'predicted': 'Taiwan',\n",
       "   'question': 'Film arahan sutradara Ang Lee yang manakah yang menggambarkan hubungan intim antara dua penggembala sapi di Wyoming , AS ?'}},\n",
       " 'incorrect_text': {}}"
      ]
     },
     "execution_count": 25,
     "metadata": {},
     "output_type": "execute_result"
    }
   ],
   "source": [
    "texts"
   ]
  },
  {
   "cell_type": "code",
   "execution_count": 29,
   "metadata": {
    "collapsed": true
   },
   "outputs": [
    {
     "data": {
      "text/plain": [
       "[{'qas': [{'question': 'Siapakah pelatih ganda putra bulu tangkis yang tidak meragukan tekad Candra / Sigit untuk bekerja lebih keras pada perebutan piala Thomas',\n",
       "    'answers': [{'text': '', 'answer_start': 0}],\n",
       "    'id': 'id-0'}],\n",
       "  'context': 'Pelatih ganda putra , Christian Hadinata , tak meragukan tekad Candra / Sigit . Bila dia sudah ngomong begitu , saya tidak ragu lagi , ujarnya .'},\n",
       " {'qas': [{'question': 'Siapa nama Perdana Menteri Inggris ?',\n",
       "    'answers': [{'text': '', 'answer_start': 0}],\n",
       "    'id': 'id-1'}],\n",
       "  'context': 'Curtis mengatakan hal itu setelah membandingkan janji-janji besar G - 8 dengan kenyataan di lapangan . Pada Juli lalu , Perdana Menteri Inggris Tony Blair mengatakan , G - 8 setuju menaikkan bantuan sebesar 48 miliar dollar AS per tahun pada 2010 .'},\n",
       " {'qas': [{'question': 'Berapakah catatan waktu terbaik Tonique Williams-Darling dalam lari 400 meter putri ?',\n",
       "    'answers': [{'text': '', 'answer_start': 0}],\n",
       "    'id': 'id-2'}],\n",
       "  'context': 'Catatan waktu yang dibuat Darling di kejuaraan dunia ini masih jauh di bawah catatan waktu terbaiknya , 49,07 detik , yang dibuat di Kejuaraan Atletik di Berlin , 12 September 2004 .'},\n",
       " {'qas': [{'question': 'Apakah nama latin dari kijang',\n",
       "    'answers': [{'text': '', 'answer_start': 0}],\n",
       "    'id': 'id-3'}],\n",
       "  'context': 'Dalam waktu sebulan , dua hewan dilindungi di Taman Wisata Bumi Kedaton ( TWBK ) Bandar Lampung , yakni beruang madu ( Helarctos malayanus ) dan kijang ( Muntiacus muntjak ) , mati mengenaskan . Beruang madu diduga mati karena stres , sementara kijang mati karena luka cukup parah . Kijang itu ditemukan terjerat perangkap babi hutan di Kotabumi , Lampung Utara .'},\n",
       " {'qas': [{'question': 'Siapa nama presiden Indonesia sekarang ?',\n",
       "    'answers': [{'text': '', 'answer_start': 0}],\n",
       "    'id': 'id-4'}],\n",
       "  'context': 'Presiden Susilo Bambang Yudhoyono , Wakil Presiden Jusuf Kalla , Ketua Dewan Perwakilan Rakyat Agung Laksono , dan Ketua Dewan Perwakilan Daerah Ginandjar Kartasasmita juga turut menyaksikan siaran langsung itu di Istana Merdeka . Seusai acara itu , Presiden bahkan mencoba melakukan teleconference dengan Helsinki , namun tidak berjalan mulus .'}]"
      ]
     },
     "execution_count": 29,
     "metadata": {},
     "output_type": "execute_result"
    }
   ],
   "source": [
    "data_test_qa[:5]"
   ]
  },
  {
   "cell_type": "code",
   "execution_count": 26,
   "metadata": {},
   "outputs": [],
   "source": [
    "def save_result(filename, data_test_qa, texts):\n",
    "    prediction = {'index':[], 'label':[]}\n",
    "    for i, qa in enumerate(data_test_qa):\n",
    "        id = qa['qas'][0]['id']\n",
    "        question = qa['qas'][0]['question']    \n",
    "        context = qa['context']\n",
    "        label = ['O']*len(context.split())\n",
    "        try:\n",
    "            answer = texts['similar_text'][id]['predicted']\n",
    "            answer_list = answer.split()\n",
    "            answer_start = context.index(answer)\n",
    "            context_list = context[:answer_start].split()\n",
    "            answer_index = len(context_list)\n",
    "            for j, ans in enumerate(answer_list):\n",
    "                if j == 0:\n",
    "                    label[answer_index+j] = 'B'\n",
    "                else:\n",
    "                    label[answer_index+j] = 'I'\n",
    "        except KeyError:\n",
    "            pass\n",
    "        prediction['index'].append(i)\n",
    "        prediction['label'].append(str(label))\n",
    "    prediction_df = pd.DataFrame.from_dict(prediction).set_index('index')\n",
    "    prediction_df.to_csv(filename)"
   ]
  },
  {
   "cell_type": "code",
   "execution_count": 28,
   "metadata": {},
   "outputs": [
    {
     "data": {
      "text/plain": [
       "'PBB'"
      ]
     },
     "execution_count": 28,
     "metadata": {},
     "output_type": "execute_result"
    }
   ],
   "source": [
    "texts['similar_text']['id-121']['predicted']"
   ]
  },
  {
   "cell_type": "code",
   "execution_count": 29,
   "metadata": {},
   "outputs": [],
   "source": [
    "save_result(f'{model_args.output_dir}/result.csv', data_test_qa, texts)"
   ]
  },
  {
   "cell_type": "markdown",
   "metadata": {},
   "source": [
    "## BERT-base-indonesian-1.5G"
   ]
  },
  {
   "cell_type": "code",
   "execution_count": 30,
   "metadata": {},
   "outputs": [],
   "source": [
    "# Configure the model\n",
    "model_args = QuestionAnsweringArgs()\n",
    "model_args.num_train_epochs = 5\n",
    "model_args.train_batch_size = 64\n",
    "model_args.evaluate_during_training = True\n",
    "model_args.output_dir = '/output/indonlu/facqa/bert-base-indonesian-1.5G'\n",
    "model_args.best_model_dir = f'{model_args.output_dir}/best_model'\n",
    "model_args.overwrite_output_dir = True\n",
    "model_args.fp16 = False\n",
    "model_args.do_lower_case = True"
   ]
  },
  {
   "cell_type": "code",
   "execution_count": 31,
   "metadata": {},
   "outputs": [
    {
     "name": "stderr",
     "output_type": "stream",
     "text": [
      "Some weights of the model checkpoint at cahya/bert-base-indonesian-1.5G were not used when initializing BertForQuestionAnswering: ['cls.predictions.bias', 'cls.predictions.transform.dense.weight', 'cls.predictions.transform.dense.bias', 'cls.predictions.transform.LayerNorm.weight', 'cls.predictions.transform.LayerNorm.bias', 'cls.predictions.decoder.weight', 'cls.predictions.decoder.bias']\n",
      "- This IS expected if you are initializing BertForQuestionAnswering from the checkpoint of a model trained on another task or with another architecture (e.g. initializing a BertForSequenceClassification model from a BertForPretraining model).\n",
      "- This IS NOT expected if you are initializing BertForQuestionAnswering from the checkpoint of a model that you expect to be exactly identical (initializing a BertForSequenceClassification model from a BertForSequenceClassification model).\n",
      "Some weights of BertForQuestionAnswering were not initialized from the model checkpoint at cahya/bert-base-indonesian-1.5G and are newly initialized: ['qa_outputs.weight', 'qa_outputs.bias']\n",
      "You should probably TRAIN this model on a down-stream task to be able to use it for predictions and inference.\n"
     ]
    }
   ],
   "source": [
    "model = QuestionAnsweringModel(\n",
    "    \"bert\", \"cahya/bert-base-indonesian-1.5G\", args=model_args\n",
    "    #\"roberta\", \"cahya/roberta-base-indonesian-522M\", args=model_args,\n",
    "    #\"xlmroberta\", \"xlm-roberta-base\", args=model_args,\n",
    "    #\"bert\", \"/output/bert-id-100/bert-base-indonesian-522M-100e\", args=model_args\n",
    ")"
   ]
  },
  {
   "cell_type": "code",
   "execution_count": 32,
   "metadata": {
    "scrolled": true
   },
   "outputs": [
    {
     "name": "stderr",
     "output_type": "stream",
     "text": [
      "INFO:simpletransformers.question_answering.question_answering_model: Converting to features started.\n",
      "convert squad examples to features:   0%|          | 0/2495 [00:00<?, ?it/s]/root/Work/transformers/src/transformers/tokenization_utils_base.py:1321: FutureWarning: The `max_len` attribute has been deprecated and will be removed in a future version, use `model_max_length` instead.\n",
      "  FutureWarning,\n",
      "/root/Work/transformers/src/transformers/tokenization_utils_base.py:1321: FutureWarning: The `max_len` attribute has been deprecated and will be removed in a future version, use `model_max_length` instead.\n",
      "  FutureWarning,\n",
      "/root/Work/transformers/src/transformers/tokenization_utils_base.py:1321: FutureWarning: The `max_len` attribute has been deprecated and will be removed in a future version, use `model_max_length` instead.\n",
      "  FutureWarning,\n",
      "/root/Work/transformers/src/transformers/tokenization_utils_base.py:1321: FutureWarning: The `max_len` attribute has been deprecated and will be removed in a future version, use `model_max_length` instead.\n",
      "  FutureWarning,\n",
      "/root/Work/transformers/src/transformers/tokenization_utils_base.py:1321: FutureWarning: The `max_len` attribute has been deprecated and will be removed in a future version, use `model_max_length` instead.\n",
      "  FutureWarning,\n",
      "convert squad examples to features: 100%|██████████| 2495/2495 [00:02<00:00, 1014.39it/s]\n",
      "add example index and unique id: 100%|██████████| 2495/2495 [00:00<00:00, 140446.22it/s]\n"
     ]
    },
    {
     "data": {
      "application/vnd.jupyter.widget-view+json": {
       "model_id": "7802575f8a5c49dc90ecc044032b587c",
       "version_major": 2,
       "version_minor": 0
      },
      "text/plain": [
       "HBox(children=(FloatProgress(value=0.0, description='Epoch', max=5.0, style=ProgressStyle(description_width='i…"
      ]
     },
     "metadata": {},
     "output_type": "display_data"
    },
    {
     "data": {
      "application/vnd.jupyter.widget-view+json": {
       "model_id": "3dcffe93a54f4a7ea11d7ea4a0d7e2a0",
       "version_major": 2,
       "version_minor": 0
      },
      "text/plain": [
       "HBox(children=(FloatProgress(value=0.0, description='Running Epoch 0 of 5', max=39.0, style=ProgressStyle(desc…"
      ]
     },
     "metadata": {},
     "output_type": "display_data"
    },
    {
     "name": "stdout",
     "output_type": "stream",
     "text": [
      "\n"
     ]
    },
    {
     "name": "stderr",
     "output_type": "stream",
     "text": [
      "INFO:simpletransformers.question_answering.question_answering_model: Converting to features started.\n",
      "\n",
      "convert squad examples to features:   0%|          | 0/311 [00:00<?, ?it/s]\u001b[A/root/Work/transformers/src/transformers/tokenization_utils_base.py:1321: FutureWarning: The `max_len` attribute has been deprecated and will be removed in a future version, use `model_max_length` instead.\n",
      "  FutureWarning,\n",
      "\n",
      "convert squad examples to features: 100%|██████████| 311/311 [00:01<00:00, 229.77it/s]\n",
      "\n",
      "add example index and unique id: 100%|██████████| 311/311 [00:00<00:00, 549927.72it/s]\n"
     ]
    },
    {
     "data": {
      "application/vnd.jupyter.widget-view+json": {
       "model_id": "b67ece48156e4a06b20fdab26b4f1e0e",
       "version_major": 2,
       "version_minor": 0
      },
      "text/plain": [
       "HBox(children=(FloatProgress(value=0.0, description='Running Evaluation', max=39.0, style=ProgressStyle(descri…"
      ]
     },
     "metadata": {},
     "output_type": "display_data"
    },
    {
     "name": "stdout",
     "output_type": "stream",
     "text": [
      "\n"
     ]
    },
    {
     "data": {
      "application/vnd.jupyter.widget-view+json": {
       "model_id": "3688f7b016534d468d8b03b7f9e288a9",
       "version_major": 2,
       "version_minor": 0
      },
      "text/plain": [
       "HBox(children=(FloatProgress(value=0.0, description='Running Epoch 1 of 5', max=39.0, style=ProgressStyle(desc…"
      ]
     },
     "metadata": {},
     "output_type": "display_data"
    },
    {
     "name": "stdout",
     "output_type": "stream",
     "text": [
      "\n"
     ]
    },
    {
     "name": "stderr",
     "output_type": "stream",
     "text": [
      "INFO:simpletransformers.question_answering.question_answering_model: Converting to features started.\n",
      "\n",
      "convert squad examples to features:   0%|          | 0/311 [00:00<?, ?it/s]\u001b[A/root/Work/transformers/src/transformers/tokenization_utils_base.py:1321: FutureWarning: The `max_len` attribute has been deprecated and will be removed in a future version, use `model_max_length` instead.\n",
      "  FutureWarning,\n",
      "\n",
      "convert squad examples to features: 100%|██████████| 311/311 [00:01<00:00, 171.76it/s]\n",
      "\n",
      "add example index and unique id: 100%|██████████| 311/311 [00:00<00:00, 544874.08it/s]\n"
     ]
    },
    {
     "data": {
      "application/vnd.jupyter.widget-view+json": {
       "model_id": "8d3d70dd1d544f5c9267dc901a4ce923",
       "version_major": 2,
       "version_minor": 0
      },
      "text/plain": [
       "HBox(children=(FloatProgress(value=0.0, description='Running Evaluation', max=39.0, style=ProgressStyle(descri…"
      ]
     },
     "metadata": {},
     "output_type": "display_data"
    },
    {
     "name": "stdout",
     "output_type": "stream",
     "text": [
      "\n"
     ]
    },
    {
     "data": {
      "application/vnd.jupyter.widget-view+json": {
       "model_id": "84734a3b41cc446db97b1d27854d4691",
       "version_major": 2,
       "version_minor": 0
      },
      "text/plain": [
       "HBox(children=(FloatProgress(value=0.0, description='Running Epoch 2 of 5', max=39.0, style=ProgressStyle(desc…"
      ]
     },
     "metadata": {},
     "output_type": "display_data"
    },
    {
     "name": "stdout",
     "output_type": "stream",
     "text": [
      "\n"
     ]
    },
    {
     "name": "stderr",
     "output_type": "stream",
     "text": [
      "INFO:simpletransformers.question_answering.question_answering_model: Converting to features started.\n",
      "\n",
      "convert squad examples to features:   0%|          | 0/311 [00:00<?, ?it/s]\u001b[A/root/Work/transformers/src/transformers/tokenization_utils_base.py:1321: FutureWarning: The `max_len` attribute has been deprecated and will be removed in a future version, use `model_max_length` instead.\n",
      "  FutureWarning,\n",
      "\n",
      "convert squad examples to features: 100%|██████████| 311/311 [00:01<00:00, 224.51it/s]\n",
      "\n",
      "add example index and unique id: 100%|██████████| 311/311 [00:00<00:00, 541256.66it/s]\n"
     ]
    },
    {
     "data": {
      "application/vnd.jupyter.widget-view+json": {
       "model_id": "f416358729d94be992d2a0b82bed4b38",
       "version_major": 2,
       "version_minor": 0
      },
      "text/plain": [
       "HBox(children=(FloatProgress(value=0.0, description='Running Evaluation', max=39.0, style=ProgressStyle(descri…"
      ]
     },
     "metadata": {},
     "output_type": "display_data"
    },
    {
     "name": "stdout",
     "output_type": "stream",
     "text": [
      "\n"
     ]
    },
    {
     "data": {
      "application/vnd.jupyter.widget-view+json": {
       "model_id": "449d47ecc96d4c71979f68dab1774917",
       "version_major": 2,
       "version_minor": 0
      },
      "text/plain": [
       "HBox(children=(FloatProgress(value=0.0, description='Running Epoch 3 of 5', max=39.0, style=ProgressStyle(desc…"
      ]
     },
     "metadata": {},
     "output_type": "display_data"
    },
    {
     "name": "stdout",
     "output_type": "stream",
     "text": [
      "\n"
     ]
    },
    {
     "name": "stderr",
     "output_type": "stream",
     "text": [
      "INFO:simpletransformers.question_answering.question_answering_model: Converting to features started.\n",
      "\n",
      "convert squad examples to features:   0%|          | 0/311 [00:00<?, ?it/s]\u001b[A/root/Work/transformers/src/transformers/tokenization_utils_base.py:1321: FutureWarning: The `max_len` attribute has been deprecated and will be removed in a future version, use `model_max_length` instead.\n",
      "  FutureWarning,\n",
      "\n",
      "convert squad examples to features: 100%|██████████| 311/311 [00:01<00:00, 235.57it/s]\n",
      "\n",
      "add example index and unique id: 100%|██████████| 311/311 [00:00<00:00, 430931.13it/s]\n"
     ]
    },
    {
     "data": {
      "application/vnd.jupyter.widget-view+json": {
       "model_id": "7e8c471d0c074755977848dee6b31cb5",
       "version_major": 2,
       "version_minor": 0
      },
      "text/plain": [
       "HBox(children=(FloatProgress(value=0.0, description='Running Evaluation', max=39.0, style=ProgressStyle(descri…"
      ]
     },
     "metadata": {},
     "output_type": "display_data"
    },
    {
     "name": "stdout",
     "output_type": "stream",
     "text": [
      "\n"
     ]
    },
    {
     "data": {
      "application/vnd.jupyter.widget-view+json": {
       "model_id": "11b4a13bc70c4a3c96695f9c2e6deb0d",
       "version_major": 2,
       "version_minor": 0
      },
      "text/plain": [
       "HBox(children=(FloatProgress(value=0.0, description='Running Epoch 4 of 5', max=39.0, style=ProgressStyle(desc…"
      ]
     },
     "metadata": {},
     "output_type": "display_data"
    },
    {
     "name": "stdout",
     "output_type": "stream",
     "text": [
      "\n"
     ]
    },
    {
     "name": "stderr",
     "output_type": "stream",
     "text": [
      "INFO:simpletransformers.question_answering.question_answering_model: Converting to features started.\n",
      "\n",
      "convert squad examples to features:   0%|          | 0/311 [00:00<?, ?it/s]\u001b[A/root/Work/transformers/src/transformers/tokenization_utils_base.py:1321: FutureWarning: The `max_len` attribute has been deprecated and will be removed in a future version, use `model_max_length` instead.\n",
      "  FutureWarning,\n",
      "\n",
      "convert squad examples to features: 100%|██████████| 311/311 [00:01<00:00, 225.39it/s]\n",
      "\n",
      "add example index and unique id: 100%|██████████| 311/311 [00:00<00:00, 513959.24it/s]\n"
     ]
    },
    {
     "data": {
      "application/vnd.jupyter.widget-view+json": {
       "model_id": "568a55c53ce44d2cb467c405a4b91b36",
       "version_major": 2,
       "version_minor": 0
      },
      "text/plain": [
       "HBox(children=(FloatProgress(value=0.0, description='Running Evaluation', max=39.0, style=ProgressStyle(descri…"
      ]
     },
     "metadata": {},
     "output_type": "display_data"
    },
    {
     "name": "stdout",
     "output_type": "stream",
     "text": [
      "\n",
      "\n"
     ]
    },
    {
     "name": "stderr",
     "output_type": "stream",
     "text": [
      "INFO:simpletransformers.question_answering.question_answering_model: Training of bert model complete. Saved to /output/indonlu/facqa/bert-base-indonesian-1.5G.\n"
     ]
    }
   ],
   "source": [
    "# Train the model\n",
    "model.train_model(data_train_qa, eval_data=data_valid_qa)"
   ]
  },
  {
   "cell_type": "code",
   "execution_count": 33,
   "metadata": {},
   "outputs": [
    {
     "name": "stderr",
     "output_type": "stream",
     "text": [
      "INFO:simpletransformers.question_answering.question_answering_model: Converting to features started.\n",
      "convert squad examples to features:   0%|          | 0/311 [00:00<?, ?it/s]/root/Work/transformers/src/transformers/tokenization_utils_base.py:1321: FutureWarning: The `max_len` attribute has been deprecated and will be removed in a future version, use `model_max_length` instead.\n",
      "  FutureWarning,\n",
      "convert squad examples to features: 100%|██████████| 311/311 [00:01<00:00, 229.28it/s]\n",
      "add example index and unique id: 100%|██████████| 311/311 [00:00<00:00, 356986.47it/s]\n"
     ]
    },
    {
     "data": {
      "application/vnd.jupyter.widget-view+json": {
       "model_id": "4fe957f368f34f729231b45fe0e19a9e",
       "version_major": 2,
       "version_minor": 0
      },
      "text/plain": [
       "HBox(children=(FloatProgress(value=0.0, description='Running Evaluation', max=39.0, style=ProgressStyle(descri…"
      ]
     },
     "metadata": {},
     "output_type": "display_data"
    },
    {
     "name": "stdout",
     "output_type": "stream",
     "text": [
      "\n"
     ]
    }
   ],
   "source": [
    "# Evaluate the model\n",
    "result, texts = model.eval_model(data_valid_qa)"
   ]
  },
  {
   "cell_type": "code",
   "execution_count": 34,
   "metadata": {},
   "outputs": [
    {
     "data": {
      "text/plain": [
       "{'correct': 216,\n",
       " 'similar': 57,\n",
       " 'incorrect': 38,\n",
       " 'eval_loss': -7.261089691748986}"
      ]
     },
     "execution_count": 34,
     "metadata": {},
     "output_type": "execute_result"
    }
   ],
   "source": [
    "result"
   ]
  },
  {
   "cell_type": "code",
   "execution_count": 35,
   "metadata": {},
   "outputs": [
    {
     "name": "stderr",
     "output_type": "stream",
     "text": [
      "INFO:simpletransformers.question_answering.question_answering_model: Converting to features started.\n",
      "convert squad examples to features:   0%|          | 0/311 [00:00<?, ?it/s]/root/Work/transformers/src/transformers/tokenization_utils_base.py:1321: FutureWarning: The `max_len` attribute has been deprecated and will be removed in a future version, use `model_max_length` instead.\n",
      "  FutureWarning,\n",
      "convert squad examples to features: 100%|██████████| 311/311 [00:01<00:00, 225.28it/s]\n",
      "add example index and unique id: 100%|██████████| 311/311 [00:00<00:00, 37468.51it/s]\n"
     ]
    },
    {
     "data": {
      "application/vnd.jupyter.widget-view+json": {
       "model_id": "dcacda92f91d4e22beff905529227dc7",
       "version_major": 2,
       "version_minor": 0
      },
      "text/plain": [
       "HBox(children=(FloatProgress(value=0.0, description='Running Evaluation', max=39.0, style=ProgressStyle(descri…"
      ]
     },
     "metadata": {},
     "output_type": "display_data"
    },
    {
     "name": "stdout",
     "output_type": "stream",
     "text": [
      "\n"
     ]
    }
   ],
   "source": [
    "# Evaluate the model\n",
    "result, texts = model.eval_model(data_test_qa)"
   ]
  },
  {
   "cell_type": "code",
   "execution_count": 36,
   "metadata": {},
   "outputs": [],
   "source": [
    "save_result(f'{model_args.output_dir}/result.csv', data_test_qa, texts)"
   ]
  },
  {
   "cell_type": "code",
   "execution_count": null,
   "metadata": {},
   "outputs": [],
   "source": []
  },
  {
   "cell_type": "markdown",
   "metadata": {},
   "source": [
    "### Dataset training+valid"
   ]
  },
  {
   "cell_type": "code",
   "execution_count": 57,
   "metadata": {},
   "outputs": [],
   "source": [
    "data_train_valid_qa = data_train_qa+data_valid_qa"
   ]
  },
  {
   "cell_type": "code",
   "execution_count": 58,
   "metadata": {},
   "outputs": [
    {
     "data": {
      "text/plain": [
       "(2495, 311, 2806)"
      ]
     },
     "execution_count": 58,
     "metadata": {},
     "output_type": "execute_result"
    }
   ],
   "source": [
    "len(data_train_qa), len(data_valid_qa), len(data_train_valid_qa)"
   ]
  },
  {
   "cell_type": "code",
   "execution_count": 61,
   "metadata": {},
   "outputs": [],
   "source": [
    "# Configure the model\n",
    "model_args = QuestionAnsweringArgs()\n",
    "model_args.num_train_epochs = 5\n",
    "model_args.train_batch_size = 64\n",
    "model_args.evaluate_during_training = True\n",
    "model_args.output_dir = '/output/indonlu/facqa/bert-base-indonesian-1.5G'\n",
    "model_args.best_model_dir = f'{model_args.output_dir}/best_model'\n",
    "model_args.overwrite_output_dir = True\n",
    "model_args.fp16 = False\n",
    "model_args.do_lower_case = True"
   ]
  },
  {
   "cell_type": "code",
   "execution_count": 62,
   "metadata": {},
   "outputs": [
    {
     "name": "stderr",
     "output_type": "stream",
     "text": [
      "Some weights of the model checkpoint at cahya/bert-base-indonesian-1.5G were not used when initializing BertForQuestionAnswering: ['cls.predictions.bias', 'cls.predictions.transform.dense.weight', 'cls.predictions.transform.dense.bias', 'cls.predictions.transform.LayerNorm.weight', 'cls.predictions.transform.LayerNorm.bias', 'cls.predictions.decoder.weight', 'cls.predictions.decoder.bias']\n",
      "- This IS expected if you are initializing BertForQuestionAnswering from the checkpoint of a model trained on another task or with another architecture (e.g. initializing a BertForSequenceClassification model from a BertForPretraining model).\n",
      "- This IS NOT expected if you are initializing BertForQuestionAnswering from the checkpoint of a model that you expect to be exactly identical (initializing a BertForSequenceClassification model from a BertForSequenceClassification model).\n",
      "Some weights of BertForQuestionAnswering were not initialized from the model checkpoint at cahya/bert-base-indonesian-1.5G and are newly initialized: ['qa_outputs.weight', 'qa_outputs.bias']\n",
      "You should probably TRAIN this model on a down-stream task to be able to use it for predictions and inference.\n"
     ]
    }
   ],
   "source": [
    "model = QuestionAnsweringModel(\n",
    "    \"bert\", \"cahya/bert-base-indonesian-1.5G\", args=model_args\n",
    "    #\"roberta\", \"cahya/roberta-base-indonesian-522M\", args=model_args,\n",
    "    #\"xlmroberta\", \"xlm-roberta-base\", args=model_args,\n",
    "    #\"bert\", \"/output/bert-id-100/bert-base-indonesian-522M-100e\", args=model_args\n",
    ")"
   ]
  },
  {
   "cell_type": "code",
   "execution_count": 63,
   "metadata": {},
   "outputs": [
    {
     "name": "stderr",
     "output_type": "stream",
     "text": [
      "INFO:simpletransformers.question_answering.question_answering_model: Converting to features started.\n",
      "convert squad examples to features:   0%|          | 0/2806 [00:00<?, ?it/s]/root/Work/transformers/src/transformers/tokenization_utils_base.py:1321: FutureWarning: The `max_len` attribute has been deprecated and will be removed in a future version, use `model_max_length` instead.\n",
      "  FutureWarning,\n",
      "/root/Work/transformers/src/transformers/tokenization_utils_base.py:1321: FutureWarning: The `max_len` attribute has been deprecated and will be removed in a future version, use `model_max_length` instead.\n",
      "  FutureWarning,\n",
      "/root/Work/transformers/src/transformers/tokenization_utils_base.py:1321: FutureWarning: The `max_len` attribute has been deprecated and will be removed in a future version, use `model_max_length` instead.\n",
      "  FutureWarning,\n",
      "/root/Work/transformers/src/transformers/tokenization_utils_base.py:1321: FutureWarning: The `max_len` attribute has been deprecated and will be removed in a future version, use `model_max_length` instead.\n",
      "  FutureWarning,\n",
      "/root/Work/transformers/src/transformers/tokenization_utils_base.py:1321: FutureWarning: The `max_len` attribute has been deprecated and will be removed in a future version, use `model_max_length` instead.\n",
      "  FutureWarning,\n",
      "/root/Work/transformers/src/transformers/tokenization_utils_base.py:1321: FutureWarning: The `max_len` attribute has been deprecated and will be removed in a future version, use `model_max_length` instead.\n",
      "  FutureWarning,\n",
      "convert squad examples to features: 100%|██████████| 2806/2806 [00:02<00:00, 1149.93it/s]\n",
      "add example index and unique id: 100%|██████████| 2806/2806 [00:00<00:00, 713069.80it/s]\n"
     ]
    },
    {
     "data": {
      "application/vnd.jupyter.widget-view+json": {
       "model_id": "0a614688417647dbae0ce2db2b471790",
       "version_major": 2,
       "version_minor": 0
      },
      "text/plain": [
       "HBox(children=(FloatProgress(value=0.0, description='Epoch', max=5.0, style=ProgressStyle(description_width='i…"
      ]
     },
     "metadata": {},
     "output_type": "display_data"
    },
    {
     "data": {
      "application/vnd.jupyter.widget-view+json": {
       "model_id": "65d9b24aa62047e78d6c58351f5a8ff1",
       "version_major": 2,
       "version_minor": 0
      },
      "text/plain": [
       "HBox(children=(FloatProgress(value=0.0, description='Running Epoch 0 of 5', max=44.0, style=ProgressStyle(desc…"
      ]
     },
     "metadata": {},
     "output_type": "display_data"
    },
    {
     "name": "stdout",
     "output_type": "stream",
     "text": [
      "\n"
     ]
    },
    {
     "name": "stderr",
     "output_type": "stream",
     "text": [
      "INFO:simpletransformers.question_answering.question_answering_model: Converting to features started.\n",
      "\n",
      "convert squad examples to features:   0%|          | 0/311 [00:00<?, ?it/s]\u001b[A/root/Work/transformers/src/transformers/tokenization_utils_base.py:1321: FutureWarning: The `max_len` attribute has been deprecated and will be removed in a future version, use `model_max_length` instead.\n",
      "  FutureWarning,\n",
      "\n",
      "convert squad examples to features: 100%|██████████| 311/311 [00:01<00:00, 230.19it/s]\n",
      "\n",
      "add example index and unique id: 100%|██████████| 311/311 [00:00<00:00, 532202.59it/s]\n"
     ]
    },
    {
     "data": {
      "application/vnd.jupyter.widget-view+json": {
       "model_id": "7c6d40005be84993bdee3afe2d10a757",
       "version_major": 2,
       "version_minor": 0
      },
      "text/plain": [
       "HBox(children=(FloatProgress(value=0.0, description='Running Evaluation', max=39.0, style=ProgressStyle(descri…"
      ]
     },
     "metadata": {},
     "output_type": "display_data"
    },
    {
     "name": "stdout",
     "output_type": "stream",
     "text": [
      "\n"
     ]
    },
    {
     "data": {
      "application/vnd.jupyter.widget-view+json": {
       "model_id": "5312f12b3e3b40dfad773a9f45524162",
       "version_major": 2,
       "version_minor": 0
      },
      "text/plain": [
       "HBox(children=(FloatProgress(value=0.0, description='Running Epoch 1 of 5', max=44.0, style=ProgressStyle(desc…"
      ]
     },
     "metadata": {},
     "output_type": "display_data"
    },
    {
     "name": "stdout",
     "output_type": "stream",
     "text": [
      "\n"
     ]
    },
    {
     "name": "stderr",
     "output_type": "stream",
     "text": [
      "INFO:simpletransformers.question_answering.question_answering_model: Converting to features started.\n",
      "\n",
      "convert squad examples to features:   0%|          | 0/311 [00:00<?, ?it/s]\u001b[A/root/Work/transformers/src/transformers/tokenization_utils_base.py:1321: FutureWarning: The `max_len` attribute has been deprecated and will be removed in a future version, use `model_max_length` instead.\n",
      "  FutureWarning,\n",
      "\n",
      "convert squad examples to features: 100%|██████████| 311/311 [00:02<00:00, 154.30it/s]\n",
      "\n",
      "add example index and unique id: 100%|██████████| 311/311 [00:00<00:00, 523656.58it/s]\n"
     ]
    },
    {
     "data": {
      "application/vnd.jupyter.widget-view+json": {
       "model_id": "eac4d01f5e784988a39634e080b1439c",
       "version_major": 2,
       "version_minor": 0
      },
      "text/plain": [
       "HBox(children=(FloatProgress(value=0.0, description='Running Evaluation', max=39.0, style=ProgressStyle(descri…"
      ]
     },
     "metadata": {},
     "output_type": "display_data"
    },
    {
     "name": "stdout",
     "output_type": "stream",
     "text": [
      "\n"
     ]
    },
    {
     "data": {
      "application/vnd.jupyter.widget-view+json": {
       "model_id": "4c50339bd4d54c45bcfcfb96fbe445fc",
       "version_major": 2,
       "version_minor": 0
      },
      "text/plain": [
       "HBox(children=(FloatProgress(value=0.0, description='Running Epoch 2 of 5', max=44.0, style=ProgressStyle(desc…"
      ]
     },
     "metadata": {},
     "output_type": "display_data"
    },
    {
     "name": "stdout",
     "output_type": "stream",
     "text": [
      "\n"
     ]
    },
    {
     "name": "stderr",
     "output_type": "stream",
     "text": [
      "INFO:simpletransformers.question_answering.question_answering_model: Converting to features started.\n",
      "\n",
      "convert squad examples to features:   0%|          | 0/311 [00:00<?, ?it/s]\u001b[A/root/Work/transformers/src/transformers/tokenization_utils_base.py:1321: FutureWarning: The `max_len` attribute has been deprecated and will be removed in a future version, use `model_max_length` instead.\n",
      "  FutureWarning,\n",
      "\n",
      "convert squad examples to features: 100%|██████████| 311/311 [00:01<00:00, 236.09it/s]\n",
      "\n",
      "add example index and unique id: 100%|██████████| 311/311 [00:00<00:00, 428806.23it/s]\n"
     ]
    },
    {
     "data": {
      "application/vnd.jupyter.widget-view+json": {
       "model_id": "5c6bbc67ce8842148d356d560134cfd4",
       "version_major": 2,
       "version_minor": 0
      },
      "text/plain": [
       "HBox(children=(FloatProgress(value=0.0, description='Running Evaluation', max=39.0, style=ProgressStyle(descri…"
      ]
     },
     "metadata": {},
     "output_type": "display_data"
    },
    {
     "name": "stdout",
     "output_type": "stream",
     "text": [
      "\n"
     ]
    },
    {
     "data": {
      "application/vnd.jupyter.widget-view+json": {
       "model_id": "edb59a223c1f462fb7df4788c3adf2d8",
       "version_major": 2,
       "version_minor": 0
      },
      "text/plain": [
       "HBox(children=(FloatProgress(value=0.0, description='Running Epoch 3 of 5', max=44.0, style=ProgressStyle(desc…"
      ]
     },
     "metadata": {},
     "output_type": "display_data"
    },
    {
     "name": "stdout",
     "output_type": "stream",
     "text": [
      "\n"
     ]
    },
    {
     "name": "stderr",
     "output_type": "stream",
     "text": [
      "INFO:simpletransformers.question_answering.question_answering_model: Converting to features started.\n",
      "\n",
      "convert squad examples to features:   0%|          | 0/311 [00:00<?, ?it/s]\u001b[A/root/Work/transformers/src/transformers/tokenization_utils_base.py:1321: FutureWarning: The `max_len` attribute has been deprecated and will be removed in a future version, use `model_max_length` instead.\n",
      "  FutureWarning,\n",
      "\n",
      "convert squad examples to features: 100%|██████████| 311/311 [00:01<00:00, 231.43it/s]\n",
      "\n",
      "add example index and unique id: 100%|██████████| 311/311 [00:00<00:00, 500548.17it/s]\n"
     ]
    },
    {
     "data": {
      "application/vnd.jupyter.widget-view+json": {
       "model_id": "06308dd566ed4b18a4352a02ccd65f76",
       "version_major": 2,
       "version_minor": 0
      },
      "text/plain": [
       "HBox(children=(FloatProgress(value=0.0, description='Running Evaluation', max=39.0, style=ProgressStyle(descri…"
      ]
     },
     "metadata": {},
     "output_type": "display_data"
    },
    {
     "name": "stdout",
     "output_type": "stream",
     "text": [
      "\n"
     ]
    },
    {
     "data": {
      "application/vnd.jupyter.widget-view+json": {
       "model_id": "7d0e7a34aaa94b4da8631766311b170f",
       "version_major": 2,
       "version_minor": 0
      },
      "text/plain": [
       "HBox(children=(FloatProgress(value=0.0, description='Running Epoch 4 of 5', max=44.0, style=ProgressStyle(desc…"
      ]
     },
     "metadata": {},
     "output_type": "display_data"
    },
    {
     "name": "stdout",
     "output_type": "stream",
     "text": [
      "\n"
     ]
    },
    {
     "name": "stderr",
     "output_type": "stream",
     "text": [
      "INFO:simpletransformers.question_answering.question_answering_model: Converting to features started.\n",
      "\n",
      "convert squad examples to features:   0%|          | 0/311 [00:00<?, ?it/s]\u001b[A/root/Work/transformers/src/transformers/tokenization_utils_base.py:1321: FutureWarning: The `max_len` attribute has been deprecated and will be removed in a future version, use `model_max_length` instead.\n",
      "  FutureWarning,\n",
      "\n",
      "convert squad examples to features: 100%|██████████| 311/311 [00:01<00:00, 222.22it/s]\n",
      "\n",
      "add example index and unique id: 100%|██████████| 311/311 [00:00<00:00, 502282.84it/s]\n"
     ]
    },
    {
     "data": {
      "application/vnd.jupyter.widget-view+json": {
       "model_id": "20ea000a9a3f4beb810bb85786efeda3",
       "version_major": 2,
       "version_minor": 0
      },
      "text/plain": [
       "HBox(children=(FloatProgress(value=0.0, description='Running Evaluation', max=39.0, style=ProgressStyle(descri…"
      ]
     },
     "metadata": {},
     "output_type": "display_data"
    },
    {
     "name": "stdout",
     "output_type": "stream",
     "text": [
      "\n",
      "\n"
     ]
    },
    {
     "name": "stderr",
     "output_type": "stream",
     "text": [
      "INFO:simpletransformers.question_answering.question_answering_model: Training of bert model complete. Saved to /output/indonlu/facqa/bert-base-indonesian-1.5G.\n"
     ]
    }
   ],
   "source": [
    "# Train the model\n",
    "model.train_model(data_train_valid_qa, eval_data=data_valid_qa)"
   ]
  },
  {
   "cell_type": "code",
   "execution_count": 64,
   "metadata": {},
   "outputs": [
    {
     "name": "stderr",
     "output_type": "stream",
     "text": [
      "INFO:simpletransformers.question_answering.question_answering_model: Converting to features started.\n",
      "convert squad examples to features:   0%|          | 0/311 [00:00<?, ?it/s]/root/Work/transformers/src/transformers/tokenization_utils_base.py:1321: FutureWarning: The `max_len` attribute has been deprecated and will be removed in a future version, use `model_max_length` instead.\n",
      "  FutureWarning,\n",
      "convert squad examples to features: 100%|██████████| 311/311 [00:01<00:00, 230.71it/s]\n",
      "add example index and unique id: 100%|██████████| 311/311 [00:00<00:00, 353025.32it/s]\n"
     ]
    },
    {
     "data": {
      "application/vnd.jupyter.widget-view+json": {
       "model_id": "2cbf4050c0604eef9f000159008e6827",
       "version_major": 2,
       "version_minor": 0
      },
      "text/plain": [
       "HBox(children=(FloatProgress(value=0.0, description='Running Evaluation', max=39.0, style=ProgressStyle(descri…"
      ]
     },
     "metadata": {},
     "output_type": "display_data"
    },
    {
     "name": "stdout",
     "output_type": "stream",
     "text": [
      "\n"
     ]
    }
   ],
   "source": [
    "# Evaluate the model\n",
    "result, texts = model.eval_model(data_valid_qa)"
   ]
  },
  {
   "cell_type": "code",
   "execution_count": 66,
   "metadata": {},
   "outputs": [
    {
     "data": {
      "text/plain": [
       "{'correct': 306, 'similar': 5, 'incorrect': 0, 'eval_loss': -7.844043230399107}"
      ]
     },
     "execution_count": 66,
     "metadata": {},
     "output_type": "execute_result"
    }
   ],
   "source": [
    "result"
   ]
  },
  {
   "cell_type": "code",
   "execution_count": 67,
   "metadata": {},
   "outputs": [
    {
     "name": "stderr",
     "output_type": "stream",
     "text": [
      "INFO:simpletransformers.question_answering.question_answering_model: Converting to features started.\n",
      "convert squad examples to features:   0%|          | 0/311 [00:00<?, ?it/s]/root/Work/transformers/src/transformers/tokenization_utils_base.py:1321: FutureWarning: The `max_len` attribute has been deprecated and will be removed in a future version, use `model_max_length` instead.\n",
      "  FutureWarning,\n",
      "convert squad examples to features: 100%|██████████| 311/311 [00:01<00:00, 227.17it/s]\n",
      "add example index and unique id: 100%|██████████| 311/311 [00:00<00:00, 405227.88it/s]\n"
     ]
    },
    {
     "data": {
      "application/vnd.jupyter.widget-view+json": {
       "model_id": "0fddb28a067f4c558d0f5eed20a2ada7",
       "version_major": 2,
       "version_minor": 0
      },
      "text/plain": [
       "HBox(children=(FloatProgress(value=0.0, description='Running Evaluation', max=39.0, style=ProgressStyle(descri…"
      ]
     },
     "metadata": {},
     "output_type": "display_data"
    },
    {
     "name": "stdout",
     "output_type": "stream",
     "text": [
      "\n"
     ]
    }
   ],
   "source": [
    "# Evaluate the model\n",
    "result, texts = model.eval_model(data_test_qa)"
   ]
  },
  {
   "cell_type": "code",
   "execution_count": 68,
   "metadata": {},
   "outputs": [],
   "source": [
    "save_result(f'{model_args.output_dir}/result_t_v.csv', data_test_qa, texts)"
   ]
  },
  {
   "cell_type": "markdown",
   "metadata": {},
   "source": [
    "### tydiqa + facqa"
   ]
  },
  {
   "cell_type": "code",
   "execution_count": 74,
   "metadata": {},
   "outputs": [],
   "source": [
    "file_train_tq = \"/dataset/tydiqa/tydiqa-goldp-v1.1-train.json\"\n",
    "file_valid_tq = \"/dataset/tydiqa/tydiqa-goldp-v1.1-dev.json\""
   ]
  },
  {
   "cell_type": "code",
   "execution_count": 76,
   "metadata": {},
   "outputs": [],
   "source": [
    "with open(file_valid_tq) as f:\n",
    "  data_valid_tq = json.load(f)\n",
    "\n",
    "with open(file_train_tq) as f:\n",
    "  data_train_tq = json.load(f)"
   ]
  },
  {
   "cell_type": "code",
   "execution_count": 77,
   "metadata": {},
   "outputs": [],
   "source": [
    "data_valid_tq_id = []\n",
    "for i in range(len(data_valid_tq[\"data\"])):\n",
    "    if 'indonesia' in data_valid_tq[\"data\"][i]['paragraphs'][0]['qas'][0]['id']:\n",
    "        for paragraph in data_valid_tq[\"data\"][i]['paragraphs']:\n",
    "            data_valid_tq_id.append(paragraph)"
   ]
  },
  {
   "cell_type": "code",
   "execution_count": 78,
   "metadata": {},
   "outputs": [],
   "source": [
    "data_train_tq_id = []\n",
    "for i in range(len(data_train_tq[\"data\"])):\n",
    "    if 'indonesia' in data_train_tq[\"data\"][i]['paragraphs'][0]['qas'][0]['id']:\n",
    "        for paragraph in data_train_tq[\"data\"][i]['paragraphs']:\n",
    "            data_train_tq_id.append(paragraph)"
   ]
  },
  {
   "cell_type": "code",
   "execution_count": 79,
   "metadata": {},
   "outputs": [
    {
     "data": {
      "text/plain": [
       "[{'qas': [{'question': 'Siapakah yang menemuka benua Amerika ?',\n",
       "    'answers': [{'text': 'orang-orang Viking dari Eropa Utara',\n",
       "      'answer_start': 193}],\n",
       "    'id': 'indonesian-1906590851264221380-1'}],\n",
       "  'context': \"Kolumbus bukanlah orang pertama yang tiba di Amerika, yang ia dapati sudah diduduki. Ia juga bukan orang Eropa pertama yang sampai ke benua itu karena sekarang telah diakui secara meluas bahwa orang-orang Viking dari Eropa Utara telah berkunjung ke Amerika Utara pada abad ke 11 dan mendirikan koloni L'Anse aux Meadows untuk jangka waktu singkat. Terdapat perkiraan bahwa pelayar yang tidak dikenali pernah melawat ke Amerika sebelum Kolumbus dan membekalkannya dengan sumber untuk kejayaannya. Terdapat juga banyak teori mengenai ekspedisi ke Amerika oleh berbagai orang sepanjang masa itu.\"},\n",
       " {'qas': [{'question': 'Dimanakah letak Donggala ?',\n",
       "    'answers': [{'text': 'provinsi Sulawesi Tengah, Indonesia',\n",
       "      'answer_start': 75},\n",
       "     {'text': 'Sulawesi Tengah, Indonesia', 'answer_start': 84}],\n",
       "    'id': 'indonesian-2929200220081600730-0'}],\n",
       "  'context': 'Kabupaten Donggala (English: Donggala Regency), adalah sebuah kabupaten di provinsi Sulawesi Tengah, Indonesia. Ibu kota kabupaten sekaligus pusat administrasi terletak di Kota Donggala. Kabupaten ini mempunyai luas sebesar 4275,08km² dan berpenduduk sebanyak 301.757 jiwa pada tahun 2016. Donggala adalah kabupaten terluas ke-7, terpadat ke-4, dan memiliki populasi terbanyak ke-4 di Sulawesi Tengah. Kabupaten Donggala terdiri dari 16 kecamatan dan 166 desa/kelurahan. Donggala mengelilingi wilayah Kota Palu, dan berbatasan dengan Parigi Moutong di bagian timur, Tolitoli di bagian utara dan timur laut, Sigi di bagian selatan, dan Sulawesi Barat di bagian barat dan barat daya.[lower-alpha 1]'}]"
      ]
     },
     "execution_count": 79,
     "metadata": {},
     "output_type": "execute_result"
    }
   ],
   "source": [
    "data_valid_tq_id[:2]"
   ]
  },
  {
   "cell_type": "code",
   "execution_count": 93,
   "metadata": {},
   "outputs": [],
   "source": [
    "#data_all_qa = data_train_qa+data_valid_qa+data_train_tq_id+data_valid_tq_id\n",
    "data_all_qa = data_train_qa+data_train_tq_id+data_valid_tq_id"
   ]
  },
  {
   "cell_type": "code",
   "execution_count": 94,
   "metadata": {},
   "outputs": [
    {
     "data": {
      "text/plain": [
       "(2495, 311, 5702, 565, 8762)"
      ]
     },
     "execution_count": 94,
     "metadata": {},
     "output_type": "execute_result"
    }
   ],
   "source": [
    "len(data_train_qa), len(data_valid_qa), len(data_train_tq_id), len(data_valid_tq_id), len(data_all_qa)"
   ]
  },
  {
   "cell_type": "code",
   "execution_count": 85,
   "metadata": {
    "collapsed": true
   },
   "outputs": [
    {
     "data": {
      "text/plain": [
       "[{'qas': [{'question': 'Kapankah pelaksanaan Tokyo Performing Arts Market yang sedianya akan dihadiri oleh Dwiki Dharmawan ?',\n",
       "    'answers': [{'text': '7-19 September', 'answer_start': 276}],\n",
       "    'id': 'valid-305'}],\n",
       "  'context': 'Pemusik Dwiki Dharmawan ( 39 ) , Rabu ( 7/9 ) , kehilangan tas yang berisi dokumen penting , termasuk paspor , tiket pesawat Jakarta-Tokyo , KTP , sampai telepon seluler . Padahal , malam harinya ia harus berangkat ke Jepang untuk menghadiri Tokyo Performing Arts Market pada 7-19 September .'},\n",
       " {'qas': [{'question': 'Siapa Wakil Presiden Indonesia ?',\n",
       "    'answers': [{'text': 'Jusuf Kalla', 'answer_start': 38}],\n",
       "    'id': 'valid-306'}],\n",
       "  'context': 'Ada imbauan dari Bapak Wakil Presiden Jusuf Kalla bahwa saat ini memang dibutuhkan keputusan yang cepat dan tepat dalam hal ekonomi . Kami sudah sering sekali berdialog dengan kalangan industri dan kami tahu kalau industri keberatan jika tarif listriknya dinaikkan . Namun , melihat jenis risiko yang dipilih pemerintah saat ini , saya kira akan lebih mengarah untuk menjaga stabilitas sosial dan politik . Tetapi ini bukan berarti mengorbankan industri , ujar Eddie .'},\n",
       " {'qas': [{'question': 'Apakah nama film yang masuk nominasi FFI 2005 , diproduksi oleh PT Sinemart Pictures dengan arahan Rudy Soedjarwo ?',\n",
       "    'answers': [{'text': 'Tentang Dia', 'answer_start': 233}],\n",
       "    'id': 'valid-307'}],\n",
       "  'context': 'Diurutkan sesuai dengan ranking , film-film tersebut adalah Ketika ( PT Demi Gisela Citra Sinema ) dengan sutradara Deddy Mizwar , Janji Joni ( PT Kalyana Shira Film ) sutradara Joko Anwar , Gie ( PT Miles Films ) arahan Riri Riza , Tentang Dia ( PT Sinemart Pictures ) arahan Rudy Soedjarwo , Brownies ( PT Sinemart Pictures ) karya Hanung Bramantyo , Virgin ( PT Kharisma Starvision ) karya Hanny R Saputra , dan Detik Terakhir ( PT Indika Cipta Media ) dengan sutradara Nanang Istiabudi .'},\n",
       " {'qas': [{'question': 'Berasal dari manakah , Jary Wayland , karyawan perusahaan minyak yang tertarik pada kursi stroke buatan Parung',\n",
       "    'answers': [{'text': 'AS', 'answer_start': 142}],\n",
       "    'id': 'valid-308'}],\n",
       "  'context': 'Jimmy Arnold ( 54 ) , pencipta Kursi Stroke ( Stroke Muscle Therapy ) , Rabu ( 24/8 ) siang , menyatakan , seorang karyawan perusahaan minyak AS di Jakarta yakni Jary Wayland ( 60 ) sangat tertarik akan kursi buatannya .'},\n",
       " {'qas': [{'question': 'Apakah nama tim yang diketuai oleh Hamid Awaluddin dalam penandatanganan MOU damai antara GAM dan Indonesia ?',\n",
       "    'answers': [{'text': 'Tim Perunding Indonesia', 'answer_start': 82}],\n",
       "    'id': 'valid-309'}],\n",
       "  'context': 'Penandatanganan MOU dilakukan Menteri Hukum dan Hak Asasi Manusia sekaligus Ketua Tim Perunding Indonesia Hamid Awaluddin dan Ketua Tim Perunding GAM Malik Mahmud di Smolna , The Government Banquet Hall , Etelaesplanadi 6 , Helsinki , Finlandia .'},\n",
       " {'qas': [{'question': 'Siapa pencipta komposisi \" Balinese Ceremonial Music \" pada tahun 1936 yang merupakan sebuah transkripsi untuk dua piano atas Pamungkah , Gambangan , dan Tabuh Telu ?',\n",
       "    'answers': [{'text': 'Collin McPhee', 'answer_start': 266}],\n",
       "    'id': 'valid-310'}],\n",
       "  'context': 'Dalam empat hari yang petangnya disediakan untuk keempat kelompok Indonesia , disisipkan acara Minggu siang oleh pemain-pemain Deutsches Symphonie Orchester Berlin . Mereka menggelar karya-karya yang bersumber dari gamelan : 1 . Balinese Ceremonial Music ( 1936 ) - Collin McPhee , sebuah transkripsi untuk dua piano atas Pamungkah , Gambangan , dan Tabuh Telu . 2 . Suite for Violin , Piano and Small Orchestra ( 1985 ) - Lou Harrison . 3 . Ji Lala Ji ( 1989 ) - Slamet A Sjukur , tanggapan atas lagu populer Jali-Jali . 4 . Taro ( 1987 ) - Dieter Mack , yang berangkat dari sebuah \" balungan \" yang kemudian diolah ke dalam jaringan ritme yang kontrapuntis .'},\n",
       " {'context': 'Ernest Douwes Dekker wafat dini hari tanggal 28 Agustus 1950 (tertulis di batu nisannya; 29 Agustus 1950 versi van der Veur, 2006) dan dimakamkan di TMP Cikutra, Bandung.',\n",
       "  'qas': [{'answers': [{'answer_start': 45, 'text': '28 Agustus 1950'}],\n",
       "    'id': 'indonesian-496955121539262633-33',\n",
       "    'question': 'dimanakah  Dr. Ernest François Eugène Douwes Dekker meninggal?'}]},\n",
       " {'context': 'Pada tanggal 18 Februari 2008, desain Yoo Kerl dari iArc terpilih dalam kompetisi desain Pemerintah Metropolitan Seoul.[6] Bagian atas depan bangunan baru ini dirancang untuk menonjol dalam bentuk lengkung. Perancang Yoo merangkul tiga kata kunci yakni \"tradisi, warga negara, dan masa depan\" dalam rancangannya, yang mencerminkan elemen horisontal dari arsitektur tradisional tingkat rendah Korea dan penafsiran ulang dari nuansa mendalam dan lekukan atap atap.[7]',\n",
       "  'qas': [{'answers': [{'answer_start': 38, 'text': 'Yoo Kerl'}],\n",
       "    'id': 'indonesian--6515196497017052077-5',\n",
       "    'question': 'Siapa arsitek Balai Kota Seoul?'}]},\n",
       " {'context': 'Sebagai tindak lanjut Atlantic Charter tersebut, pada tanggal 25 April 1945, Konferensi PBB tentang Organisasi Internasional diadakan di San Francisco, dengan dihadiri oleh 50 pemerintah negara, dan sejumlah organisasi non-pemerintah yang terlibat dalam penyusunan Piagam Perserikatan Bangsa-Bangsa (Declaration of the United Nations). PBB resmi dibentuk pada 24 Oktober 1945 atas ratifikasi Piagam oleh lima anggota tetap Dewan Keamanan -Perancis, Republik Tiongkok, Uni Soviet, Inggris dan Amerika Serikat- dan mayoritas dari 46 negara anggota lainnya.',\n",
       "  'qas': [{'answers': [{'answer_start': 360, 'text': '24 Oktober 1945'}],\n",
       "    'id': 'indonesian--6681782391154035358-9',\n",
       "    'question': 'Kapan PBB mulai terbentuk ?'}]},\n",
       " {'context': 'Dia dipenjarakan di Puri Dragsholm, 75 kilometer Kopenhagen. Dia ditahan dalam apa yang dikatakan sebagai kondisi yang mengerikan. Dia meninggal pada bulan April 1578.[8][10]',\n",
       "  'qas': [{'answers': [{'answer_start': 20, 'text': 'Puri Dragsholm'}],\n",
       "    'id': 'indonesian-113416625087693118-15',\n",
       "    'question': 'Dimana James Hepburn meninggal?'}]}]"
      ]
     },
     "execution_count": 85,
     "metadata": {},
     "output_type": "execute_result"
    }
   ],
   "source": [
    "data_all_qa[2800:2810]"
   ]
  },
  {
   "cell_type": "code",
   "execution_count": 95,
   "metadata": {},
   "outputs": [],
   "source": [
    "# Configure the model\n",
    "model_args = QuestionAnsweringArgs()\n",
    "model_args.num_train_epochs = 5\n",
    "model_args.train_batch_size = 64\n",
    "model_args.evaluate_during_training = True\n",
    "model_args.output_dir = '/output/indonlu/facqa/bert-base-indonesian-1.5G'\n",
    "model_args.best_model_dir = f'{model_args.output_dir}/best_model'\n",
    "model_args.overwrite_output_dir = True\n",
    "model_args.fp16 = False\n",
    "model_args.do_lower_case = True"
   ]
  },
  {
   "cell_type": "code",
   "execution_count": 96,
   "metadata": {},
   "outputs": [
    {
     "name": "stderr",
     "output_type": "stream",
     "text": [
      "Some weights of the model checkpoint at xlm-roberta-base were not used when initializing XLMRobertaForQuestionAnswering: ['lm_head.bias', 'lm_head.dense.weight', 'lm_head.dense.bias', 'lm_head.layer_norm.weight', 'lm_head.layer_norm.bias', 'lm_head.decoder.weight']\n",
      "- This IS expected if you are initializing XLMRobertaForQuestionAnswering from the checkpoint of a model trained on another task or with another architecture (e.g. initializing a BertForSequenceClassification model from a BertForPretraining model).\n",
      "- This IS NOT expected if you are initializing XLMRobertaForQuestionAnswering from the checkpoint of a model that you expect to be exactly identical (initializing a BertForSequenceClassification model from a BertForSequenceClassification model).\n",
      "Some weights of XLMRobertaForQuestionAnswering were not initialized from the model checkpoint at xlm-roberta-base and are newly initialized: ['qa_outputs.weight', 'qa_outputs.bias']\n",
      "You should probably TRAIN this model on a down-stream task to be able to use it for predictions and inference.\n"
     ]
    }
   ],
   "source": [
    "model = QuestionAnsweringModel(\n",
    "    #\"bert\", \"cahya/bert-base-indonesian-1.5G\", args=model_args\n",
    "    #\"roberta\", \"cahya/roberta-base-indonesian-522M\", args=model_args,\n",
    "    \"xlmroberta\", \"xlm-roberta-base\", args=model_args,\n",
    "    #\"bert\", \"/output/bert-id-100/bert-base-indonesian-522M-100e\", args=model_args\n",
    ")"
   ]
  },
  {
   "cell_type": "code",
   "execution_count": 97,
   "metadata": {},
   "outputs": [
    {
     "name": "stderr",
     "output_type": "stream",
     "text": [
      "INFO:simpletransformers.question_answering.question_answering_model: Converting to features started.\n",
      "convert squad examples to features:   0%|          | 0/8762 [00:00<?, ?it/s]/root/Work/transformers/src/transformers/tokenization_utils_base.py:1321: FutureWarning: The `max_len` attribute has been deprecated and will be removed in a future version, use `model_max_length` instead.\n",
      "  FutureWarning,\n",
      "/root/Work/transformers/src/transformers/tokenization_utils_base.py:1321: FutureWarning: The `max_len` attribute has been deprecated and will be removed in a future version, use `model_max_length` instead.\n",
      "  FutureWarning,\n",
      "/root/Work/transformers/src/transformers/tokenization_utils_base.py:1321: FutureWarning: The `max_len` attribute has been deprecated and will be removed in a future version, use `model_max_length` instead.\n",
      "  FutureWarning,\n",
      "/root/Work/transformers/src/transformers/tokenization_utils_base.py:1321: FutureWarning: The `max_len` attribute has been deprecated and will be removed in a future version, use `model_max_length` instead.\n",
      "  FutureWarning,\n",
      "/root/Work/transformers/src/transformers/tokenization_utils_base.py:1321: FutureWarning: The `max_len` attribute has been deprecated and will be removed in a future version, use `model_max_length` instead.\n",
      "  FutureWarning,\n",
      "/root/Work/transformers/src/transformers/tokenization_utils_base.py:1321: FutureWarning: The `max_len` attribute has been deprecated and will be removed in a future version, use `model_max_length` instead.\n",
      "  FutureWarning,\n",
      "/root/Work/transformers/src/transformers/tokenization_utils_base.py:1321: FutureWarning: The `max_len` attribute has been deprecated and will be removed in a future version, use `model_max_length` instead.\n",
      "  FutureWarning,\n",
      "/root/Work/transformers/src/transformers/tokenization_utils_base.py:1321: FutureWarning: The `max_len` attribute has been deprecated and will be removed in a future version, use `model_max_length` instead.\n",
      "  FutureWarning,\n",
      "/root/Work/transformers/src/transformers/tokenization_utils_base.py:1321: FutureWarning: The `max_len` attribute has been deprecated and will be removed in a future version, use `model_max_length` instead.\n",
      "  FutureWarning,\n",
      "/root/Work/transformers/src/transformers/tokenization_utils_base.py:1321: FutureWarning: The `max_len` attribute has been deprecated and will be removed in a future version, use `model_max_length` instead.\n",
      "  FutureWarning,\n",
      "/root/Work/transformers/src/transformers/tokenization_utils_base.py:1321: FutureWarning: The `max_len` attribute has been deprecated and will be removed in a future version, use `model_max_length` instead.\n",
      "  FutureWarning,\n",
      "/root/Work/transformers/src/transformers/tokenization_utils_base.py:1321: FutureWarning: The `max_len` attribute has been deprecated and will be removed in a future version, use `model_max_length` instead.\n",
      "  FutureWarning,\n",
      "/root/Work/transformers/src/transformers/tokenization_utils_base.py:1321: FutureWarning: The `max_len` attribute has been deprecated and will be removed in a future version, use `model_max_length` instead.\n",
      "  FutureWarning,\n",
      "/root/Work/transformers/src/transformers/tokenization_utils_base.py:1321: FutureWarning: The `max_len` attribute has been deprecated and will be removed in a future version, use `model_max_length` instead.\n",
      "  FutureWarning,\n",
      "/root/Work/transformers/src/transformers/tokenization_utils_base.py:1321: FutureWarning: The `max_len` attribute has been deprecated and will be removed in a future version, use `model_max_length` instead.\n",
      "  FutureWarning,\n",
      "/root/Work/transformers/src/transformers/tokenization_utils_base.py:1321: FutureWarning: The `max_len` attribute has been deprecated and will be removed in a future version, use `model_max_length` instead.\n",
      "  FutureWarning,\n",
      "/root/Work/transformers/src/transformers/tokenization_utils_base.py:1321: FutureWarning: The `max_len` attribute has been deprecated and will be removed in a future version, use `model_max_length` instead.\n",
      "  FutureWarning,\n",
      "/root/Work/transformers/src/transformers/tokenization_utils_base.py:1321: FutureWarning: The `max_len` attribute has been deprecated and will be removed in a future version, use `model_max_length` instead.\n",
      "  FutureWarning,\n",
      "Could not find answer: 'tahun 936 sampai kematiannya pada sekitar tahun 958.[3]' vs. '936 sampai kematiannya pada sekitar tahun 958'\n",
      "convert squad examples to features: 100%|██████████| 8762/8762 [00:03<00:00, 2519.50it/s]\n",
      "add example index and unique id: 100%|██████████| 8762/8762 [00:00<00:00, 402731.87it/s]\n"
     ]
    },
    {
     "data": {
      "application/vnd.jupyter.widget-view+json": {
       "model_id": "08c8b84a20f942809de804c6d5c7b18a",
       "version_major": 2,
       "version_minor": 0
      },
      "text/plain": [
       "HBox(children=(FloatProgress(value=0.0, description='Epoch', max=5.0, style=ProgressStyle(description_width='i…"
      ]
     },
     "metadata": {},
     "output_type": "display_data"
    },
    {
     "data": {
      "application/vnd.jupyter.widget-view+json": {
       "model_id": "6f50f79308434a90a889163283a432da",
       "version_major": 2,
       "version_minor": 0
      },
      "text/plain": [
       "HBox(children=(FloatProgress(value=0.0, description='Running Epoch 0 of 5', max=139.0, style=ProgressStyle(des…"
      ]
     },
     "metadata": {},
     "output_type": "display_data"
    },
    {
     "name": "stdout",
     "output_type": "stream",
     "text": [
      "\n"
     ]
    },
    {
     "name": "stderr",
     "output_type": "stream",
     "text": [
      "INFO:simpletransformers.question_answering.question_answering_model: Converting to features started.\n",
      "\n",
      "convert squad examples to features:   0%|          | 0/311 [00:00<?, ?it/s]\u001b[A/root/Work/transformers/src/transformers/tokenization_utils_base.py:1321: FutureWarning: The `max_len` attribute has been deprecated and will be removed in a future version, use `model_max_length` instead.\n",
      "  FutureWarning,\n",
      "\n",
      "convert squad examples to features: 100%|██████████| 311/311 [00:01<00:00, 306.31it/s]\n",
      "\n",
      "add example index and unique id: 100%|██████████| 311/311 [00:00<00:00, 444590.51it/s]\n"
     ]
    },
    {
     "data": {
      "application/vnd.jupyter.widget-view+json": {
       "model_id": "d277ddcbe8054cffa705ed9f1c46ea98",
       "version_major": 2,
       "version_minor": 0
      },
      "text/plain": [
       "HBox(children=(FloatProgress(value=0.0, description='Running Evaluation', max=39.0, style=ProgressStyle(descri…"
      ]
     },
     "metadata": {},
     "output_type": "display_data"
    },
    {
     "name": "stdout",
     "output_type": "stream",
     "text": [
      "\n"
     ]
    },
    {
     "data": {
      "application/vnd.jupyter.widget-view+json": {
       "model_id": "03ab1727fe2c44e18f42e709abac91aa",
       "version_major": 2,
       "version_minor": 0
      },
      "text/plain": [
       "HBox(children=(FloatProgress(value=0.0, description='Running Epoch 1 of 5', max=139.0, style=ProgressStyle(des…"
      ]
     },
     "metadata": {},
     "output_type": "display_data"
    },
    {
     "name": "stdout",
     "output_type": "stream",
     "text": [
      "\n"
     ]
    },
    {
     "name": "stderr",
     "output_type": "stream",
     "text": [
      "INFO:simpletransformers.question_answering.question_answering_model: Converting to features started.\n",
      "\n",
      "convert squad examples to features:   0%|          | 0/311 [00:00<?, ?it/s]\u001b[A/root/Work/transformers/src/transformers/tokenization_utils_base.py:1321: FutureWarning: The `max_len` attribute has been deprecated and will be removed in a future version, use `model_max_length` instead.\n",
      "  FutureWarning,\n",
      "\n",
      "convert squad examples to features: 100%|██████████| 311/311 [00:01<00:00, 300.10it/s]\n",
      "\n",
      "add example index and unique id: 100%|██████████| 311/311 [00:00<00:00, 524920.94it/s]\n"
     ]
    },
    {
     "data": {
      "application/vnd.jupyter.widget-view+json": {
       "model_id": "140ded7a8b0e464fa935f612731af59e",
       "version_major": 2,
       "version_minor": 0
      },
      "text/plain": [
       "HBox(children=(FloatProgress(value=0.0, description='Running Evaluation', max=39.0, style=ProgressStyle(descri…"
      ]
     },
     "metadata": {},
     "output_type": "display_data"
    },
    {
     "name": "stdout",
     "output_type": "stream",
     "text": [
      "\n"
     ]
    },
    {
     "data": {
      "application/vnd.jupyter.widget-view+json": {
       "model_id": "e6793e4cd19a447086bc1ab662385b96",
       "version_major": 2,
       "version_minor": 0
      },
      "text/plain": [
       "HBox(children=(FloatProgress(value=0.0, description='Running Epoch 2 of 5', max=139.0, style=ProgressStyle(des…"
      ]
     },
     "metadata": {},
     "output_type": "display_data"
    },
    {
     "name": "stdout",
     "output_type": "stream",
     "text": [
      "\n"
     ]
    },
    {
     "name": "stderr",
     "output_type": "stream",
     "text": [
      "INFO:simpletransformers.question_answering.question_answering_model: Converting to features started.\n",
      "\n",
      "convert squad examples to features:   0%|          | 0/311 [00:00<?, ?it/s]\u001b[A/root/Work/transformers/src/transformers/tokenization_utils_base.py:1321: FutureWarning: The `max_len` attribute has been deprecated and will be removed in a future version, use `model_max_length` instead.\n",
      "  FutureWarning,\n",
      "\n",
      "convert squad examples to features: 100%|██████████| 311/311 [00:01<00:00, 301.40it/s]\n",
      "\n",
      "add example index and unique id: 100%|██████████| 311/311 [00:00<00:00, 406237.48it/s]\n"
     ]
    },
    {
     "data": {
      "application/vnd.jupyter.widget-view+json": {
       "model_id": "a13a5e6a885b48e29c7f8038a9b6901a",
       "version_major": 2,
       "version_minor": 0
      },
      "text/plain": [
       "HBox(children=(FloatProgress(value=0.0, description='Running Evaluation', max=39.0, style=ProgressStyle(descri…"
      ]
     },
     "metadata": {},
     "output_type": "display_data"
    },
    {
     "name": "stdout",
     "output_type": "stream",
     "text": [
      "\n"
     ]
    },
    {
     "data": {
      "application/vnd.jupyter.widget-view+json": {
       "model_id": "1266388a43b543adbf9092c7b8721087",
       "version_major": 2,
       "version_minor": 0
      },
      "text/plain": [
       "HBox(children=(FloatProgress(value=0.0, description='Running Epoch 3 of 5', max=139.0, style=ProgressStyle(des…"
      ]
     },
     "metadata": {},
     "output_type": "display_data"
    },
    {
     "name": "stdout",
     "output_type": "stream",
     "text": [
      "\n"
     ]
    },
    {
     "name": "stderr",
     "output_type": "stream",
     "text": [
      "INFO:simpletransformers.question_answering.question_answering_model: Converting to features started.\n",
      "\n",
      "convert squad examples to features:   0%|          | 0/311 [00:00<?, ?it/s]\u001b[A/root/Work/transformers/src/transformers/tokenization_utils_base.py:1321: FutureWarning: The `max_len` attribute has been deprecated and will be removed in a future version, use `model_max_length` instead.\n",
      "  FutureWarning,\n",
      "\n",
      "convert squad examples to features: 100%|██████████| 311/311 [00:01<00:00, 280.85it/s]\n",
      "\n",
      "add example index and unique id: 100%|██████████| 311/311 [00:00<00:00, 509542.40it/s]\n"
     ]
    },
    {
     "data": {
      "application/vnd.jupyter.widget-view+json": {
       "model_id": "a7e31769f2764203a54506414fffe38b",
       "version_major": 2,
       "version_minor": 0
      },
      "text/plain": [
       "HBox(children=(FloatProgress(value=0.0, description='Running Evaluation', max=39.0, style=ProgressStyle(descri…"
      ]
     },
     "metadata": {},
     "output_type": "display_data"
    },
    {
     "name": "stdout",
     "output_type": "stream",
     "text": [
      "\n"
     ]
    },
    {
     "data": {
      "application/vnd.jupyter.widget-view+json": {
       "model_id": "12ea4151fc6b4efe99c665b044aa4e09",
       "version_major": 2,
       "version_minor": 0
      },
      "text/plain": [
       "HBox(children=(FloatProgress(value=0.0, description='Running Epoch 4 of 5', max=139.0, style=ProgressStyle(des…"
      ]
     },
     "metadata": {},
     "output_type": "display_data"
    },
    {
     "name": "stdout",
     "output_type": "stream",
     "text": [
      "\n"
     ]
    },
    {
     "name": "stderr",
     "output_type": "stream",
     "text": [
      "INFO:simpletransformers.question_answering.question_answering_model: Converting to features started.\n",
      "\n",
      "convert squad examples to features:   0%|          | 0/311 [00:00<?, ?it/s]\u001b[A/root/Work/transformers/src/transformers/tokenization_utils_base.py:1321: FutureWarning: The `max_len` attribute has been deprecated and will be removed in a future version, use `model_max_length` instead.\n",
      "  FutureWarning,\n",
      "\n",
      "convert squad examples to features: 100%|██████████| 311/311 [00:01<00:00, 307.53it/s]\n",
      "\n",
      "add example index and unique id: 100%|██████████| 311/311 [00:00<00:00, 442329.11it/s]\n"
     ]
    },
    {
     "data": {
      "application/vnd.jupyter.widget-view+json": {
       "model_id": "767bcda90a104402a8f06115d6592e1f",
       "version_major": 2,
       "version_minor": 0
      },
      "text/plain": [
       "HBox(children=(FloatProgress(value=0.0, description='Running Evaluation', max=39.0, style=ProgressStyle(descri…"
      ]
     },
     "metadata": {},
     "output_type": "display_data"
    },
    {
     "name": "stdout",
     "output_type": "stream",
     "text": [
      "\n",
      "\n"
     ]
    },
    {
     "name": "stderr",
     "output_type": "stream",
     "text": [
      "INFO:simpletransformers.question_answering.question_answering_model: Training of xlmroberta model complete. Saved to /output/indonlu/facqa/bert-base-indonesian-1.5G.\n"
     ]
    }
   ],
   "source": [
    "# Train the model\n",
    "model.train_model(data_all_qa, eval_data=data_valid_qa)"
   ]
  },
  {
   "cell_type": "code",
   "execution_count": 98,
   "metadata": {},
   "outputs": [
    {
     "name": "stderr",
     "output_type": "stream",
     "text": [
      "INFO:simpletransformers.question_answering.question_answering_model: Converting to features started.\n",
      "convert squad examples to features:   0%|          | 0/311 [00:00<?, ?it/s]/root/Work/transformers/src/transformers/tokenization_utils_base.py:1321: FutureWarning: The `max_len` attribute has been deprecated and will be removed in a future version, use `model_max_length` instead.\n",
      "  FutureWarning,\n",
      "convert squad examples to features: 100%|██████████| 311/311 [00:01<00:00, 295.61it/s]\n",
      "add example index and unique id: 100%|██████████| 311/311 [00:00<00:00, 388569.72it/s]\n"
     ]
    },
    {
     "data": {
      "application/vnd.jupyter.widget-view+json": {
       "model_id": "d1ca8ec6840440d3be102bf8ea2b5f75",
       "version_major": 2,
       "version_minor": 0
      },
      "text/plain": [
       "HBox(children=(FloatProgress(value=0.0, description='Running Evaluation', max=39.0, style=ProgressStyle(descri…"
      ]
     },
     "metadata": {},
     "output_type": "display_data"
    },
    {
     "name": "stdout",
     "output_type": "stream",
     "text": [
      "\n"
     ]
    }
   ],
   "source": [
    "# Evaluate the model\n",
    "result, texts = model.eval_model(data_valid_qa)"
   ]
  },
  {
   "cell_type": "code",
   "execution_count": 99,
   "metadata": {},
   "outputs": [
    {
     "data": {
      "text/plain": [
       "{'correct': 209,\n",
       " 'similar': 79,\n",
       " 'incorrect': 23,\n",
       " 'eval_loss': -7.259224671583909}"
      ]
     },
     "execution_count": 99,
     "metadata": {},
     "output_type": "execute_result"
    }
   ],
   "source": [
    "result"
   ]
  },
  {
   "cell_type": "code",
   "execution_count": 100,
   "metadata": {},
   "outputs": [
    {
     "name": "stderr",
     "output_type": "stream",
     "text": [
      "INFO:simpletransformers.question_answering.question_answering_model: Converting to features started.\n",
      "convert squad examples to features:   0%|          | 0/311 [00:00<?, ?it/s]/root/Work/transformers/src/transformers/tokenization_utils_base.py:1321: FutureWarning: The `max_len` attribute has been deprecated and will be removed in a future version, use `model_max_length` instead.\n",
      "  FutureWarning,\n",
      "convert squad examples to features: 100%|██████████| 311/311 [00:00<00:00, 312.22it/s]\n",
      "add example index and unique id: 100%|██████████| 311/311 [00:00<00:00, 421872.10it/s]\n"
     ]
    },
    {
     "data": {
      "application/vnd.jupyter.widget-view+json": {
       "model_id": "93fbab592ce64e17a8f073466a6c0172",
       "version_major": 2,
       "version_minor": 0
      },
      "text/plain": [
       "HBox(children=(FloatProgress(value=0.0, description='Running Evaluation', max=39.0, style=ProgressStyle(descri…"
      ]
     },
     "metadata": {},
     "output_type": "display_data"
    },
    {
     "name": "stdout",
     "output_type": "stream",
     "text": [
      "\n"
     ]
    }
   ],
   "source": [
    "# Evaluate the model\n",
    "result, texts = model.eval_model(data_test_qa)"
   ]
  },
  {
   "cell_type": "code",
   "execution_count": 101,
   "metadata": {},
   "outputs": [],
   "source": [
    "save_result(f'{model_args.output_dir}/result_fq_t_tq_tv.csv', data_test_qa, texts)"
   ]
  },
  {
   "cell_type": "code",
   "execution_count": null,
   "metadata": {},
   "outputs": [],
   "source": []
  },
  {
   "cell_type": "code",
   "execution_count": null,
   "metadata": {},
   "outputs": [],
   "source": []
  },
  {
   "cell_type": "code",
   "execution_count": 69,
   "metadata": {},
   "outputs": [],
   "source": [
    "# Make predictions with the model\n",
    "to_predict = [\n",
    "    {\n",
    "        \"context\": \"Presiden Suharto adalah Presiden kedua Indonesia. Presiden Suharto wafat dini hari tanggal 1 Agustus 1999 (tertulis di batu nisannya; 2 Agustus 1999 versi van der Veur, 2006) dan dimakamkan di Taman Kopo, Cirebon. \",\n",
    "        \"qas\": [\n",
    "            {\n",
    "                \"question\": \"Kapan Presiden Suharto meninggal dunia?\",\n",
    "                \"id\": \"0\",\n",
    "            },\n",
    "            {\n",
    "                \"question\": \"dimana Presiden Suharto dikuburkan?\",\n",
    "                \"id\": \"1\",\n",
    "            },\n",
    "            {\n",
    "                \"question\": \"Siapa Presiden Suharto?\",\n",
    "                \"id\": \"2\",\n",
    "            }\n",
    "        ],\n",
    "    }\n",
    "]\n",
    "to_predict2 = [\n",
    "    {\n",
    "        \"context\": \"Mikrohidro atau yang dimaksud dengan Pembangkit Listrik Tenaga Mikrohidro (PLTMH), adalah suatu pembangkit listrik skala kecil yang menggunakan tenaga air sebagai tenaga penggeraknya seperti, saluran irigasi, sungai atau air terjun alam dengan cara memanfaatkan tinggi terjunan dan jumlah debit air. Mikrohidro merupakan sebuah istilah yang terdiri dari kata mikro yang berarti kecil dan hidro yang berarti air. Secara teknis, mikrohidro memiliki tiga komponen utama yaitu air, turbin dan generator. Mikrohidro mendapatkan energi dari aliran air yang memiliki perbedaan ketinggian tertentu.\",\n",
    "        \"qas\": [\n",
    "            {\n",
    "                \"question\": \"Apa Mikrohidro itu?\",\n",
    "                \"id\": \"0\",\n",
    "            },\n",
    "            {\n",
    "                \"question\": \"apa komponen mikrohidro?\",\n",
    "                \"id\": \"1\",\n",
    "            },\n",
    "            {\n",
    "                \"question\": \"dimana Mikrohidro mendapatkan energi?\",\n",
    "                \"id\": \"2\",\n",
    "            }\n",
    "        ],\n",
    "    }\n",
    "]\n",
    "\n"
   ]
  },
  {
   "cell_type": "code",
   "execution_count": 70,
   "metadata": {},
   "outputs": [
    {
     "name": "stderr",
     "output_type": "stream",
     "text": [
      "INFO:simpletransformers.question_answering.question_answering_model: Converting to features started.\n",
      "convert squad examples to features:   0%|          | 0/3 [00:00<?, ?it/s]/root/Work/transformers/src/transformers/tokenization_utils_base.py:1321: FutureWarning: The `max_len` attribute has been deprecated and will be removed in a future version, use `model_max_length` instead.\n",
      "  FutureWarning,\n",
      "convert squad examples to features: 100%|██████████| 3/3 [00:00<00:00, 109.30it/s]\n",
      "add example index and unique id: 100%|██████████| 3/3 [00:00<00:00, 8659.95it/s]\n"
     ]
    },
    {
     "data": {
      "application/vnd.jupyter.widget-view+json": {
       "model_id": "31bc319c1ae74b4ea6c5e617cdd558b3",
       "version_major": 2,
       "version_minor": 0
      },
      "text/plain": [
       "HBox(children=(FloatProgress(value=0.0, description='Running Prediction', max=1.0, style=ProgressStyle(descrip…"
      ]
     },
     "metadata": {},
     "output_type": "display_data"
    },
    {
     "name": "stdout",
     "output_type": "stream",
     "text": [
      "\n"
     ]
    }
   ],
   "source": [
    "answers, probabilities = model.predict(to_predict2)"
   ]
  },
  {
   "cell_type": "code",
   "execution_count": 71,
   "metadata": {},
   "outputs": [
    {
     "name": "stdout",
     "output_type": "stream",
     "text": [
      "['Pembangkit Listrik Tenaga Mikrohidro (PLTMH),', '(PLTMH),', 'hidro'] [{'id': '0', 'probability': [0.2851562179649796, 0.13139844865615938, 0.12066437720254321, 0.09407750028542083, 0.07168729305250356, 0.05122965426303453, 0.043350405189031646, 0.03303311834713446, 0.03260847048438781, 0.024031920145636296, 0.02276322651833435, 0.017747636037444885, 0.015025807486424618, 0.01189447720086393, 0.00927367884542169, 0.008178015051808561, 0.007928506663803379, 0.007475387107253625, 0.00643294783120816, 0.006041542121680722]}, {'id': '1', 'probability': [0.1617394043446816, 0.14344205655627984, 0.1288480887330671, 0.11938283732596382, 0.05087100957056073, 0.04339116776701392, 0.038482386936549276, 0.03202782119732323, 0.03191271497483673, 0.031751331677356935, 0.02830247511317419, 0.028159348877621834, 0.026375957127316482, 0.02542294716275831, 0.023555363492941284, 0.02343624350466002, 0.01737081624989311, 0.01710313159388067, 0.01506448410123257, 0.013360260532647598]}, {'id': '2', 'probability': [0.41604552856090093, 0.1183105796206588, 0.09946530052040768, 0.0895517947721752, 0.07959469782307838, 0.04430562926392959, 0.03545914199029208, 0.02263428924894969, 0.017132375076979674, 0.013798960877765288, 0.012120611241806108, 0.011411241379302488, 0.010736579370868858, 0.006783776048610482, 0.005103413084209506, 0.004241531416902296, 0.0036654048164502643, 0.0033298639151138542, 0.0032178854471202507, 0.0030912435409061524]}]\n"
     ]
    }
   ],
   "source": [
    "print(answers[:][0]['answer'][:3], probabilities)"
   ]
  },
  {
   "cell_type": "code",
   "execution_count": 38,
   "metadata": {},
   "outputs": [
    {
     "data": {
      "text/plain": [
       "[{'id': '0',\n",
       "  'answer': ['pembangkit listrik skala kecil yang menggunakan tenaga air sebagai tenaga penggeraknya seperti, saluran irigasi, sungai atau air terjun alam dengan cara memanfaatkan tinggi terjunan dan jumlah debit air',\n",
       "   'suatu pembangkit listrik skala kecil yang menggunakan tenaga air sebagai tenaga penggeraknya seperti, saluran irigasi, sungai atau air terjun alam dengan cara memanfaatkan tinggi terjunan dan jumlah debit air',\n",
       "   'pembangkit listrik skala kecil yang menggunakan tenaga air sebagai tenaga penggeraknya seperti, saluran irigasi',\n",
       "   'pembangkit listrik skala kecil yang menggunakan tenaga air sebagai tenaga penggeraknya seperti, saluran irigasi, sungai atau air terjun alam dengan cara memanfaatkan tinggi terjunan dan jumlah debit air. Mikrohidro merupakan sebuah istilah yang terdiri dari kata mikro yang berarti kecil dan hidro yang berarti air.',\n",
       "   'skala kecil yang menggunakan tenaga air sebagai tenaga penggeraknya seperti, saluran irigasi, sungai atau air terjun alam dengan cara memanfaatkan tinggi terjunan dan jumlah debit air',\n",
       "   'tenaga penggeraknya seperti, saluran irigasi, sungai atau air terjun alam dengan cara memanfaatkan tinggi terjunan dan jumlah debit air',\n",
       "   'suatu pembangkit listrik skala kecil yang menggunakan tenaga air sebagai tenaga penggeraknya seperti, saluran irigasi',\n",
       "   'pembangkit listrik skala kecil yang menggunakan tenaga air sebagai tenaga penggeraknya seperti, saluran irigasi, sungai atau air terjun alam dengan cara memanfaatkan tinggi terjunan dan jumlah debit air. Mikrohidro merupakan sebuah istilah yang terdiri dari kata mikro yang berarti kecil dan hidro yang berarti air. Secara teknis, mikrohidro memiliki tiga komponen utama yaitu air (sebagai sumber energi), turbin dan generator.',\n",
       "   'pembangkit listrik skala kecil yang menggunakan tenaga air sebagai tenaga penggeraknya',\n",
       "   'pembangkit listrik skala kecil yang menggunakan tenaga air sebagai tenaga penggeraknya seperti, saluran irigasi, sungai atau air terjun alam dengan cara memanfaatkan tinggi terjunan dan jumlah debit air. Mikrohidro merupakan sebuah istilah yang terdiri dari kata mikro yang berarti kecil dan hidro yang berarti air. Secara teknis,',\n",
       "   'pembangkit listrik',\n",
       "   'pembangkit listrik skala kecil yang menggunakan tenaga air',\n",
       "   'pembangkit listrik skala kecil yang menggunakan tenaga air sebagai tenaga penggeraknya seperti, saluran irigasi, sungai atau air terjun alam dengan cara memanfaatkan tinggi terjunan dan jumlah debit air. Mikrohidro merupakan sebuah istilah yang terdiri dari kata mikro yang berarti kecil dan hidro yang berarti air. Secara teknis, mikrohidro memiliki tiga komponen utama yaitu air (sebagai sumber energi), turbin dan generator. Mikrohidro mendapatkan energi dari aliran air yang memiliki perbedaan ketinggian tertentu.',\n",
       "   'Pembangkit Listrik Tenaga Mikrohidro (PLTMH), adalah suatu pembangkit listrik skala kecil yang menggunakan tenaga air sebagai tenaga penggeraknya seperti, saluran irigasi, sungai atau air terjun alam dengan cara memanfaatkan tinggi terjunan dan jumlah debit air.',\n",
       "   'tenaga air sebagai tenaga penggeraknya seperti, saluran irigasi, sungai atau air terjun alam dengan cara memanfaatkan tinggi terjunan dan jumlah debit air',\n",
       "   'pembangkit',\n",
       "   'adalah suatu pembangkit listrik skala kecil yang menggunakan tenaga air sebagai tenaga penggeraknya seperti, saluran irigasi, sungai atau air terjun alam dengan cara memanfaatkan tinggi terjunan dan jumlah debit air',\n",
       "   'pembangkit listrik skala kecil yang menggunakan tenaga air sebagai tenaga penggeraknya seperti, saluran irigasi, sungai atau air terjun alam',\n",
       "   'pembangkit listrik skala kecil yang menggunakan tenaga air sebagai tenaga penggeraknya seperti, saluran irigasi, sungai',\n",
       "   'suatu pembangkit listrik skala kecil yang menggunakan tenaga air sebagai tenaga penggeraknya seperti, saluran irigasi, sungai atau air terjun alam dengan cara memanfaatkan tinggi terjunan dan jumlah debit air. Mikrohidro merupakan sebuah istilah yang terdiri dari kata mikro yang berarti kecil dan hidro yang berarti air.']},\n",
       " {'id': '1',\n",
       "  'answer': ['air',\n",
       "   'tiga komponen utama yaitu air',\n",
       "   'air (sebagai sumber energi), turbin dan generator',\n",
       "   'memiliki tiga komponen utama yaitu air',\n",
       "   'tenaga air sebagai tenaga penggeraknya seperti, saluran irigasi, sungai atau air terjun alam dengan cara memanfaatkan tinggi terjunan dan jumlah debit air. Mikrohidro merupakan sebuah istilah yang terdiri dari kata mikro yang berarti kecil dan hidro yang berarti air. Secara teknis, mikrohidro memiliki tiga komponen utama yaitu air',\n",
       "   'tiga komponen utama',\n",
       "   'memiliki tiga komponen utama',\n",
       "   'tenaga air sebagai tenaga penggeraknya seperti, saluran irigasi, sungai atau air terjun alam dengan cara memanfaatkan tinggi terjunan dan jumlah debit air. Mikrohidro merupakan sebuah istilah yang terdiri dari kata mikro yang berarti kecil dan hidro yang berarti air. Secara teknis, mikrohidro memiliki tiga komponen utama',\n",
       "   'pembangkit listrik skala kecil yang menggunakan tenaga air sebagai tenaga penggeraknya seperti, saluran irigasi, sungai atau air terjun alam dengan cara memanfaatkan tinggi terjunan dan jumlah debit air. Mikrohidro merupakan sebuah istilah yang terdiri dari kata mikro yang berarti kecil dan hidro yang berarti air. Secara teknis, mikrohidro memiliki tiga komponen utama yaitu air',\n",
       "   'tenaga penggeraknya seperti, saluran irigasi, sungai atau air terjun alam dengan cara memanfaatkan tinggi terjunan dan jumlah debit air. Mikrohidro merupakan sebuah istilah yang terdiri dari kata mikro yang berarti kecil dan hidro yang berarti air. Secara teknis, mikrohidro memiliki tiga komponen utama yaitu air',\n",
       "   'utama yaitu air',\n",
       "   'menggunakan tenaga air sebagai tenaga penggeraknya seperti, saluran irigasi, sungai atau air terjun alam dengan cara memanfaatkan tinggi terjunan dan jumlah debit air. Mikrohidro merupakan sebuah istilah yang terdiri dari kata mikro yang berarti kecil dan hidro yang berarti air. Secara teknis, mikrohidro memiliki tiga komponen utama yaitu air',\n",
       "   'pembangkit listrik skala kecil yang menggunakan tenaga air sebagai tenaga penggeraknya seperti, saluran irigasi, sungai atau air terjun alam dengan cara memanfaatkan tinggi terjunan dan jumlah debit air. Mikrohidro merupakan sebuah istilah yang terdiri dari kata mikro yang berarti kecil dan hidro yang berarti air. Secara teknis, mikrohidro memiliki tiga komponen utama',\n",
       "   'tiga komponen utama yaitu air (sebagai sumber energi), turbin dan generator',\n",
       "   'tenaga penggeraknya seperti, saluran irigasi, sungai atau air terjun alam dengan cara memanfaatkan tinggi terjunan dan jumlah debit air. Mikrohidro merupakan sebuah istilah yang terdiri dari kata mikro yang berarti kecil dan hidro yang berarti air. Secara teknis, mikrohidro memiliki tiga komponen utama',\n",
       "   'Secara teknis, mikrohidro memiliki tiga komponen utama yaitu air',\n",
       "   'memiliki tiga komponen utama yaitu air (sebagai sumber energi), turbin dan generator',\n",
       "   'tenaga air sebagai tenaga penggeraknya seperti, saluran irigasi, sungai atau air terjun alam dengan cara memanfaatkan tinggi terjunan dan jumlah debit air. Mikrohidro merupakan sebuah istilah yang terdiri dari kata mikro yang berarti kecil dan hidro yang berarti air. Secara teknis, mikrohidro memiliki tiga komponen utama yaitu air (sebagai sumber energi), turbin dan generator.',\n",
       "   'Listrik Tenaga Mikrohidro (PLTMH), adalah suatu pembangkit listrik skala kecil yang menggunakan tenaga air sebagai tenaga penggeraknya seperti, saluran irigasi, sungai atau air terjun alam dengan cara memanfaatkan tinggi terjunan dan jumlah debit air. Mikrohidro merupakan sebuah istilah yang terdiri dari kata mikro yang berarti kecil dan hidro yang berarti air. Secara teknis, mikrohidro memiliki tiga komponen utama yaitu air',\n",
       "   'Pembangkit Listrik Tenaga Mikrohidro (PLTMH), adalah suatu pembangkit listrik skala kecil yang menggunakan tenaga air sebagai tenaga penggeraknya seperti, saluran irigasi, sungai atau air terjun alam dengan cara memanfaatkan tinggi terjunan dan jumlah debit air. Mikrohidro merupakan sebuah istilah yang terdiri dari kata mikro yang berarti kecil dan hidro yang berarti air. Secara teknis, mikrohidro memiliki tiga komponen utama yaitu air']},\n",
       " {'id': '2',\n",
       "  'answer': ['tenaga air sebagai tenaga penggeraknya seperti, saluran irigasi, sungai atau air terjun alam dengan cara memanfaatkan tinggi terjunan dan jumlah debit air',\n",
       "   'tenaga penggeraknya seperti, saluran irigasi, sungai atau air terjun alam dengan cara memanfaatkan tinggi terjunan dan jumlah debit air',\n",
       "   'tenaga air',\n",
       "   'Pembangkit Listrik Tenaga Mikrohidro (PLTMH), adalah suatu pembangkit listrik skala kecil yang menggunakan tenaga air sebagai tenaga penggeraknya seperti, saluran irigasi, sungai atau air terjun alam dengan cara memanfaatkan tinggi terjunan dan jumlah debit air.',\n",
       "   'pembangkit listrik skala kecil yang menggunakan tenaga air sebagai tenaga penggeraknya seperti, saluran irigasi, sungai atau air terjun alam dengan cara memanfaatkan tinggi terjunan dan jumlah debit air',\n",
       "   'Listrik Tenaga Mikrohidro (PLTMH), adalah suatu pembangkit listrik skala kecil yang menggunakan tenaga air sebagai tenaga penggeraknya seperti, saluran irigasi, sungai atau air terjun alam dengan cara memanfaatkan tinggi terjunan dan jumlah debit air.',\n",
       "   'menggunakan tenaga air sebagai tenaga penggeraknya seperti, saluran irigasi, sungai atau air terjun alam dengan cara memanfaatkan tinggi terjunan dan jumlah debit air',\n",
       "   'tenaga air sebagai tenaga penggeraknya seperti, saluran irigasi',\n",
       "   'tenaga air sebagai tenaga penggeraknya seperti, saluran irigasi, sungai atau air terjun alam dengan cara memanfaatkan tinggi terjunan dan jumlah debit air. Mikrohidro merupakan sebuah istilah yang terdiri dari kata mikro yang berarti kecil dan hidro yang berarti air. Secara teknis, mikrohidro memiliki tiga komponen utama yaitu air',\n",
       "   'tenaga air sebagai tenaga penggeraknya seperti, saluran irigasi, sungai atau air terjun alam dengan cara memanfaatkan tinggi terjunan dan jumlah debit air. Mikrohidro merupakan sebuah istilah yang terdiri dari kata mikro yang berarti kecil dan hidro yang berarti air. Secara teknis, mikrohidro memiliki tiga komponen utama yaitu air (sebagai sumber energi), turbin dan generator.',\n",
       "   'memanfaatkan tinggi terjunan dan jumlah debit air',\n",
       "   'Pembangkit Listrik Tenaga Mikrohidro (PLTMH), adalah suatu pembangkit listrik skala kecil yang menggunakan tenaga air',\n",
       "   'pembangkit listrik skala kecil yang menggunakan tenaga air',\n",
       "   'tenaga penggeraknya seperti, saluran irigasi',\n",
       "   'skala kecil yang menggunakan tenaga air sebagai tenaga penggeraknya seperti, saluran irigasi, sungai atau air terjun alam dengan cara memanfaatkan tinggi terjunan dan jumlah debit air',\n",
       "   'tenaga penggeraknya seperti, saluran irigasi, sungai atau air terjun alam dengan cara memanfaatkan tinggi terjunan dan jumlah debit air. Mikrohidro merupakan sebuah istilah yang terdiri dari kata mikro yang berarti kecil dan hidro yang berarti air. Secara teknis, mikrohidro memiliki tiga komponen utama yaitu air',\n",
       "   'suatu pembangkit listrik skala kecil yang menggunakan tenaga air sebagai tenaga penggeraknya seperti, saluran irigasi, sungai atau air terjun alam dengan cara memanfaatkan tinggi terjunan dan jumlah debit air',\n",
       "   'Listrik Tenaga Mikrohidro (PLTMH), adalah suatu pembangkit listrik skala kecil yang menggunakan tenaga air',\n",
       "   'tenaga penggeraknya seperti, saluran irigasi, sungai atau air terjun alam dengan cara memanfaatkan tinggi terjunan dan jumlah debit air. Mikrohidro merupakan sebuah istilah yang terdiri dari kata mikro yang berarti kecil dan hidro yang berarti air. Secara teknis, mikrohidro memiliki tiga komponen utama yaitu air (sebagai sumber energi), turbin dan generator.',\n",
       "   'Tenaga Mikrohidro (PLTMH), adalah suatu pembangkit listrik skala kecil yang menggunakan tenaga air sebagai tenaga penggeraknya seperti, saluran irigasi, sungai atau air terjun alam dengan cara memanfaatkan tinggi terjunan dan jumlah debit air.']}]"
      ]
     },
     "execution_count": 38,
     "metadata": {},
     "output_type": "execute_result"
    }
   ],
   "source": [
    "answers"
   ]
  },
  {
   "cell_type": "code",
   "execution_count": 52,
   "metadata": {},
   "outputs": [
    {
     "name": "stdout",
     "output_type": "stream",
     "text": [
      "0 Apa Mikrohidro itu? : ['pembangkit listrik skala kecil yang menggunakan tenaga air sebagai tenaga penggeraknya seperti, saluran irigasi, sungai atau air terjun alam dengan cara memanfaatkan tinggi terjunan dan jumlah debit air', 'suatu pembangkit listrik skala kecil yang menggunakan tenaga air sebagai tenaga penggeraknya seperti, saluran irigasi, sungai atau air terjun alam dengan cara memanfaatkan tinggi terjunan dan jumlah debit air', 'pembangkit listrik skala kecil yang menggunakan tenaga air sebagai tenaga penggeraknya seperti, saluran irigasi'] 0.9632559724729386\n",
      "1 apa komponen mikrohidro? : ['tiga komponen utama yaitu air, turbin dan generator', 'utama yaitu air, turbin dan generator', 'pembangkit listrik skala kecil yang menggunakan tenaga air sebagai tenaga penggeraknya seperti, saluran irigasi, sungai atau air terjun alam dengan cara memanfaatkan tinggi terjunan dan jumlah debit air. Mikrohidro merupakan sebuah istilah yang terdiri dari kata mikro yang berarti kecil dan hidro yang berarti air. Secara teknis, mikrohidro memiliki tiga komponen utama yaitu air, turbin dan generator.'] 0.4158260892084368\n",
      "2 dimana Mikrohidro mendapatkan energi? : ['tenaga air sebagai tenaga penggeraknya seperti, saluran irigasi, sungai atau air terjun alam dengan cara memanfaatkan tinggi terjunan dan jumlah debit air', 'tenaga penggeraknya seperti, saluran irigasi, sungai atau air terjun alam dengan cara memanfaatkan tinggi terjunan dan jumlah debit air', 'Pembangkit Listrik Tenaga Mikrohidro (PLTMH), adalah suatu pembangkit listrik skala kecil yang menggunakan tenaga air sebagai tenaga penggeraknya seperti, saluran irigasi, sungai atau air terjun alam dengan cara memanfaatkan tinggi terjunan dan jumlah debit air.'] 0.43857864315566525\n"
     ]
    }
   ],
   "source": [
    "for i, answer in enumerate(answers):\n",
    "    print(i, to_predict2[0]['qas'][i]['question'], \":\", answer['answer'][:3], probabilities[i]['probability'][0])"
   ]
  },
  {
   "cell_type": "code",
   "execution_count": null,
   "metadata": {},
   "outputs": [],
   "source": []
  }
 ],
 "metadata": {
  "kernelspec": {
   "display_name": "Python 3",
   "language": "python",
   "name": "python3"
  },
  "language_info": {
   "codemirror_mode": {
    "name": "ipython",
    "version": 3
   },
   "file_extension": ".py",
   "mimetype": "text/x-python",
   "name": "python",
   "nbconvert_exporter": "python",
   "pygments_lexer": "ipython3",
   "version": "3.7.0"
  }
 },
 "nbformat": 4,
 "nbformat_minor": 4
}
