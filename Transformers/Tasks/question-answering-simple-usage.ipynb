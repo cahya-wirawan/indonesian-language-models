{
 "cells": [
  {
   "cell_type": "markdown",
   "metadata": {},
   "source": [
    "# Question and Answer"
   ]
  },
  {
   "cell_type": "code",
   "execution_count": 1,
   "metadata": {},
   "outputs": [],
   "source": [
    "import logging\n",
    "import json\n",
    "from simpletransformers.question_answering import QuestionAnsweringModel, QuestionAnsweringArgs"
   ]
  },
  {
   "cell_type": "code",
   "execution_count": 2,
   "metadata": {},
   "outputs": [],
   "source": [
    "# Configure the model\n",
    "model_args = QuestionAnsweringArgs()\n",
    "\n",
    "model = QuestionAnsweringModel(\n",
    "    \"bert\", \"cahya/bert-base-indonesian-tydiqa\", args=model_args\n",
    ")"
   ]
  },
  {
   "cell_type": "code",
   "execution_count": 3,
   "metadata": {},
   "outputs": [],
   "source": [
    "# Make predictions with the model\n",
    "to_predict = [\n",
    "    [\n",
    "        {\n",
    "            \"context\": \"Presiden Rorowilis adalah Presiden keseratus Indonesia. Beliau wafat dini hari tanggal 1 Agustus 2100.  Ketika itu beliau berusia 100 tahun. Presiden Rorowilis dimakamkan di Taman Kopo, Cirebon.\",\n",
    "            \"qas\": [\n",
    "                {\n",
    "                    \"question\": \"Kapan Presiden Rorowilis meninggal dunia?\",\n",
    "                    \"id\": \"0\",\n",
    "                },\n",
    "                {\n",
    "                    \"question\": \"dimana Presiden Rorowilis dikuburkan?\",\n",
    "                    \"id\": \"1\",\n",
    "                },\n",
    "                {\n",
    "                    \"question\": \"Siapakah Presiden Rorowilis?\",\n",
    "                    \"id\": \"2\",\n",
    "                },\n",
    "                {\n",
    "                    \"question\": \"Berapa umur Presiden Rorowilis ketika meninggal dunia?\",\n",
    "                    \"id\": \"3\",\n",
    "                }\n",
    "            ],\n",
    "        }\n",
    "    ],\n",
    "    [\n",
    "        {\n",
    "            \"context\": \"Mikrohidro atau yang dimaksud dengan Pembangkit Listrik Tenaga Mikrohidro (PLTMH), adalah suatu pembangkit listrik skala kecil yang menggunakan tenaga air sebagai tenaga penggeraknya seperti, saluran irigasi, sungai atau air terjun alam dengan cara memanfaatkan tinggi terjunan dan jumlah debit air. Mikrohidro merupakan sebuah istilah yang terdiri dari kata mikro yang berarti kecil dan hidro yang berarti air. Secara teknis, mikrohidro memiliki tiga komponen utama yaitu air, turbin dan generator. Mikrohidro mendapatkan energi dari aliran air yang memiliki perbedaan ketinggian tertentu.\",\n",
    "            \"qas\": [\n",
    "                {\n",
    "                    \"question\": \"Apa Mikrohidro itu?\",\n",
    "                    \"id\": \"0\",\n",
    "                },\n",
    "                {\n",
    "                    \"question\": \"apa komponen mikrohidro?\",\n",
    "                    \"id\": \"1\",\n",
    "                },\n",
    "                {\n",
    "                    \"question\": \"dimana Mikrohidro mendapatkan energi?\",\n",
    "                    \"id\": \"2\",\n",
    "                }\n",
    "            ],\n",
    "        }\n",
    "    ]\n",
    "\n",
    "]"
   ]
  },
  {
   "cell_type": "code",
   "execution_count": 4,
   "metadata": {},
   "outputs": [],
   "source": [
    "context_id = 0"
   ]
  },
  {
   "cell_type": "code",
   "execution_count": 5,
   "metadata": {},
   "outputs": [
    {
     "name": "stderr",
     "output_type": "stream",
     "text": [
      "convert squad examples to features:   0%|          | 0/4 [00:00<?, ?it/s]/root/Work/transformers/src/transformers/tokenization_utils_base.py:1321: FutureWarning: The `max_len` attribute has been deprecated and will be removed in a future version, use `model_max_length` instead.\n",
      "  FutureWarning,\n",
      "convert squad examples to features: 100%|██████████| 4/4 [00:00<00:00, 246.05it/s]\n",
      "add example index and unique id: 100%|██████████| 4/4 [00:00<00:00, 14966.29it/s]\n"
     ]
    },
    {
     "data": {
      "application/vnd.jupyter.widget-view+json": {
       "model_id": "d15ffa053e604256a90d4d0c1844200d",
       "version_major": 2,
       "version_minor": 0
      },
      "text/plain": [
       "HBox(children=(FloatProgress(value=0.0, description='Running Prediction', max=1.0, style=ProgressStyle(descrip…"
      ]
     },
     "metadata": {},
     "output_type": "display_data"
    },
    {
     "name": "stdout",
     "output_type": "stream",
     "text": [
      "\n"
     ]
    }
   ],
   "source": [
    "answers, probabilities = model.predict(to_predict[context_id])"
   ]
  },
  {
   "cell_type": "code",
   "execution_count": 6,
   "metadata": {},
   "outputs": [
    {
     "name": "stdout",
     "output_type": "stream",
     "text": [
      "Context: Presiden Rorowilis adalah Presiden keseratus Indonesia. Beliau wafat dini hari tanggal 1 Agustus 2100.  Ketika itu beliau berusia 100 tahun. Presiden Rorowilis dimakamkan di Taman Kopo, Cirebon.\n",
      "\n",
      "Q: Kapan Presiden Rorowilis meninggal dunia?\n",
      "A: 1 Agustus 2100.\n",
      "\n",
      "Q: dimana Presiden Rorowilis dikuburkan?\n",
      "A: Taman Kopo, Cirebon.\n",
      "\n",
      "Q: Siapakah Presiden Rorowilis?\n",
      "A: Presiden keseratus Indonesia. Beliau wafat dini hari tanggal 1 Agustus 2100. Ketika itu beliau berusia 100 tahun. Presiden Rorowilis dimakamkan di Taman Kopo, Cirebon.\n",
      "\n",
      "Q: Berapa umur Presiden Rorowilis ketika meninggal dunia?\n",
      "A: 100 tahun\n",
      "\n"
     ]
    }
   ],
   "source": [
    "print(\"Context: {}\\n\".format(to_predict[context_id][0]['context']))\n",
    "for id in range(len(to_predict[context_id][0]['qas'])):\n",
    "    print(\"Q: {}\".format(to_predict[context_id][0]['qas'][id]['question']))\n",
    "    print(\"A: {}\\n\".format(answers[id]['answer'][0]))"
   ]
  },
  {
   "cell_type": "code",
   "execution_count": null,
   "metadata": {},
   "outputs": [],
   "source": []
  }
 ],
 "metadata": {
  "kernelspec": {
   "display_name": "Python 3",
   "language": "python",
   "name": "python3"
  },
  "language_info": {
   "codemirror_mode": {
    "name": "ipython",
    "version": 3
   },
   "file_extension": ".py",
   "mimetype": "text/x-python",
   "name": "python",
   "nbconvert_exporter": "python",
   "pygments_lexer": "ipython3",
   "version": "3.7.0"
  }
 },
 "nbformat": 4,
 "nbformat_minor": 4
}
