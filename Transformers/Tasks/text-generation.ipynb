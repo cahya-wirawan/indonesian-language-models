{
 "cells": [
  {
   "cell_type": "markdown",
   "metadata": {},
   "source": [
    "# Text Generation with GPT2"
   ]
  },
  {
   "cell_type": "code",
   "execution_count": 1,
   "metadata": {},
   "outputs": [],
   "source": [
    "import torch\n",
    "from transformers import TFGPT2LMHeadModel, GPT2Tokenizer, GPT2LMHeadModel"
   ]
  },
  {
   "cell_type": "code",
   "execution_count": 2,
   "metadata": {},
   "outputs": [],
   "source": [
    "model_name = \"cahya/gpt2-small-indonesian-522M\""
   ]
  },
  {
   "cell_type": "code",
   "execution_count": 4,
   "metadata": {},
   "outputs": [],
   "source": [
    "tokenizer = GPT2Tokenizer.from_pretrained(f'{model_name}')\n",
    "\n",
    "# add the EOS token as PAD token to avoid warnings\n",
    "model = GPT2LMHeadModel.from_pretrained(f'{model_name}', pad_token_id=tokenizer.eos_token_id)"
   ]
  },
  {
   "cell_type": "markdown",
   "metadata": {},
   "source": [
    "## Text Generation"
   ]
  },
  {
   "cell_type": "code",
   "execution_count": 5,
   "metadata": {},
   "outputs": [],
   "source": [
    "input_sentences = [\n",
    "    'Alkisah pada jaman dahulu kala seekor babi tengah melintas di sebuah hutan belantara. Babi hutan itu sedang merasa kehausan di tengah panasnya terik matahari',\n",
    "    'Cirebon adalah sebuah kota kecil di Jawa Barat dengan keindahannya yang melebihi kota Bandung',\n",
    "    'Sriwijaya adalah salah satu kemaharajaan bahari yang pernah berdiri di pulau Sumatra dan banyak memberi pengaruh di Nusantara dengan daerah kekuasaan yang luas',\n",
    "    'Pantai berpasir putih ini cukup populer akhir-akhir ini karena menawarkan pemandangan yang begitu eksotis, indah dan mempesona',  \n",
    "]"
   ]
  },
  {
   "cell_type": "code",
   "execution_count": 6,
   "metadata": {},
   "outputs": [
    {
     "name": "stderr",
     "output_type": "stream",
     "text": [
      "Setting `pad_token_id` to 50256 (first `eos_token_id`) to generate sequence\n",
      "Setting `pad_token_id` to 50256 (first `eos_token_id`) to generate sequence\n"
     ]
    },
    {
     "name": "stdout",
     "output_type": "stream",
     "text": [
      "Output:\n",
      "----------------------------------------------------------------------------------------------------\n",
      "0: Alkisah pada jaman dahulu kala seekor babi tengah melintas di sebuah hutan belantara. Babi hutan itu sedang merasa kehausan di tengah panasnya terik matahari, karena itu ia pergi ke tengah hutan untuk mencari makanan. Kemudian ia kembali ke istana dan bertemu dengan seekor musang bernama Sang Hyang (Himala). Sang Hyang pun berjanji akan membiarkannya hidup sendirian. Sang Hyang pun pergi ke hutan untuk mencari makanannya. Setelah sampai di tengah hutan, Sang Hyang bertanya kepada istrinya, “ Wahai para dewa, aku akan menemukan makanan dan air yang dapat memenuhi kebutuhanmu. ” Sang Hyang kemudian menjelaskan mengapa sang dewi merasa haus darah dan kembali tertidur. Sang dewi marah dan tak sadarkan diri saat terbangun, tetapi Sang Hyang merasa ketakutan dan tertawa. Sang Hyang berteriak, ” \"Bagaimana jika ia berada pada\n"
     ]
    },
    {
     "name": "stderr",
     "output_type": "stream",
     "text": [
      "Setting `pad_token_id` to 50256 (first `eos_token_id`) to generate sequence\n"
     ]
    },
    {
     "name": "stdout",
     "output_type": "stream",
     "text": [
      "Output:\n",
      "----------------------------------------------------------------------------------------------------\n",
      "1: Cirebon adalah sebuah kota kecil di Jawa Barat dengan keindahannya yang melebihi kota Bandung, seperti kota-kota di Jawa Barat yang lainnya. Di Kota Cirebon, kota ini menjadi pusat perdagangan antaretnis antarabangsa Asia-Arab maupun Arab-Indonesia. Selain itu Kota Cirebon dikenal sebagai kota industri.\n",
      "Kota Cirebon memiliki banyak pelabuhan di sepanjang pantai utara Jawa dan Selat Sunda. Pelabuhan ini menghubungkan kota Cirebon dengan kota-kota lain di pulau Jawa. Kota Cirebon juga memiliki pelabuhan kapal laut di Selat Sunda, seperti Pelabuhan Banten dan Pelabuhan Lemahir di Laut Jawa. Pelabuhan Cirebon terdapat di kota Cirebon yang menghubungkan Pelabuhan Cirebon dengan Pelabuhan Pelabuhan Kalibagor (Pelabuhan Merak). Pelabuhan ini juga menjadi penghubung kapal terbesar untuk rute lintas samudera (kapal barang di Jawa. Pelabuhan Cirebon dikenal akan tiga pelabuhan\n"
     ]
    },
    {
     "name": "stderr",
     "output_type": "stream",
     "text": [
      "Setting `pad_token_id` to 50256 (first `eos_token_id`) to generate sequence\n"
     ]
    },
    {
     "name": "stdout",
     "output_type": "stream",
     "text": [
      "Output:\n",
      "----------------------------------------------------------------------------------------------------\n",
      "2: Sriwijaya adalah salah satu kemaharajaan bahari yang pernah berdiri di pulau Sumatra dan banyak memberi pengaruh di Nusantara dengan daerah kekuasaan yang luas, seperti kerajaan Melayu di pulau Sumatra dan Kesultanan Malaka di pulau Sumatra.\n",
      "Pada awal abad ke-14 Sriwijaya membangun benteng pertamanya di pulau Bintan yang disebut \" \"Bataram Lama\" \", yang disebut \" \"bataram\", yang kemudian digantikan oleh pemerintahan \"Mataram Lama\" \". \"Bataram Lama\" menjadi ibukota \" \"tujuh belas kerajaan yang meliputi wilayah laut dan laut di seluruh Nusantara.\n",
      "Dari catatan-catatan China yang diketahui dengan pasti Sriwijaya disebut di Prasasti Batu Gelang (atau \"Batu Tulis\"), Prasasti Padang Roco (nama lain dari Prasasti Batu Tulis), Prasasti Cindulungagung dan Prasasti Batu Barabai ), dan Prasasti\n",
      "Output:\n",
      "----------------------------------------------------------------------------------------------------\n",
      "3: Pantai berpasir putih ini cukup populer akhir-akhir ini karena menawarkan pemandangan yang begitu eksotis, indah dan mempesona, dengan pantai yang indah, seperti Pantai Pasir Putih, Pantai Pasir Putih, dan Pantai Tanjung Kelabit. Keunikan Pantai berpasir putih ini adalah pantainya yang alami dan indah yang ditumbuhi lumut-semut putih.\n",
      "Berada di pantai ini tak pernah terlepas dari aktivitas para nelayan karena letaknya yang strategis di pinggir jalan raya Pantura. Namun di pantai ini tidak pernah sepi dan terdapat banyak pedagang yang menjual hasil laut seperti kepiting, udang dll. Salah satunya adalah lobster air tawar \"(kerang)\" atau udang. Banyak pengunjung pantai berpasir putih yang menjual makanan laut ini dan menjualnya ke penjual ikan hias.\n",
      "\n",
      "Pantai pasir putih juga cukup potensial dikembangkan di sisi utara atau utara desa Pantai\n"
     ]
    }
   ],
   "source": [
    "# We set the seed manualy for reproducible result\n",
    "for i, sentence in enumerate(input_sentences):\n",
    "    torch.manual_seed(1)\n",
    "    input_ids = tokenizer.encode(sentence, return_tensors='pt')\n",
    "    sample_output = model.generate(\n",
    "        input_ids,\n",
    "        do_sample=True, \n",
    "        max_length=150, \n",
    "        top_k=50, \n",
    "        top_p=0.95\n",
    "    )\n",
    "    print(\"Output:\\n\" + 100 * '-')\n",
    "    print(\"{}: {}\".format(i, tokenizer.decode(sample_output[0], skip_special_tokens=True)))"
   ]
  }
 ],
 "metadata": {
  "kernelspec": {
   "display_name": "Python 3",
   "language": "python",
   "name": "python3"
  },
  "language_info": {
   "codemirror_mode": {
    "name": "ipython",
    "version": 3
   },
   "file_extension": ".py",
   "mimetype": "text/x-python",
   "name": "python",
   "nbconvert_exporter": "python",
   "pygments_lexer": "ipython3",
   "version": "3.7.7"
  }
 },
 "nbformat": 4,
 "nbformat_minor": 4
}